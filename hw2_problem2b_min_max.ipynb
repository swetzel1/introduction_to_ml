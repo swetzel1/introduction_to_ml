{
  "nbformat": 4,
  "nbformat_minor": 0,
  "metadata": {
    "colab": {
      "provenance": [],
      "authorship_tag": "ABX9TyM2tcOWUFoeU/AizIo+/lc8",
      "include_colab_link": true
    },
    "kernelspec": {
      "name": "python3",
      "display_name": "Python 3"
    },
    "language_info": {
      "name": "python"
    }
  },
  "cells": [
    {
      "cell_type": "markdown",
      "metadata": {
        "id": "view-in-github",
        "colab_type": "text"
      },
      "source": [
        "<a href=\"https://colab.research.google.com/github/swetzel1/introduction_to_ml/blob/main/hw2_problem2b_min_max.ipynb\" target=\"_parent\"><img src=\"https://colab.research.google.com/assets/colab-badge.svg\" alt=\"Open In Colab\"/></a>"
      ]
    },
    {
      "cell_type": "code",
      "execution_count": 21,
      "metadata": {
        "id": "B4gjrFHhLfUE",
        "colab": {
          "base_uri": "https://localhost:8080/"
        },
        "outputId": "b6359349-ff28-4606-97f1-1592134a2f46"
      },
      "outputs": [
        {
          "output_type": "stream",
          "name": "stdout",
          "text": [
            "Drive already mounted at /content/drive; to attempt to forcibly remount, call drive.mount(\"/content/drive\", force_remount=True).\n"
          ]
        }
      ],
      "source": [
        "import numpy as np\n",
        "import pandas as pd\n",
        "import matplotlib.pyplot as plt\n",
        "from google.colab import drive\n",
        "drive.mount('/content/drive')"
      ]
    },
    {
      "cell_type": "code",
      "source": [
        "#read data from csv file\n",
        "file_path = '/content/drive/My Drive/Intro_to_ML/Datasets/Housing.csv'\n",
        "df = pd.read_csv(file_path)\n",
        "\n",
        "from IPython.display import display\n",
        "#display(df)"
      ],
      "metadata": {
        "id": "lQWHxcjNMiD5"
      },
      "execution_count": 22,
      "outputs": []
    },
    {
      "cell_type": "code",
      "source": [
        "#Area, bedrooms, bathrooms, stories, mainroad, guestroom, basement, hotwaterheating, airconditioning, parking, prefarea\n",
        "varlist =  ['price', 'area', 'bedrooms', 'bathrooms', 'stories', 'mainroad', 'guestroom', 'basement', 'hotwaterheating', 'airconditioning', 'parking', 'prefarea']\n",
        "df = df[varlist]\n",
        "#df.head()"
      ],
      "metadata": {
        "id": "tB9NqRiYYfmQ"
      },
      "execution_count": 23,
      "outputs": []
    },
    {
      "cell_type": "code",
      "source": [
        "# List of variables to map\n",
        "\n",
        "varlist =  ['mainroad', 'guestroom', 'basement', 'hotwaterheating', 'airconditioning', 'prefarea']\n",
        "\n",
        "# Defining the map function\n",
        "def binary_map(x):\n",
        "    return x.map({'yes': 1, 'no': 0})\n",
        "\n",
        "# Applying the function to the housing list\n",
        "df[varlist] = df[varlist].apply(binary_map)\n",
        "#df.head()\n"
      ],
      "metadata": {
        "id": "3zo4CvMK-9Ku"
      },
      "execution_count": 24,
      "outputs": []
    },
    {
      "cell_type": "code",
      "source": [
        "from sklearn.preprocessing import MinMaxScaler\n",
        "scaler = MinMaxScaler()\n",
        "num_vars = ['area', 'bedrooms', 'bathrooms', 'stories', 'parking']\n",
        "\n",
        "df[num_vars] = scaler.fit_transform(df[num_vars])\n",
        "#df.head()"
      ],
      "metadata": {
        "id": "YfTaACYBfMAz"
      },
      "execution_count": 25,
      "outputs": []
    },
    {
      "cell_type": "code",
      "source": [
        "from sklearn.model_selection import train_test_split\n",
        "\n",
        "# We specify this so that the train and test data set always have the same rows, respectively\n",
        "np.random.seed(0)\n",
        "df_train, df_val = train_test_split(df, train_size = 0.8, test_size = 0.2, random_state = 100)"
      ],
      "metadata": {
        "id": "TnzJOsWiYiZa"
      },
      "execution_count": 26,
      "outputs": []
    },
    {
      "cell_type": "code",
      "source": [
        "y_train = df_train.pop('price') # seperate x from y\n",
        "y_val = df_val.pop('price')\n",
        "\n",
        "y_train = y_train.to_numpy() # convert to numpy array for matrix multiplication\n",
        "y_val = y_val.to_numpy()\n",
        "\n",
        "\n",
        "x_train = df_train.to_numpy()\n",
        "x_val = df_val.to_numpy()\n",
        "\n",
        "\n",
        "\n",
        "X_0 = np.ones((len(y_train), 1)) # put together input vector\n",
        "x_train = np.hstack((X_0, x_train))\n",
        "\n",
        "tmp = np.ones((len(x_val), 1))\n",
        "x_val = np.hstack((tmp, x_val))"
      ],
      "metadata": {
        "id": "6yA8n_DnguET"
      },
      "execution_count": 27,
      "outputs": []
    },
    {
      "cell_type": "code",
      "source": [
        "def compute_loss(X, y, theta):\n",
        "\n",
        "    m = len(y)\n",
        "\n",
        "    predictions = X.dot(theta)\n",
        "    errors = np.subtract(predictions, y)\n",
        "    sqrErrors = np.square(errors)\n",
        "    J = 1 / (2 * m) * np.sum(sqrErrors)\n",
        "    return J"
      ],
      "metadata": {
        "id": "77lpDmQ_TlyN"
      },
      "execution_count": 29,
      "outputs": []
    },
    {
      "cell_type": "code",
      "source": [
        "def gradient_descent(x_train, y_train, x_val, y_val, theta, alpha, iterations):\n",
        "\n",
        "    m = len(y_train)  # Number of training examples\n",
        "    training_loss_history = np.zeros(iterations)\n",
        "    validation_loss_history = np.zeros(iterations)\n",
        "\n",
        "\n",
        "    for i in range(iterations):\n",
        "\n",
        "        predictions = np.dot(x_train, theta)\n",
        "\n",
        "        theta = theta - (1/m)*alpha*(x_train.T.dot(predictions-y_train))\n",
        "\n",
        "        training_loss_history[i] = compute_loss(x_train, y_train, theta)\n",
        "        validation_loss_history[i] = compute_loss(x_val, y_val, theta)\n",
        "\n",
        "\n",
        "    return theta, training_loss_history, validation_loss_history"
      ],
      "metadata": {
        "id": "s7gbyg-B6cjS"
      },
      "execution_count": 30,
      "outputs": []
    },
    {
      "cell_type": "code",
      "source": [
        "def predict_value(x1,x2,x3, theta):\n",
        "  input = np.array([1, x1, x2, x3])\n",
        "  pred_val = input.dot(theta)\n",
        "\n",
        "  return pred_val"
      ],
      "metadata": {
        "id": "3tDJhPUQlovv"
      },
      "execution_count": 31,
      "outputs": []
    },
    {
      "cell_type": "code",
      "source": [
        "#run gradient decent\n",
        "\n",
        "theta = np.zeros(x_train.shape[1]) #initalize theta\n",
        "\n",
        "iterations = 200\n",
        "alpha = 0.1\n",
        "\n",
        "theta, training_loss_history, validation_loss_history = gradient_descent(x_train, y_train, x_val, y_val, theta, alpha, iterations)\n",
        "print('Final value of theta =', theta)\n",
        "#print('loss_history =', training_loss_history[:5], '...')"
      ],
      "metadata": {
        "colab": {
          "base_uri": "https://localhost:8080/"
        },
        "id": "1NT2y_kBVi3Z",
        "outputId": "f7662168-ad1a-4bae-cc71-7dd4d33adad3"
      },
      "execution_count": 41,
      "outputs": [
        {
          "output_type": "stream",
          "name": "stdout",
          "text": [
            "Final value of theta = [1740751.70459483 1481852.0619872  1090018.18373302 1661141.91667681\n",
            " 1327119.88316051  907141.30017804  542414.67183436  315602.47061775\n",
            "  715226.64971867 1055722.78398894 1056197.98779873  665045.79061488]\n"
          ]
        }
      ]
    },
    {
      "cell_type": "code",
      "source": [
        "# Plot the training and validation loss after each iteration\n",
        "plt.plot(training_loss_history, label=\"Training Loss\")\n",
        "plt.plot(validation_loss_history, label=\"Validation Loss\")\n",
        "plt.xlabel(\"Iteration\")\n",
        "plt.ylabel(\"Mean Squared Error\")\n",
        "plt.legend()\n",
        "plt.title(\"Training with min/max scaler\")\n",
        "plt.show()"
      ],
      "metadata": {
        "colab": {
          "base_uri": "https://localhost:8080/",
          "height": 472
        },
        "id": "dV1erspHlRus",
        "outputId": "90361c47-bb34-4de8-a423-0692d3497a91"
      },
      "execution_count": 42,
      "outputs": [
        {
          "output_type": "display_data",
          "data": {
            "text/plain": [
              "<Figure size 640x480 with 1 Axes>"
            ],
            "image/png": "[encoded data removed]"
          },
          "metadata": {}
        }
      ]
    }
  ]
}