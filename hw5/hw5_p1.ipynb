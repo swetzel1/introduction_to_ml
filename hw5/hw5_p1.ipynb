{
  "cells": [
    {
      "cell_type": "markdown",
      "metadata": {
        "id": "view-in-github",
        "colab_type": "text"
      },
      "source": [
        "<a href=\"https://colab.research.google.com/github/swetzel1/introduction_to_ml/blob/main/hw5/hw5_p1.ipynb\" target=\"_parent\"><img src=\"https://colab.research.google.com/assets/colab-badge.svg\" alt=\"Open In Colab\"/></a>"
      ]
    },
    {
      "cell_type": "code",
      "execution_count": null,
      "metadata": {
        "id": "zomZ7CXVy3Eh"
      },
      "outputs": [],
      "source": [
        "%matplotlib inline\n",
        "import numpy as np\n",
        "import torch\n",
        "torch.set_printoptions(edgeitems=2, linewidth=75)\n",
        "import torch.optim as optim\n",
        "import matplotlib.pyplot as plt"
      ]
    },
    {
      "cell_type": "code",
      "execution_count": null,
      "metadata": {
        "id": "FvRzmMBcy3Ei"
      },
      "outputs": [],
      "source": [
        "t_c = torch.tensor([0.5, 14.0, 15.0, 28.0, 11.0,\n",
        "                    8.0, 3.0, -4.0, 6.0, 13.0, 21.0])\n",
        "t_u = torch.tensor([35.7, 55.9, 58.2, 81.9, 56.3, 48.9,\n",
        "                    33.9, 21.8, 48.4, 60.4, 68.4])\n",
        "t_un = 0.1 * t_u"
      ]
    },
    {
      "cell_type": "markdown",
      "source": [
        "### Quadratic model - SGD optimizer - normalized input data"
      ],
      "metadata": {
        "id": "krwDG1-V__vw"
      }
    },
    {
      "cell_type": "code",
      "execution_count": null,
      "metadata": {
        "id": "GHGM2EB5y3Ej"
      },
      "outputs": [],
      "source": [
        "def model(t_u, w1, w2, b):\n",
        "    return w2 * t_u ** 2 + w1 * t_u + b #quadratic model"
      ]
    },
    {
      "cell_type": "code",
      "source": [
        "def lin_model(t_u, w, b):\n",
        "    return w * t_u + b"
      ],
      "metadata": {
        "id": "jswhzsw8IFrz"
      },
      "execution_count": null,
      "outputs": []
    },
    {
      "cell_type": "code",
      "execution_count": null,
      "metadata": {
        "id": "T0Wo_Bv2y3Ej"
      },
      "outputs": [],
      "source": [
        "def loss_fn(t_p, t_c):\n",
        "    squared_diffs = (t_p - t_c)**2\n",
        "    return squared_diffs.mean()"
      ]
    },
    {
      "cell_type": "code",
      "execution_count": null,
      "metadata": {
        "id": "7LH_xiwMy3El"
      },
      "outputs": [],
      "source": [
        "def training_loop(n_epochs, optimizer, params, t_u, t_c):\n",
        "    loss_history = np.zeros([2,250])\n",
        "    i = 0\n",
        "\n",
        "    for epoch in range(1, n_epochs + 1):\n",
        "        t_p = model(t_u, *params)\n",
        "        loss = loss_fn(t_p, t_c)\n",
        "\n",
        "        optimizer.zero_grad()\n",
        "        loss.backward()\n",
        "        optimizer.step()\n",
        "\n",
        "        if epoch % 500 == 0: #report loss every 500 epochs\n",
        "            print('Epoch %d, Loss %f' % (epoch, float(loss)))\n",
        "\n",
        "        if epoch % 20 == 0: # store loss every 20 epochs\n",
        "          loss_history[0][i] = epoch\n",
        "          loss_history[1][i] = float(loss)\n",
        "          i = i+1\n",
        "\n",
        "    return params, loss_history"
      ]
    },
    {
      "cell_type": "code",
      "execution_count": null,
      "metadata": {
        "colab": {
          "base_uri": "https://localhost:8080/"
        },
        "id": "o0J5QkLJy3El",
        "outputId": "b8cd9847-38e8-473e-9e98-649b824adb2c"
      },
      "outputs": [
        {
          "output_type": "stream",
          "name": "stdout",
          "text": [
            "Epoch 500, Loss 5.380125\n",
            "Epoch 1000, Loss 3.861909\n",
            "Epoch 1500, Loss 3.570068\n",
            "Epoch 2000, Loss 3.501500\n",
            "Epoch 2500, Loss 3.473751\n",
            "Epoch 3000, Loss 3.453630\n",
            "Epoch 3500, Loss 3.435097\n",
            "Epoch 4000, Loss 3.417055\n",
            "Epoch 4500, Loss 3.399295\n",
            "Epoch 5000, Loss 3.381780\n"
          ]
        }
      ],
      "source": [
        "params = torch.tensor([1.0, 1.0, 0.0], requires_grad=True) # extend params to fit model\n",
        "learning_rate = 5e-4\n",
        "optimizer = optim.SGD([params], lr=learning_rate) # SGD - vanilla gradient descent\n",
        "\n",
        "final_params, loss_history = training_loop(\n",
        "    n_epochs = 5000,\n",
        "    optimizer = optimizer,\n",
        "    params = params,\n",
        "    t_u = t_un, #use normalized input data\n",
        "    t_c = t_c)"
      ]
    },
    {
      "cell_type": "code",
      "source": [
        "print('Final model parameters:', final_params)"
      ],
      "metadata": {
        "colab": {
          "base_uri": "https://localhost:8080/"
        },
        "id": "xJc2hxU68nVM",
        "outputId": "8a27bc43-5961-4a5b-c1bd-c153b4111659"
      },
      "execution_count": null,
      "outputs": [
        {
          "output_type": "stream",
          "name": "stdout",
          "text": [
            "Final model parameters: tensor([-1.0958,  0.6066, -1.5411], requires_grad=True)\n"
          ]
        }
      ]
    },
    {
      "cell_type": "code",
      "source": [
        "plt.plot(loss_history[0], loss_history[1])\n",
        "plt.ylabel('loss')\n",
        "plt.xlabel('iterations')\n",
        "plt.title('Optimizer:SGD, learning rate:5e-4')"
      ],
      "metadata": {
        "colab": {
          "base_uri": "https://localhost:8080/",
          "height": 490
        },
        "id": "H0z7nglV2GS4",
        "outputId": "5bb1b224-e1be-49dc-d9fc-e44ad7c1d323"
      },
      "execution_count": null,
      "outputs": [
        {
          "output_type": "execute_result",
          "data": {
            "text/plain": [
              "Text(0.5, 1.0, 'Optimizer:SGD, learning rate:5e-4')"
            ]
          },
          "metadata": {},
          "execution_count": 122
        },
        {
          "output_type": "display_data",
          "data": {
            "text/plain": [
              "<Figure size 640x480 with 1 Axes>"
            ],
            "image/png": "[encoded data removed]"
          },
          "metadata": {}
        }
      ]
    },
    {
      "cell_type": "code",
      "source": [],
      "metadata": {
        "id": "H3jV8XdO9G7F"
      },
      "execution_count": null,
      "outputs": []
    },
    {
      "cell_type": "code",
      "execution_count": null,
      "metadata": {
        "colab": {
          "base_uri": "https://localhost:8080/"
        },
        "outputId": "392c9747-4d32-40a1-f55a-01455e5ddf4d",
        "id": "_KsrcTOR9NZi"
      },
      "outputs": [
        {
          "output_type": "stream",
          "name": "stdout",
          "text": [
            "SGD, learning rate: 0.0001\n",
            "Epoch 500, Loss 10.708596\n",
            "Epoch 1000, Loss 8.642083\n",
            "Epoch 1500, Loss 7.171005\n",
            "Epoch 2000, Loss 6.123478\n",
            "Epoch 2500, Loss 5.377227\n",
            "Epoch 3000, Loss 4.845286\n",
            "Epoch 3500, Loss 4.465788\n",
            "Epoch 4000, Loss 4.194724\n",
            "Epoch 4500, Loss 4.000802\n",
            "Epoch 5000, Loss 3.861744\n",
            "\n",
            "\n",
            "SGD, learning rate: 0.0006\n",
            "Epoch 500, Loss 4.847495\n",
            "Epoch 1000, Loss 3.689496\n",
            "Epoch 1500, Loss 3.519837\n",
            "Epoch 2000, Loss 3.478297\n",
            "Epoch 2500, Loss 3.453638\n",
            "Epoch 3000, Loss 3.431468\n",
            "Epoch 3500, Loss 3.409927\n",
            "Epoch 4000, Loss 3.388765\n",
            "Epoch 4500, Loss 3.367948\n",
            "Epoch 5000, Loss 3.347466\n",
            "\n",
            "\n",
            "SGD, learning rate: 0.0008\n",
            "Epoch 500, Loss 4.195781\n",
            "Epoch 1000, Loss 3.548735\n",
            "Epoch 1500, Loss 3.478307\n",
            "Epoch 2000, Loss 3.446147\n",
            "Epoch 2500, Loss 3.417074\n",
            "Epoch 3000, Loss 3.388778\n",
            "Epoch 3500, Loss 3.361097\n",
            "Epoch 4000, Loss 3.334007\n",
            "Epoch 4500, Loss 3.307492\n",
            "Epoch 5000, Loss 3.281543\n",
            "\n",
            "\n",
            "SGD, learning rate: 0.00085\n",
            "Epoch 500, Loss 5.357551\n",
            "Epoch 1000, Loss 3.534876\n",
            "Epoch 1500, Loss 3.471604\n",
            "Epoch 2000, Loss 3.438776\n",
            "Epoch 2500, Loss 3.408165\n",
            "Epoch 3000, Loss 3.378330\n",
            "Epoch 3500, Loss 3.349174\n",
            "Epoch 4000, Loss 3.320680\n",
            "Epoch 4500, Loss 3.292829\n",
            "Epoch 5000, Loss 3.265610\n",
            "\n",
            "\n"
          ]
        }
      ],
      "source": [
        "for lr in [1e-4, 6e-4, 8e-4, 8.5e-4]: # lr>=9e-4 results in non-converging loss\n",
        "\n",
        "  print('SGD, learning rate:',lr)\n",
        "  params = torch.tensor([1.0, 1.0, 0.0], requires_grad=True) # extend params to fit model\n",
        "  learning_rate = lr\n",
        "  optimizer = optim.SGD([params], lr=learning_rate) # SGD - vanilla gradient descent\n",
        "\n",
        "  final_params, loss_history = training_loop(\n",
        "      n_epochs = 5000,\n",
        "      optimizer = optimizer,\n",
        "      params = params,\n",
        "      t_u = t_un,\n",
        "      t_c = t_c)\n",
        "\n",
        "  print('\\n')"
      ]
    },
    {
      "cell_type": "markdown",
      "source": [
        "### Quadratic model - Adam optimizer - not normalized input data"
      ],
      "metadata": {
        "id": "wpazkochAaHh"
      }
    },
    {
      "cell_type": "code",
      "source": [
        "for lr in [0.1, 2e-2, 1e-2, 0.5]: #\n",
        "\n",
        "  print('Adam, learning rate:',lr)\n",
        "  params = torch.tensor([1.0, 1.0, 0.0], requires_grad=True) # extend params to fit model\n",
        "  learning_rate = lr\n",
        "  optimizer = optim.Adam([params], lr=learning_rate) # Adam\n",
        "\n",
        "  final_params, loss_history = training_loop(\n",
        "      n_epochs = 5000,\n",
        "      optimizer = optimizer,\n",
        "      params = params,\n",
        "      t_u = t_u, #use original data\n",
        "      t_c = t_c)\n",
        "\n",
        "  #fig = plt.figure()\n",
        "  #plt.plot(loss_history[0], loss_history[1])\n",
        "  #plt.ylabel('loss')\n",
        "  #plt.xlabel('iterations')\n",
        "  #plt.title('')\n",
        "\n",
        "  print('\\n')"
      ],
      "metadata": {
        "colab": {
          "base_uri": "https://localhost:8080/"
        },
        "id": "vFhIsmeiA6h_",
        "outputId": "7a7e2ef0-406a-41ef-9f98-b05314492638"
      },
      "execution_count": null,
      "outputs": [
        {
          "output_type": "stream",
          "name": "stdout",
          "text": [
            "Adam, learning rate: 0.1\n",
            "Epoch 500, Loss 4.844501\n",
            "Epoch 1000, Loss 3.785644\n",
            "Epoch 1500, Loss 3.466676\n",
            "Epoch 2000, Loss 3.406405\n",
            "Epoch 2500, Loss 3.377975\n",
            "Epoch 3000, Loss 3.344335\n",
            "Epoch 3500, Loss 3.301921\n",
            "Epoch 4000, Loss 3.249141\n",
            "Epoch 4500, Loss 3.184418\n",
            "Epoch 5000, Loss 3.106353\n",
            "\n",
            "\n",
            "Adam, learning rate: 0.02\n",
            "Epoch 500, Loss 5.994553\n",
            "Epoch 1000, Loss 5.663884\n",
            "Epoch 1500, Loss 5.247040\n",
            "Epoch 2000, Loss 4.795770\n",
            "Epoch 2500, Loss 4.362570\n",
            "Epoch 3000, Loss 3.994728\n",
            "Epoch 3500, Loss 3.723051\n",
            "Epoch 4000, Loss 3.552679\n",
            "Epoch 4500, Loss 3.463590\n",
            "Epoch 5000, Loss 3.423093\n",
            "\n",
            "\n",
            "Adam, learning rate: 0.01\n",
            "Epoch 500, Loss 6.108693\n",
            "Epoch 1000, Loss 5.984358\n",
            "Epoch 1500, Loss 5.809032\n",
            "Epoch 2000, Loss 5.586317\n",
            "Epoch 2500, Loss 5.320902\n",
            "Epoch 3000, Loss 5.021267\n",
            "Epoch 3500, Loss 4.701309\n",
            "Epoch 4000, Loss 4.380754\n",
            "Epoch 4500, Loss 4.083409\n",
            "Epoch 5000, Loss 3.832656\n",
            "\n",
            "\n",
            "Adam, learning rate: 0.5\n",
            "Epoch 500, Loss 3.470972\n",
            "Epoch 1000, Loss 3.369133\n",
            "Epoch 1500, Loss 3.289435\n",
            "Epoch 2000, Loss 3.187369\n",
            "Epoch 2500, Loss 3.064371\n",
            "Epoch 3000, Loss 2.923462\n",
            "Epoch 3500, Loss 2.792620\n",
            "Epoch 4000, Loss 3.522834\n",
            "Epoch 4500, Loss 29.497511\n",
            "Epoch 5000, Loss 2.513976\n",
            "\n",
            "\n"
          ]
        }
      ]
    },
    {
      "cell_type": "code",
      "source": [
        "print('Final model parameters:', final_params)"
      ],
      "metadata": {
        "colab": {
          "base_uri": "https://localhost:8080/"
        },
        "id": "JE0IrFxnF8Om",
        "outputId": "1d608685-b495-4d83-dbc5-72ee47dbdde5"
      },
      "execution_count": null,
      "outputs": [
        {
          "output_type": "stream",
          "name": "stdout",
          "text": [
            "Final model parameters: tensor([ 4.3812e-02,  4.6928e-03, -5.4357e+00], requires_grad=True)\n"
          ]
        }
      ]
    },
    {
      "cell_type": "code",
      "source": [
        "t_p = model(t_u, *params)\n",
        "\n",
        "fig = plt.figure()\n",
        "plt.xlabel(\"Temperature (°Fahrenheit)\")\n",
        "plt.ylabel(\"Temperature (°Celsius)\")\n",
        "plt.plot(t_u.numpy(), t_p.detach().numpy(), '+')\n",
        "plt.plot(t_u.numpy(), t_c.numpy(), 'o')"
      ],
      "metadata": {
        "colab": {
          "base_uri": "https://localhost:8080/",
          "height": 467
        },
        "id": "_g7tA70mGIt1",
        "outputId": "1a341b0b-09f2-4214-d4d8-c7b918b1c213"
      },
      "execution_count": null,
      "outputs": [
        {
          "output_type": "execute_result",
          "data": {
            "text/plain": [
              "[<matplotlib.lines.Line2D at 0x7c2d4c914910>]"
            ]
          },
          "metadata": {},
          "execution_count": 126
        },
        {
          "output_type": "display_data",
          "data": {
            "text/plain": [
              "<Figure size 640x480 with 1 Axes>"
            ],
            "image/png": "[encoded data removed]"
          },
          "metadata": {}
        }
      ]
    },
    {
      "cell_type": "code",
      "source": [],
      "metadata": {
        "id": "pGDlU2YRGIkd"
      },
      "execution_count": null,
      "outputs": []
    }
  ],
  "metadata": {
    "kernelspec": {
      "display_name": "Python 3",
      "language": "python",
      "name": "python3"
    },
    "language_info": {
      "codemirror_mode": {
        "name": "ipython",
        "version": 3
      },
      "file_extension": ".py",
      "mimetype": "text/x-python",
      "name": "python",
      "nbconvert_exporter": "python",
      "pygments_lexer": "ipython3",
      "version": "3.7.6"
    },
    "colab": {
      "provenance": [],
      "include_colab_link": true
    }
  },
  "nbformat": 4,
  "nbformat_minor": 0
}