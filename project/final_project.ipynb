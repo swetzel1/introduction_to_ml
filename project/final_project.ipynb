{
  "cells": [
    {
      "cell_type": "markdown",
      "metadata": {
        "id": "view-in-github",
        "colab_type": "text"
      },
      "source": [
        "<a href=\"https://colab.research.google.com/github/swetzel1/introduction_to_ml/blob/main/project/final_project.ipynb\" target=\"_parent\"><img src=\"https://colab.research.google.com/assets/colab-badge.svg\" alt=\"Open In Colab\"/></a>"
      ]
    },
    {
      "cell_type": "markdown",
      "metadata": {
        "id": "kGpoGHqaEnm1"
      },
      "source": [
        "# Physical Activity Monitoring\n"
      ]
    },
    {
      "cell_type": "code",
      "execution_count": null,
      "metadata": {
        "id": "UNYWTkWLjDvB"
      },
      "outputs": [],
      "source": [
        "#load libraries\n",
        "\n",
        "import numpy as np\n",
        "import pandas as pd\n",
        "import seaborn as sns\n",
        "\n",
        "from pandas.plotting import scatter_matrix\n",
        "\n",
        "from imblearn.over_sampling   import SMOTE\n",
        "from imblearn.under_sampling  import RandomUnderSampler\n",
        "\n",
        "from matplotlib import pyplot as plt\n",
        "\n",
        "from joblib import dump, load\n",
        "\n",
        "from sklearn.preprocessing    import MinMaxScaler\n",
        "from sklearn.model_selection  import train_test_split\n",
        "from sklearn.preprocessing    import StandardScaler\n",
        "from sklearn                  import metrics\n",
        "from sklearn.decomposition    import PCA\n",
        "from sklearn.linear_model     import LogisticRegression\n",
        "from sklearn.naive_bayes      import GaussianNB\n",
        "from sklearn.ensemble         import RandomForestClassifier\n",
        "from sklearn.svm              import SVC\n",
        "from sklearn.metrics          import confusion_matrix"
      ]
    },
    {
      "cell_type": "code",
      "execution_count": null,
      "metadata": {
        "colab": {
          "base_uri": "https://localhost:8080/"
        },
        "id": "CXFErGfvLZNt",
        "outputId": "d2a756b6-4519-4b6f-ee5e-99a510fb3539"
      },
      "outputs": [
        {
          "output_type": "stream",
          "name": "stdout",
          "text": [
            "Mounted at /content/drive\n"
          ]
        }
      ],
      "source": [
        "from google.colab import drive\n",
        "drive.mount('/content/drive')"
      ]
    },
    {
      "cell_type": "markdown",
      "metadata": {
        "id": "KZ_rWib9EgST"
      },
      "source": [
        "## Load Data"
      ]
    },
    {
      "cell_type": "code",
      "execution_count": null,
      "metadata": {
        "id": "iirKvICK-Ra-"
      },
      "outputs": [],
      "source": [
        "#folder_structure = '/content/drive/My Drive/Intro_to_ML/final_project/dataset/' #change this to your correspoding folder\n",
        "#folder_structure = '/content/drive/My Drive/final_project/dataset/' #Emilias link\n",
        "folder_structure = '/content/drive/My Drive/IntroML/CSVFiles/dataset/' #Tim's Link\n",
        "\n",
        "file_names = ['subject101.dat',\n",
        "              'subject102.dat',\n",
        "              'subject103.dat',\n",
        "              'subject104.dat',\n",
        "              'subject105.dat',\n",
        "              'subject106.dat',\n",
        "              'subject107.dat',\n",
        "              'subject108.dat',\n",
        "              'subject109.dat' ]"
      ]
    },
    {
      "cell_type": "code",
      "execution_count": null,
      "metadata": {
        "id": "ssrhwAt0-TIn"
      },
      "outputs": [],
      "source": [
        "file_names = [folder_structure + name for name in file_names ]"
      ]
    },
    {
      "cell_type": "code",
      "execution_count": null,
      "metadata": {
        "colab": {
          "base_uri": "https://localhost:8080/"
        },
        "id": "wBB2Un4g2WLp",
        "outputId": "00790d96-61e0-4c88-810c-f26348d50645"
      },
      "outputs": [
        {
          "output_type": "execute_result",
          "data": {
            "text/plain": [
              "54"
            ]
          },
          "metadata": {},
          "execution_count": 5
        }
      ],
      "source": [
        "subject_id = [1,2,3,4,5,6,7,8,9]\n",
        "\n",
        "activity_id_dict = {0: 'transient',\n",
        "                    1: 'lying',\n",
        "                    2: 'sitting',\n",
        "                    3: 'standing',\n",
        "                    4: 'walking',\n",
        "                    5: 'running',\n",
        "                    6: 'cycling',\n",
        "                    7: 'Nordic_walking',\n",
        "                    9: 'watching_TV',\n",
        "                    10: 'computer_work',\n",
        "                    11: 'car driving',\n",
        "                    12: 'ascending_stairs',\n",
        "                    13: 'descending_stairs',\n",
        "                    16: 'vacuum_cleaning',\n",
        "                    17: 'ironing',\n",
        "                    18: 'folding_laundry',\n",
        "                    19: 'house_cleaning',\n",
        "                    20: 'playing_soccer',\n",
        "                    24: 'rope_jumping' }\n",
        "\n",
        "special_columns = [\"timestamp\", \"activity_id\",\"heartrate\"]\n",
        "\n",
        "\n",
        "imu_hand = ['hand_temperature',\n",
        "            'hand_Acc6_1',       'hand_Acc6_2',        'hand_Acc6_3',\n",
        "            'hand_Acc16_1',      'hand_Acc16_2',       'hand_Acc16_3',\n",
        "            'hand_Gyro1',        'hand_Gyro2',         'hand_Gyro3',\n",
        "            'hand_Magne1',       'hand_Magne2',        'hand_Magne3',\n",
        "            'hand_Orientation1', 'hand_Orientation2',  'hand_Orientation3', 'hand_Orientation4']\n",
        "\n",
        "imu_chest = ['chest_temperature',\n",
        "             'chest_Acc16_1',       'chest_Acc16_2',      'chest_Acc16_3',\n",
        "             'chest_Acc6_1',        'chest_Acc6_2',       'chest_Acc6_3',\n",
        "             'chest_Gyro1',         'chest_Gyro2',        'chest_Gyro3',\n",
        "             'chest_Magne1',        'chest_Magne2',       'chest_Magne3',\n",
        "             'chest_Orientation1',  'chest_Orientation2', 'chest_Orientation3', 'chest_Orientation4']\n",
        "\n",
        "imu_ankle = ['ankle_temperature',\n",
        "           'ankle_Acc16_1',       'ankle_Acc16_2',      'ankle_Acc16_3',\n",
        "           'ankle_Acc6_1',        'ankle_Acc6_2',       'ankle_Acc6_3',\n",
        "           'ankle_Gyro1',         'ankle_Gyro2',        'ankle_Gyro3',\n",
        "           'ankle_Magne1',        'ankle_Magne2',       'ankle_Magne3',\n",
        "           'ankle_Orientation1',  'ankle_Orientation2', 'ankle_Orientation3', 'ankle_Orientation4']\n",
        "\n",
        "columns = special_columns + imu_hand + imu_chest + imu_ankle  #put columns in one list\n",
        "\n",
        "len(columns)"
      ]
    },
    {
      "cell_type": "code",
      "execution_count": null,
      "metadata": {
        "colab": {
          "base_uri": "https://localhost:8080/",
          "height": 255
        },
        "id": "_P89LphZ9Prd",
        "outputId": "f4815f57-569f-4b24-a5e5-459c20d0af06"
      },
      "outputs": [
        {
          "output_type": "execute_result",
          "data": {
            "text/plain": [
              "   timestamp  activity_id  heartrate  hand_temperature  hand_Acc6_1  \\\n",
              "0       8.38            0      104.0              30.0      2.37223   \n",
              "1       8.39            0        NaN              30.0      2.18837   \n",
              "2       8.40            0        NaN              30.0      2.37357   \n",
              "3       8.41            0        NaN              30.0      2.07473   \n",
              "4       8.42            0        NaN              30.0      2.22936   \n",
              "\n",
              "   hand_Acc6_2  hand_Acc6_3  hand_Acc16_1  hand_Acc16_2  hand_Acc16_3  ...  \\\n",
              "0      8.60074      3.51048       2.43954       8.76165       3.35465  ...   \n",
              "1      8.56560      3.66179       2.39494       8.55081       3.64207  ...   \n",
              "2      8.60107      3.54898       2.30514       8.53644       3.73280  ...   \n",
              "3      8.52853      3.66021       2.33528       8.53622       3.73277  ...   \n",
              "4      8.83122      3.70000       2.23055       8.59741       3.76295  ...   \n",
              "\n",
              "   ankle_Gyro2  ankle_Gyro3  ankle_Magne1  ankle_Magne2  ankle_Magne3  \\\n",
              "0     0.009250    -0.017580      -61.1888      -38.9599      -58.1438   \n",
              "1    -0.004638     0.000368      -59.8479      -38.8919      -58.5253   \n",
              "2     0.000148     0.022495      -60.7361      -39.4138      -58.3999   \n",
              "3    -0.020301     0.011275      -60.4091      -38.7635      -58.3956   \n",
              "4    -0.014303    -0.002823      -61.5199      -39.3879      -58.2694   \n",
              "\n",
              "   ankle_Orientation1  ankle_Orientation2  ankle_Orientation3  \\\n",
              "0                 1.0                 0.0                 0.0   \n",
              "1                 1.0                 0.0                 0.0   \n",
              "2                 1.0                 0.0                 0.0   \n",
              "3                 1.0                 0.0                 0.0   \n",
              "4                 1.0                 0.0                 0.0   \n",
              "\n",
              "   ankle_Orientation4  subject_id  \n",
              "0                 0.0           1  \n",
              "1                 0.0           1  \n",
              "2                 0.0           1  \n",
              "3                 0.0           1  \n",
              "4                 0.0           1  \n",
              "\n",
              "[5 rows x 55 columns]"
            ],
            "text/html": [
              "\n",
              "  <div id=\"df-05b96aa8-98b3-49d1-a0ea-a14dd2ac9a32\" class=\"colab-df-container\">\n",
              "    <div>\n",
              "<style scoped>\n",
              "    .dataframe tbody tr th:only-of-type {\n",
              "        vertical-align: middle;\n",
              "    }\n",
              "\n",
              "    .dataframe tbody tr th {\n",
              "        vertical-align: top;\n",
              "    }\n",
              "\n",
              "    .dataframe thead th {\n",
              "        text-align: right;\n",
              "    }\n",
              "</style>\n",
              "<table border=\"1\" class=\"dataframe\">\n",
              "  <thead>\n",
              "    <tr style=\"text-align: right;\">\n",
              "      <th></th>\n",
              "      <th>timestamp</th>\n",
              "      <th>activity_id</th>\n",
              "      <th>heartrate</th>\n",
              "      <th>hand_temperature</th>\n",
              "      <th>hand_Acc6_1</th>\n",
              "      <th>hand_Acc6_2</th>\n",
              "      <th>hand_Acc6_3</th>\n",
              "      <th>hand_Acc16_1</th>\n",
              "      <th>hand_Acc16_2</th>\n",
              "      <th>hand_Acc16_3</th>\n",
              "      <th>...</th>\n",
              "      <th>ankle_Gyro2</th>\n",
              "      <th>ankle_Gyro3</th>\n",
              "      <th>ankle_Magne1</th>\n",
              "      <th>ankle_Magne2</th>\n",
              "      <th>ankle_Magne3</th>\n",
              "      <th>ankle_Orientation1</th>\n",
              "      <th>ankle_Orientation2</th>\n",
              "      <th>ankle_Orientation3</th>\n",
              "      <th>ankle_Orientation4</th>\n",
              "      <th>subject_id</th>\n",
              "    </tr>\n",
              "  </thead>\n",
              "  <tbody>\n",
              "    <tr>\n",
              "      <th>0</th>\n",
              "      <td>8.38</td>\n",
              "      <td>0</td>\n",
              "      <td>104.0</td>\n",
              "      <td>30.0</td>\n",
              "      <td>2.37223</td>\n",
              "      <td>8.60074</td>\n",
              "      <td>3.51048</td>\n",
              "      <td>2.43954</td>\n",
              "      <td>8.76165</td>\n",
              "      <td>3.35465</td>\n",
              "      <td>...</td>\n",
              "      <td>0.009250</td>\n",
              "      <td>-0.017580</td>\n",
              "      <td>-61.1888</td>\n",
              "      <td>-38.9599</td>\n",
              "      <td>-58.1438</td>\n",
              "      <td>1.0</td>\n",
              "      <td>0.0</td>\n",
              "      <td>0.0</td>\n",
              "      <td>0.0</td>\n",
              "      <td>1</td>\n",
              "    </tr>\n",
              "    <tr>\n",
              "      <th>1</th>\n",
              "      <td>8.39</td>\n",
              "      <td>0</td>\n",
              "      <td>NaN</td>\n",
              "      <td>30.0</td>\n",
              "      <td>2.18837</td>\n",
              "      <td>8.56560</td>\n",
              "      <td>3.66179</td>\n",
              "      <td>2.39494</td>\n",
              "      <td>8.55081</td>\n",
              "      <td>3.64207</td>\n",
              "      <td>...</td>\n",
              "      <td>-0.004638</td>\n",
              "      <td>0.000368</td>\n",
              "      <td>-59.8479</td>\n",
              "      <td>-38.8919</td>\n",
              "      <td>-58.5253</td>\n",
              "      <td>1.0</td>\n",
              "      <td>0.0</td>\n",
              "      <td>0.0</td>\n",
              "      <td>0.0</td>\n",
              "      <td>1</td>\n",
              "    </tr>\n",
              "    <tr>\n",
              "      <th>2</th>\n",
              "      <td>8.40</td>\n",
              "      <td>0</td>\n",
              "      <td>NaN</td>\n",
              "      <td>30.0</td>\n",
              "      <td>2.37357</td>\n",
              "      <td>8.60107</td>\n",
              "      <td>3.54898</td>\n",
              "      <td>2.30514</td>\n",
              "      <td>8.53644</td>\n",
              "      <td>3.73280</td>\n",
              "      <td>...</td>\n",
              "      <td>0.000148</td>\n",
              "      <td>0.022495</td>\n",
              "      <td>-60.7361</td>\n",
              "      <td>-39.4138</td>\n",
              "      <td>-58.3999</td>\n",
              "      <td>1.0</td>\n",
              "      <td>0.0</td>\n",
              "      <td>0.0</td>\n",
              "      <td>0.0</td>\n",
              "      <td>1</td>\n",
              "    </tr>\n",
              "    <tr>\n",
              "      <th>3</th>\n",
              "      <td>8.41</td>\n",
              "      <td>0</td>\n",
              "      <td>NaN</td>\n",
              "      <td>30.0</td>\n",
              "      <td>2.07473</td>\n",
              "      <td>8.52853</td>\n",
              "      <td>3.66021</td>\n",
              "      <td>2.33528</td>\n",
              "      <td>8.53622</td>\n",
              "      <td>3.73277</td>\n",
              "      <td>...</td>\n",
              "      <td>-0.020301</td>\n",
              "      <td>0.011275</td>\n",
              "      <td>-60.4091</td>\n",
              "      <td>-38.7635</td>\n",
              "      <td>-58.3956</td>\n",
              "      <td>1.0</td>\n",
              "      <td>0.0</td>\n",
              "      <td>0.0</td>\n",
              "      <td>0.0</td>\n",
              "      <td>1</td>\n",
              "    </tr>\n",
              "    <tr>\n",
              "      <th>4</th>\n",
              "      <td>8.42</td>\n",
              "      <td>0</td>\n",
              "      <td>NaN</td>\n",
              "      <td>30.0</td>\n",
              "      <td>2.22936</td>\n",
              "      <td>8.83122</td>\n",
              "      <td>3.70000</td>\n",
              "      <td>2.23055</td>\n",
              "      <td>8.59741</td>\n",
              "      <td>3.76295</td>\n",
              "      <td>...</td>\n",
              "      <td>-0.014303</td>\n",
              "      <td>-0.002823</td>\n",
              "      <td>-61.5199</td>\n",
              "      <td>-39.3879</td>\n",
              "      <td>-58.2694</td>\n",
              "      <td>1.0</td>\n",
              "      <td>0.0</td>\n",
              "      <td>0.0</td>\n",
              "      <td>0.0</td>\n",
              "      <td>1</td>\n",
              "    </tr>\n",
              "  </tbody>\n",
              "</table>\n",
              "<p>5 rows × 55 columns</p>\n",
              "</div>\n",
              "    <div class=\"colab-df-buttons\">\n",
              "\n",
              "  <div class=\"colab-df-container\">\n",
              "    <button class=\"colab-df-convert\" onclick=\"convertToInteractive('df-05b96aa8-98b3-49d1-a0ea-a14dd2ac9a32')\"\n",
              "            title=\"Convert this dataframe to an interactive table.\"\n",
              "            style=\"display:none;\">\n",
              "\n",
              "  <svg xmlns=\"http://www.w3.org/2000/svg\" height=\"24px\" viewBox=\"0 -960 960 960\">\n",
              "    <path d=\"M120-120v-720h720v720H120Zm60-500h600v-160H180v160Zm220 220h160v-160H400v160Zm0 220h160v-160H400v160ZM180-400h160v-160H180v160Zm440 0h160v-160H620v160ZM180-180h160v-160H180v160Zm440 0h160v-160H620v160Z\"/>\n",
              "  </svg>\n",
              "    </button>\n",
              "\n",
              "  <style>\n",
              "    .colab-df-container {\n",
              "      display:flex;\n",
              "      gap: 12px;\n",
              "    }\n",
              "\n",
              "    .colab-df-convert {\n",
              "      background-color: #E8F0FE;\n",
              "      border: none;\n",
              "      border-radius: 50%;\n",
              "      cursor: pointer;\n",
              "      display: none;\n",
              "      fill: #1967D2;\n",
              "      height: 32px;\n",
              "      padding: 0 0 0 0;\n",
              "      width: 32px;\n",
              "    }\n",
              "\n",
              "    .colab-df-convert:hover {\n",
              "      background-color: #E2EBFA;\n",
              "      box-shadow: 0px 1px 2px rgba(60, 64, 67, 0.3), 0px 1px 3px 1px rgba(60, 64, 67, 0.15);\n",
              "      fill: #174EA6;\n",
              "    }\n",
              "\n",
              "    .colab-df-buttons div {\n",
              "      margin-bottom: 4px;\n",
              "    }\n",
              "\n",
              "    [theme=dark] .colab-df-convert {\n",
              "      background-color: #3B4455;\n",
              "      fill: #D2E3FC;\n",
              "    }\n",
              "\n",
              "    [theme=dark] .colab-df-convert:hover {\n",
              "      background-color: #434B5C;\n",
              "      box-shadow: 0px 1px 3px 1px rgba(0, 0, 0, 0.15);\n",
              "      filter: drop-shadow(0px 1px 2px rgba(0, 0, 0, 0.3));\n",
              "      fill: #FFFFFF;\n",
              "    }\n",
              "  </style>\n",
              "\n",
              "    <script>\n",
              "      const buttonEl =\n",
              "        document.querySelector('#df-05b96aa8-98b3-49d1-a0ea-a14dd2ac9a32 button.colab-df-convert');\n",
              "      buttonEl.style.display =\n",
              "        google.colab.kernel.accessAllowed ? 'block' : 'none';\n",
              "\n",
              "      async function convertToInteractive(key) {\n",
              "        const element = document.querySelector('#df-05b96aa8-98b3-49d1-a0ea-a14dd2ac9a32');\n",
              "        const dataTable =\n",
              "          await google.colab.kernel.invokeFunction('convertToInteractive',\n",
              "                                                    [key], {});\n",
              "        if (!dataTable) return;\n",
              "\n",
              "        const docLinkHtml = 'Like what you see? Visit the ' +\n",
              "          '<a target=\"_blank\" href=https://colab.research.google.com/notebooks/data_table.ipynb>data table notebook</a>'\n",
              "          + ' to learn more about interactive tables.';\n",
              "        element.innerHTML = '';\n",
              "        dataTable['output_type'] = 'display_data';\n",
              "        await google.colab.output.renderOutput(dataTable, element);\n",
              "        const docLink = document.createElement('div');\n",
              "        docLink.innerHTML = docLinkHtml;\n",
              "        element.appendChild(docLink);\n",
              "      }\n",
              "    </script>\n",
              "  </div>\n",
              "\n",
              "\n",
              "<div id=\"df-2e8929e1-f8a2-44ac-88b8-234ce0dede76\">\n",
              "  <button class=\"colab-df-quickchart\" onclick=\"quickchart('df-2e8929e1-f8a2-44ac-88b8-234ce0dede76')\"\n",
              "            title=\"Suggest charts\"\n",
              "            style=\"display:none;\">\n",
              "\n",
              "<svg xmlns=\"http://www.w3.org/2000/svg\" height=\"24px\"viewBox=\"0 0 24 24\"\n",
              "     width=\"24px\">\n",
              "    <g>\n",
              "        <path d=\"M19 3H5c-1.1 0-2 .9-2 2v14c0 1.1.9 2 2 2h14c1.1 0 2-.9 2-2V5c0-1.1-.9-2-2-2zM9 17H7v-7h2v7zm4 0h-2V7h2v10zm4 0h-2v-4h2v4z\"/>\n",
              "    </g>\n",
              "</svg>\n",
              "  </button>\n",
              "\n",
              "<style>\n",
              "  .colab-df-quickchart {\n",
              "      --bg-color: #E8F0FE;\n",
              "      --fill-color: #1967D2;\n",
              "      --hover-bg-color: #E2EBFA;\n",
              "      --hover-fill-color: #174EA6;\n",
              "      --disabled-fill-color: #AAA;\n",
              "      --disabled-bg-color: #DDD;\n",
              "  }\n",
              "\n",
              "  [theme=dark] .colab-df-quickchart {\n",
              "      --bg-color: #3B4455;\n",
              "      --fill-color: #D2E3FC;\n",
              "      --hover-bg-color: #434B5C;\n",
              "      --hover-fill-color: #FFFFFF;\n",
              "      --disabled-bg-color: #3B4455;\n",
              "      --disabled-fill-color: #666;\n",
              "  }\n",
              "\n",
              "  .colab-df-quickchart {\n",
              "    background-color: var(--bg-color);\n",
              "    border: none;\n",
              "    border-radius: 50%;\n",
              "    cursor: pointer;\n",
              "    display: none;\n",
              "    fill: var(--fill-color);\n",
              "    height: 32px;\n",
              "    padding: 0;\n",
              "    width: 32px;\n",
              "  }\n",
              "\n",
              "  .colab-df-quickchart:hover {\n",
              "    background-color: var(--hover-bg-color);\n",
              "    box-shadow: 0 1px 2px rgba(60, 64, 67, 0.3), 0 1px 3px 1px rgba(60, 64, 67, 0.15);\n",
              "    fill: var(--button-hover-fill-color);\n",
              "  }\n",
              "\n",
              "  .colab-df-quickchart-complete:disabled,\n",
              "  .colab-df-quickchart-complete:disabled:hover {\n",
              "    background-color: var(--disabled-bg-color);\n",
              "    fill: var(--disabled-fill-color);\n",
              "    box-shadow: none;\n",
              "  }\n",
              "\n",
              "  .colab-df-spinner {\n",
              "    border: 2px solid var(--fill-color);\n",
              "    border-color: transparent;\n",
              "    border-bottom-color: var(--fill-color);\n",
              "    animation:\n",
              "      spin 1s steps(1) infinite;\n",
              "  }\n",
              "\n",
              "  @keyframes spin {\n",
              "    0% {\n",
              "      border-color: transparent;\n",
              "      border-bottom-color: var(--fill-color);\n",
              "      border-left-color: var(--fill-color);\n",
              "    }\n",
              "    20% {\n",
              "      border-color: transparent;\n",
              "      border-left-color: var(--fill-color);\n",
              "      border-top-color: var(--fill-color);\n",
              "    }\n",
              "    30% {\n",
              "      border-color: transparent;\n",
              "      border-left-color: var(--fill-color);\n",
              "      border-top-color: var(--fill-color);\n",
              "      border-right-color: var(--fill-color);\n",
              "    }\n",
              "    40% {\n",
              "      border-color: transparent;\n",
              "      border-right-color: var(--fill-color);\n",
              "      border-top-color: var(--fill-color);\n",
              "    }\n",
              "    60% {\n",
              "      border-color: transparent;\n",
              "      border-right-color: var(--fill-color);\n",
              "    }\n",
              "    80% {\n",
              "      border-color: transparent;\n",
              "      border-right-color: var(--fill-color);\n",
              "      border-bottom-color: var(--fill-color);\n",
              "    }\n",
              "    90% {\n",
              "      border-color: transparent;\n",
              "      border-bottom-color: var(--fill-color);\n",
              "    }\n",
              "  }\n",
              "</style>\n",
              "\n",
              "  <script>\n",
              "    async function quickchart(key) {\n",
              "      const quickchartButtonEl =\n",
              "        document.querySelector('#' + key + ' button');\n",
              "      quickchartButtonEl.disabled = true;  // To prevent multiple clicks.\n",
              "      quickchartButtonEl.classList.add('colab-df-spinner');\n",
              "      try {\n",
              "        const charts = await google.colab.kernel.invokeFunction(\n",
              "            'suggestCharts', [key], {});\n",
              "      } catch (error) {\n",
              "        console.error('Error during call to suggestCharts:', error);\n",
              "      }\n",
              "      quickchartButtonEl.classList.remove('colab-df-spinner');\n",
              "      quickchartButtonEl.classList.add('colab-df-quickchart-complete');\n",
              "    }\n",
              "    (() => {\n",
              "      let quickchartButtonEl =\n",
              "        document.querySelector('#df-2e8929e1-f8a2-44ac-88b8-234ce0dede76 button');\n",
              "      quickchartButtonEl.style.display =\n",
              "        google.colab.kernel.accessAllowed ? 'block' : 'none';\n",
              "    })();\n",
              "  </script>\n",
              "</div>\n",
              "    </div>\n",
              "  </div>\n"
            ]
          },
          "metadata": {},
          "execution_count": 6
        }
      ],
      "source": [
        "raw_data = pd.DataFrame()\n",
        "for file in file_names:\n",
        "    buffer = pd.read_table(file, header=None, sep='\\s+')\n",
        "    buffer.columns = columns #name columns\n",
        "    buffer['subject_id'] = int(file[-5]) #add subject number to table (from filename)\n",
        "    raw_data = pd.concat([raw_data, buffer], ignore_index=True)\n",
        "\n",
        "raw_data.reset_index(drop=True, inplace=True)\n",
        "raw_data.head()"
      ]
    },
    {
      "cell_type": "markdown",
      "metadata": {
        "id": "MnfhA4ElEx_b"
      },
      "source": [
        "## Data Cleaning\n",
        "\n",
        "Additional files that come with the dataset explain how the data was gathered and give information on which parts of the data can be used.\n",
        "\n",
        "* remove transient activity(id == 0), no usefull data\n",
        "* remove columns 'Orientation' --> not used in information gathering\n",
        "* remove columns 'accelerometer 6g' --> was not precicly calibrated during the data aquisition\n",
        "\n",
        "* remove subject 9 --> connection loss to the dongles, no data\n",
        "\n",
        "* remove timestamp, since it doesnt contain any meaningful information correlated to the activity performed at the time\n",
        "\n",
        "* remove subject id\n",
        "\n",
        "* interpolate missing values due to:\n",
        "  * different frequencies (heartrate sensor - 9Hz, IMUs 100Hz)\n",
        "  * connection lost, package drops in wireless transmission\n",
        "\n"
      ]
    },
    {
      "cell_type": "code",
      "execution_count": null,
      "metadata": {
        "id": "_rf85CR9FsVY"
      },
      "outputs": [],
      "source": [
        "data = raw_data.drop(['hand_Orientation1',   'hand_Orientation2',  'hand_Orientation3',  'hand_Orientation4',\n",
        "                      'chest_Orientation1',  'chest_Orientation2', 'chest_Orientation3', 'chest_Orientation4',\n",
        "                      'ankle_Orientation1',  'ankle_Orientation2', 'ankle_Orientation3', 'ankle_Orientation4'],\n",
        "                    axis = 1)  # removal of orientation columns\n",
        "\n",
        "data = data.drop(['hand_Acc6_1',  'hand_Acc6_2',   'hand_Acc6_3',\n",
        "                  'chest_Acc6_1', 'chest_Acc6_2',  'chest_Acc6_3',\n",
        "                  'ankle_Acc6_1', 'ankle_Acc6_2',  'ankle_Acc6_3',],\n",
        "                    axis = 1) # remove columns of accelerometer6g\n",
        "\n",
        "data = data.drop(data[data.subject_id == 9].index) #(maybe not even load in first place ...)"
      ]
    },
    {
      "cell_type": "code",
      "execution_count": null,
      "metadata": {
        "id": "Z4HaXJI-NPU0"
      },
      "outputs": [],
      "source": [
        "#linear interpolation\n",
        "data = data.interpolate() #interpolate before transient activity gets removed"
      ]
    },
    {
      "cell_type": "code",
      "execution_count": null,
      "metadata": {
        "id": "SnIIIeLw6uv4"
      },
      "outputs": [],
      "source": [
        "data = data.drop(data[data.activity_id == 0].index) #remove any row of activity 0 (transient)\n",
        "\n",
        "data = data.drop(['timestamp', 'subject_id'], axis = 1)\n",
        "\n",
        "#remove all activities which only one person did\n",
        "data = data.drop(data[data.activity_id == 9].index)  #remove watching TV\n",
        "data = data.drop(data[data.activity_id == 11].index)  #remove car driving\n",
        "data = data.drop(data[data.activity_id == 20].index)  #remove playing soccer"
      ]
    },
    {
      "cell_type": "code",
      "execution_count": null,
      "metadata": {
        "colab": {
          "base_uri": "https://localhost:8080/",
          "height": 255
        },
        "id": "KX7R5k5HOjdT",
        "outputId": "7bcfe10a-3029-492e-ea7e-2a7943fff2d7"
      },
      "outputs": [
        {
          "output_type": "execute_result",
          "data": {
            "text/plain": [
              "   activity_id  heartrate  hand_temperature  hand_Acc16_1  hand_Acc16_2  \\\n",
              "0            1      100.0            30.375       2.24689       8.55387   \n",
              "1            1      100.0            30.375       2.27373       8.14592   \n",
              "2            1      100.0            30.375       2.26966       7.66268   \n",
              "3            1      100.0            30.375       2.22177       7.25535   \n",
              "4            1      100.0            30.375       2.20720       7.24042   \n",
              "\n",
              "   hand_Acc16_3  hand_Gyro1  hand_Gyro2  hand_Gyro3  hand_Magne1  ...  \\\n",
              "0       5.77143   -0.004750    0.037579   -0.011145      8.93200  ...   \n",
              "1       5.78739   -0.171710    0.025479   -0.009538      9.58300  ...   \n",
              "2       5.78846   -0.238241    0.011214    0.000831      9.05516  ...   \n",
              "3       5.88000   -0.192912    0.019053    0.013374      9.92698  ...   \n",
              "4       5.95555   -0.069961   -0.018328    0.004582      9.15626  ...   \n",
              "\n",
              "   ankle_temperature  ankle_Acc16_1  ankle_Acc16_2  ankle_Acc16_3  \\\n",
              "0              30.75        9.73855       -1.84761       0.095156   \n",
              "1              30.75        9.69762       -1.88438      -0.020804   \n",
              "2              30.75        9.69633       -1.92203      -0.059173   \n",
              "3              30.75        9.66370       -1.84714       0.094385   \n",
              "4              30.75        9.77578       -1.88582       0.095775   \n",
              "\n",
              "   ankle_Gyro1  ankle_Gyro2  ankle_Gyro3  ankle_Magne1  ankle_Magne2  \\\n",
              "0     0.002908    -0.027714     0.001752      -61.1081      -36.8636   \n",
              "1     0.020882     0.000945     0.006007      -60.8916      -36.3197   \n",
              "2    -0.035392    -0.052422    -0.004882      -60.3407      -35.7842   \n",
              "3    -0.032514    -0.018844     0.026950      -60.7646      -37.1028   \n",
              "4     0.001351    -0.048878    -0.006328      -60.2040      -37.1225   \n",
              "\n",
              "   ankle_Magne3  \n",
              "0      -58.3696  \n",
              "1      -58.3656  \n",
              "2      -58.6119  \n",
              "3      -57.8799  \n",
              "4      -57.8847  \n",
              "\n",
              "[5 rows x 32 columns]"
            ],
            "text/html": [
              "\n",
              "  <div id=\"df-46f2d7da-18ee-4735-88e3-f6974cc900a2\" class=\"colab-df-container\">\n",
              "    <div>\n",
              "<style scoped>\n",
              "    .dataframe tbody tr th:only-of-type {\n",
              "        vertical-align: middle;\n",
              "    }\n",
              "\n",
              "    .dataframe tbody tr th {\n",
              "        vertical-align: top;\n",
              "    }\n",
              "\n",
              "    .dataframe thead th {\n",
              "        text-align: right;\n",
              "    }\n",
              "</style>\n",
              "<table border=\"1\" class=\"dataframe\">\n",
              "  <thead>\n",
              "    <tr style=\"text-align: right;\">\n",
              "      <th></th>\n",
              "      <th>activity_id</th>\n",
              "      <th>heartrate</th>\n",
              "      <th>hand_temperature</th>\n",
              "      <th>hand_Acc16_1</th>\n",
              "      <th>hand_Acc16_2</th>\n",
              "      <th>hand_Acc16_3</th>\n",
              "      <th>hand_Gyro1</th>\n",
              "      <th>hand_Gyro2</th>\n",
              "      <th>hand_Gyro3</th>\n",
              "      <th>hand_Magne1</th>\n",
              "      <th>...</th>\n",
              "      <th>ankle_temperature</th>\n",
              "      <th>ankle_Acc16_1</th>\n",
              "      <th>ankle_Acc16_2</th>\n",
              "      <th>ankle_Acc16_3</th>\n",
              "      <th>ankle_Gyro1</th>\n",
              "      <th>ankle_Gyro2</th>\n",
              "      <th>ankle_Gyro3</th>\n",
              "      <th>ankle_Magne1</th>\n",
              "      <th>ankle_Magne2</th>\n",
              "      <th>ankle_Magne3</th>\n",
              "    </tr>\n",
              "  </thead>\n",
              "  <tbody>\n",
              "    <tr>\n",
              "      <th>0</th>\n",
              "      <td>1</td>\n",
              "      <td>100.0</td>\n",
              "      <td>30.375</td>\n",
              "      <td>2.24689</td>\n",
              "      <td>8.55387</td>\n",
              "      <td>5.77143</td>\n",
              "      <td>-0.004750</td>\n",
              "      <td>0.037579</td>\n",
              "      <td>-0.011145</td>\n",
              "      <td>8.93200</td>\n",
              "      <td>...</td>\n",
              "      <td>30.75</td>\n",
              "      <td>9.73855</td>\n",
              "      <td>-1.84761</td>\n",
              "      <td>0.095156</td>\n",
              "      <td>0.002908</td>\n",
              "      <td>-0.027714</td>\n",
              "      <td>0.001752</td>\n",
              "      <td>-61.1081</td>\n",
              "      <td>-36.8636</td>\n",
              "      <td>-58.3696</td>\n",
              "    </tr>\n",
              "    <tr>\n",
              "      <th>1</th>\n",
              "      <td>1</td>\n",
              "      <td>100.0</td>\n",
              "      <td>30.375</td>\n",
              "      <td>2.27373</td>\n",
              "      <td>8.14592</td>\n",
              "      <td>5.78739</td>\n",
              "      <td>-0.171710</td>\n",
              "      <td>0.025479</td>\n",
              "      <td>-0.009538</td>\n",
              "      <td>9.58300</td>\n",
              "      <td>...</td>\n",
              "      <td>30.75</td>\n",
              "      <td>9.69762</td>\n",
              "      <td>-1.88438</td>\n",
              "      <td>-0.020804</td>\n",
              "      <td>0.020882</td>\n",
              "      <td>0.000945</td>\n",
              "      <td>0.006007</td>\n",
              "      <td>-60.8916</td>\n",
              "      <td>-36.3197</td>\n",
              "      <td>-58.3656</td>\n",
              "    </tr>\n",
              "    <tr>\n",
              "      <th>2</th>\n",
              "      <td>1</td>\n",
              "      <td>100.0</td>\n",
              "      <td>30.375</td>\n",
              "      <td>2.26966</td>\n",
              "      <td>7.66268</td>\n",
              "      <td>5.78846</td>\n",
              "      <td>-0.238241</td>\n",
              "      <td>0.011214</td>\n",
              "      <td>0.000831</td>\n",
              "      <td>9.05516</td>\n",
              "      <td>...</td>\n",
              "      <td>30.75</td>\n",
              "      <td>9.69633</td>\n",
              "      <td>-1.92203</td>\n",
              "      <td>-0.059173</td>\n",
              "      <td>-0.035392</td>\n",
              "      <td>-0.052422</td>\n",
              "      <td>-0.004882</td>\n",
              "      <td>-60.3407</td>\n",
              "      <td>-35.7842</td>\n",
              "      <td>-58.6119</td>\n",
              "    </tr>\n",
              "    <tr>\n",
              "      <th>3</th>\n",
              "      <td>1</td>\n",
              "      <td>100.0</td>\n",
              "      <td>30.375</td>\n",
              "      <td>2.22177</td>\n",
              "      <td>7.25535</td>\n",
              "      <td>5.88000</td>\n",
              "      <td>-0.192912</td>\n",
              "      <td>0.019053</td>\n",
              "      <td>0.013374</td>\n",
              "      <td>9.92698</td>\n",
              "      <td>...</td>\n",
              "      <td>30.75</td>\n",
              "      <td>9.66370</td>\n",
              "      <td>-1.84714</td>\n",
              "      <td>0.094385</td>\n",
              "      <td>-0.032514</td>\n",
              "      <td>-0.018844</td>\n",
              "      <td>0.026950</td>\n",
              "      <td>-60.7646</td>\n",
              "      <td>-37.1028</td>\n",
              "      <td>-57.8799</td>\n",
              "    </tr>\n",
              "    <tr>\n",
              "      <th>4</th>\n",
              "      <td>1</td>\n",
              "      <td>100.0</td>\n",
              "      <td>30.375</td>\n",
              "      <td>2.20720</td>\n",
              "      <td>7.24042</td>\n",
              "      <td>5.95555</td>\n",
              "      <td>-0.069961</td>\n",
              "      <td>-0.018328</td>\n",
              "      <td>0.004582</td>\n",
              "      <td>9.15626</td>\n",
              "      <td>...</td>\n",
              "      <td>30.75</td>\n",
              "      <td>9.77578</td>\n",
              "      <td>-1.88582</td>\n",
              "      <td>0.095775</td>\n",
              "      <td>0.001351</td>\n",
              "      <td>-0.048878</td>\n",
              "      <td>-0.006328</td>\n",
              "      <td>-60.2040</td>\n",
              "      <td>-37.1225</td>\n",
              "      <td>-57.8847</td>\n",
              "    </tr>\n",
              "  </tbody>\n",
              "</table>\n",
              "<p>5 rows × 32 columns</p>\n",
              "</div>\n",
              "    <div class=\"colab-df-buttons\">\n",
              "\n",
              "  <div class=\"colab-df-container\">\n",
              "    <button class=\"colab-df-convert\" onclick=\"convertToInteractive('df-46f2d7da-18ee-4735-88e3-f6974cc900a2')\"\n",
              "            title=\"Convert this dataframe to an interactive table.\"\n",
              "            style=\"display:none;\">\n",
              "\n",
              "  <svg xmlns=\"http://www.w3.org/2000/svg\" height=\"24px\" viewBox=\"0 -960 960 960\">\n",
              "    <path d=\"M120-120v-720h720v720H120Zm60-500h600v-160H180v160Zm220 220h160v-160H400v160Zm0 220h160v-160H400v160ZM180-400h160v-160H180v160Zm440 0h160v-160H620v160ZM180-180h160v-160H180v160Zm440 0h160v-160H620v160Z\"/>\n",
              "  </svg>\n",
              "    </button>\n",
              "\n",
              "  <style>\n",
              "    .colab-df-container {\n",
              "      display:flex;\n",
              "      gap: 12px;\n",
              "    }\n",
              "\n",
              "    .colab-df-convert {\n",
              "      background-color: #E8F0FE;\n",
              "      border: none;\n",
              "      border-radius: 50%;\n",
              "      cursor: pointer;\n",
              "      display: none;\n",
              "      fill: #1967D2;\n",
              "      height: 32px;\n",
              "      padding: 0 0 0 0;\n",
              "      width: 32px;\n",
              "    }\n",
              "\n",
              "    .colab-df-convert:hover {\n",
              "      background-color: #E2EBFA;\n",
              "      box-shadow: 0px 1px 2px rgba(60, 64, 67, 0.3), 0px 1px 3px 1px rgba(60, 64, 67, 0.15);\n",
              "      fill: #174EA6;\n",
              "    }\n",
              "\n",
              "    .colab-df-buttons div {\n",
              "      margin-bottom: 4px;\n",
              "    }\n",
              "\n",
              "    [theme=dark] .colab-df-convert {\n",
              "      background-color: #3B4455;\n",
              "      fill: #D2E3FC;\n",
              "    }\n",
              "\n",
              "    [theme=dark] .colab-df-convert:hover {\n",
              "      background-color: #434B5C;\n",
              "      box-shadow: 0px 1px 3px 1px rgba(0, 0, 0, 0.15);\n",
              "      filter: drop-shadow(0px 1px 2px rgba(0, 0, 0, 0.3));\n",
              "      fill: #FFFFFF;\n",
              "    }\n",
              "  </style>\n",
              "\n",
              "    <script>\n",
              "      const buttonEl =\n",
              "        document.querySelector('#df-46f2d7da-18ee-4735-88e3-f6974cc900a2 button.colab-df-convert');\n",
              "      buttonEl.style.display =\n",
              "        google.colab.kernel.accessAllowed ? 'block' : 'none';\n",
              "\n",
              "      async function convertToInteractive(key) {\n",
              "        const element = document.querySelector('#df-46f2d7da-18ee-4735-88e3-f6974cc900a2');\n",
              "        const dataTable =\n",
              "          await google.colab.kernel.invokeFunction('convertToInteractive',\n",
              "                                                    [key], {});\n",
              "        if (!dataTable) return;\n",
              "\n",
              "        const docLinkHtml = 'Like what you see? Visit the ' +\n",
              "          '<a target=\"_blank\" href=https://colab.research.google.com/notebooks/data_table.ipynb>data table notebook</a>'\n",
              "          + ' to learn more about interactive tables.';\n",
              "        element.innerHTML = '';\n",
              "        dataTable['output_type'] = 'display_data';\n",
              "        await google.colab.output.renderOutput(dataTable, element);\n",
              "        const docLink = document.createElement('div');\n",
              "        docLink.innerHTML = docLinkHtml;\n",
              "        element.appendChild(docLink);\n",
              "      }\n",
              "    </script>\n",
              "  </div>\n",
              "\n",
              "\n",
              "<div id=\"df-8132c0b7-9af9-4bad-aa8d-d0887eb7cc52\">\n",
              "  <button class=\"colab-df-quickchart\" onclick=\"quickchart('df-8132c0b7-9af9-4bad-aa8d-d0887eb7cc52')\"\n",
              "            title=\"Suggest charts\"\n",
              "            style=\"display:none;\">\n",
              "\n",
              "<svg xmlns=\"http://www.w3.org/2000/svg\" height=\"24px\"viewBox=\"0 0 24 24\"\n",
              "     width=\"24px\">\n",
              "    <g>\n",
              "        <path d=\"M19 3H5c-1.1 0-2 .9-2 2v14c0 1.1.9 2 2 2h14c1.1 0 2-.9 2-2V5c0-1.1-.9-2-2-2zM9 17H7v-7h2v7zm4 0h-2V7h2v10zm4 0h-2v-4h2v4z\"/>\n",
              "    </g>\n",
              "</svg>\n",
              "  </button>\n",
              "\n",
              "<style>\n",
              "  .colab-df-quickchart {\n",
              "      --bg-color: #E8F0FE;\n",
              "      --fill-color: #1967D2;\n",
              "      --hover-bg-color: #E2EBFA;\n",
              "      --hover-fill-color: #174EA6;\n",
              "      --disabled-fill-color: #AAA;\n",
              "      --disabled-bg-color: #DDD;\n",
              "  }\n",
              "\n",
              "  [theme=dark] .colab-df-quickchart {\n",
              "      --bg-color: #3B4455;\n",
              "      --fill-color: #D2E3FC;\n",
              "      --hover-bg-color: #434B5C;\n",
              "      --hover-fill-color: #FFFFFF;\n",
              "      --disabled-bg-color: #3B4455;\n",
              "      --disabled-fill-color: #666;\n",
              "  }\n",
              "\n",
              "  .colab-df-quickchart {\n",
              "    background-color: var(--bg-color);\n",
              "    border: none;\n",
              "    border-radius: 50%;\n",
              "    cursor: pointer;\n",
              "    display: none;\n",
              "    fill: var(--fill-color);\n",
              "    height: 32px;\n",
              "    padding: 0;\n",
              "    width: 32px;\n",
              "  }\n",
              "\n",
              "  .colab-df-quickchart:hover {\n",
              "    background-color: var(--hover-bg-color);\n",
              "    box-shadow: 0 1px 2px rgba(60, 64, 67, 0.3), 0 1px 3px 1px rgba(60, 64, 67, 0.15);\n",
              "    fill: var(--button-hover-fill-color);\n",
              "  }\n",
              "\n",
              "  .colab-df-quickchart-complete:disabled,\n",
              "  .colab-df-quickchart-complete:disabled:hover {\n",
              "    background-color: var(--disabled-bg-color);\n",
              "    fill: var(--disabled-fill-color);\n",
              "    box-shadow: none;\n",
              "  }\n",
              "\n",
              "  .colab-df-spinner {\n",
              "    border: 2px solid var(--fill-color);\n",
              "    border-color: transparent;\n",
              "    border-bottom-color: var(--fill-color);\n",
              "    animation:\n",
              "      spin 1s steps(1) infinite;\n",
              "  }\n",
              "\n",
              "  @keyframes spin {\n",
              "    0% {\n",
              "      border-color: transparent;\n",
              "      border-bottom-color: var(--fill-color);\n",
              "      border-left-color: var(--fill-color);\n",
              "    }\n",
              "    20% {\n",
              "      border-color: transparent;\n",
              "      border-left-color: var(--fill-color);\n",
              "      border-top-color: var(--fill-color);\n",
              "    }\n",
              "    30% {\n",
              "      border-color: transparent;\n",
              "      border-left-color: var(--fill-color);\n",
              "      border-top-color: var(--fill-color);\n",
              "      border-right-color: var(--fill-color);\n",
              "    }\n",
              "    40% {\n",
              "      border-color: transparent;\n",
              "      border-right-color: var(--fill-color);\n",
              "      border-top-color: var(--fill-color);\n",
              "    }\n",
              "    60% {\n",
              "      border-color: transparent;\n",
              "      border-right-color: var(--fill-color);\n",
              "    }\n",
              "    80% {\n",
              "      border-color: transparent;\n",
              "      border-right-color: var(--fill-color);\n",
              "      border-bottom-color: var(--fill-color);\n",
              "    }\n",
              "    90% {\n",
              "      border-color: transparent;\n",
              "      border-bottom-color: var(--fill-color);\n",
              "    }\n",
              "  }\n",
              "</style>\n",
              "\n",
              "  <script>\n",
              "    async function quickchart(key) {\n",
              "      const quickchartButtonEl =\n",
              "        document.querySelector('#' + key + ' button');\n",
              "      quickchartButtonEl.disabled = true;  // To prevent multiple clicks.\n",
              "      quickchartButtonEl.classList.add('colab-df-spinner');\n",
              "      try {\n",
              "        const charts = await google.colab.kernel.invokeFunction(\n",
              "            'suggestCharts', [key], {});\n",
              "      } catch (error) {\n",
              "        console.error('Error during call to suggestCharts:', error);\n",
              "      }\n",
              "      quickchartButtonEl.classList.remove('colab-df-spinner');\n",
              "      quickchartButtonEl.classList.add('colab-df-quickchart-complete');\n",
              "    }\n",
              "    (() => {\n",
              "      let quickchartButtonEl =\n",
              "        document.querySelector('#df-8132c0b7-9af9-4bad-aa8d-d0887eb7cc52 button');\n",
              "      quickchartButtonEl.style.display =\n",
              "        google.colab.kernel.accessAllowed ? 'block' : 'none';\n",
              "    })();\n",
              "  </script>\n",
              "</div>\n",
              "    </div>\n",
              "  </div>\n"
            ]
          },
          "metadata": {},
          "execution_count": 10
        }
      ],
      "source": [
        "data.reset_index(drop = True, inplace = True)\n",
        "data.head()"
      ]
    },
    {
      "cell_type": "code",
      "execution_count": null,
      "metadata": {
        "colab": {
          "base_uri": "https://localhost:8080/"
        },
        "id": "tTJphf2WLgND",
        "outputId": "83c29420-bfe8-4a56-ff21-6c2dba2db3f0"
      },
      "outputs": [
        {
          "output_type": "execute_result",
          "data": {
            "text/plain": [
              "activity_id          0\n",
              "heartrate            0\n",
              "hand_temperature     0\n",
              "hand_Acc16_1         0\n",
              "hand_Acc16_2         0\n",
              "hand_Acc16_3         0\n",
              "hand_Gyro1           0\n",
              "hand_Gyro2           0\n",
              "hand_Gyro3           0\n",
              "hand_Magne1          0\n",
              "hand_Magne2          0\n",
              "hand_Magne3          0\n",
              "chest_temperature    0\n",
              "chest_Acc16_1        0\n",
              "chest_Acc16_2        0\n",
              "chest_Acc16_3        0\n",
              "chest_Gyro1          0\n",
              "chest_Gyro2          0\n",
              "chest_Gyro3          0\n",
              "chest_Magne1         0\n",
              "chest_Magne2         0\n",
              "chest_Magne3         0\n",
              "ankle_temperature    0\n",
              "ankle_Acc16_1        0\n",
              "ankle_Acc16_2        0\n",
              "ankle_Acc16_3        0\n",
              "ankle_Gyro1          0\n",
              "ankle_Gyro2          0\n",
              "ankle_Gyro3          0\n",
              "ankle_Magne1         0\n",
              "ankle_Magne2         0\n",
              "ankle_Magne3         0\n",
              "dtype: int64"
            ]
          },
          "metadata": {},
          "execution_count": 11
        }
      ],
      "source": [
        "data.isnull().sum() #check for missing values left after interpolation"
      ]
    },
    {
      "cell_type": "markdown",
      "metadata": {
        "id": "rlVAw6D5_KVJ"
      },
      "source": [
        "## Visualization\n",
        "\n"
      ]
    },
    {
      "cell_type": "code",
      "execution_count": null,
      "metadata": {
        "colab": {
          "base_uri": "https://localhost:8080/",
          "height": 568
        },
        "id": "B06wYlqJjgzz",
        "outputId": "ddd620b9-8831-4c07-e27a-8b61ac3244f0"
      },
      "outputs": [
        {
          "output_type": "display_data",
          "data": {
            "text/plain": [
              "<Figure size 1000x800 with 2 Axes>"
            ],
            "image/png": "[encoded data removed]"
          },
          "metadata": {}
        }
      ],
      "source": [
        "#correlation heat map\n",
        "\n",
        "df_corr = data.corr()\n",
        "f, ax = plt.subplots(figsize=(10, 8))\n",
        "\n",
        "\n",
        "#creat mask to find features with weak explanatory strenght\n",
        "#mask = (np.abs(df_corr) <= 0.1)\n",
        "#--> gyroscope does not seem to have relevant information\n",
        "\n",
        "#sns.heatmap(df_corr, cmap = \"BrBG\",ax=ax, mask=mask)\n",
        "sns.heatmap(df_corr, cmap = \"BrBG\",ax=ax)\n",
        "\n",
        "plt.show()"
      ]
    },
    {
      "cell_type": "markdown",
      "metadata": {
        "id": "R-JngGkrxcoP"
      },
      "source": [
        "Guess:\n",
        "The **Gyroscope** does seem to have weak correlation with everything\n",
        "* try training without gyro\n",
        "\n",
        "--> Training without gyro led to significantly worse performance (see confusion matrix)"
      ]
    },
    {
      "cell_type": "code",
      "execution_count": null,
      "metadata": {
        "colab": {
          "base_uri": "https://localhost:8080/",
          "height": 88
        },
        "id": "bxYo7P0Ixuvn",
        "outputId": "7631b430-adec-4af5-9ea2-765aa6da5bab"
      },
      "outputs": [
        {
          "output_type": "execute_result",
          "data": {
            "text/plain": [
              "\"\\ndata = data.drop(['hand_Gyro1',  'hand_Gyro2',  'hand_Gyro3',\\n                  'chest_Gyro1', 'chest_Gyro2', 'chest_Gyro3',\\n                  'ankle_Gyro1', 'ankle_Gyro2', 'ankle_Gyro3'\\n                  ], axis = 1)\\n\\ndata.reset_index(drop = True, inplace = True)\\n\""
            ],
            "application/vnd.google.colaboratory.intrinsic+json": {
              "type": "string"
            }
          },
          "metadata": {},
          "execution_count": 13
        }
      ],
      "source": [
        "#drop gyroscope data\n",
        "\n",
        "'''\n",
        "data = data.drop(['hand_Gyro1',  'hand_Gyro2',  'hand_Gyro3',\n",
        "                  'chest_Gyro1', 'chest_Gyro2', 'chest_Gyro3',\n",
        "                  'ankle_Gyro1', 'ankle_Gyro2', 'ankle_Gyro3'\n",
        "                  ], axis = 1)\n",
        "\n",
        "data.reset_index(drop = True, inplace = True)\n",
        "'''"
      ]
    },
    {
      "cell_type": "markdown",
      "metadata": {
        "id": "O3Kq7g-22vh4"
      },
      "source": [
        "## Data Distribution"
      ]
    },
    {
      "cell_type": "code",
      "execution_count": null,
      "metadata": {
        "colab": {
          "base_uri": "https://localhost:8080/",
          "height": 562
        },
        "id": "ZEsQzzsX7EX-",
        "outputId": "cbadea9f-f4e5-4164-d908-d311a566462e"
      },
      "outputs": [
        {
          "output_type": "execute_result",
          "data": {
            "text/plain": [
              "<Axes: >"
            ]
          },
          "metadata": {},
          "execution_count": 14
        },
        {
          "output_type": "display_data",
          "data": {
            "text/plain": [
              "<Figure size 640x480 with 1 Axes>"
            ],
            "image/png": "[encoded data removed]"
          },
          "metadata": {}
        }
      ],
      "source": [
        "class_distribution = data['activity_id'].value_counts()\n",
        "\n",
        "class_distribution.index = class_distribution.index.map(activity_id_dict)\n",
        "c = ['#1f77b4', '#ff7f0e', '#2ca02c', '#d62728', '#9467bd', '#8c564b', '#e377c2', '#7f7f7f', '#bcbd22', '#17becf']\n",
        "class_distribution.plot(kind='bar', color=c)"
      ]
    },
    {
      "cell_type": "markdown",
      "metadata": {
        "id": "eDvFgAIW4xTi"
      },
      "source": [
        "The distribution over the classes is imbalanced.\n",
        "* up and downsample some of the classes to balance the datas"
      ]
    },
    {
      "cell_type": "code",
      "execution_count": null,
      "metadata": {
        "id": "BOtoSiSbHOfD"
      },
      "outputs": [],
      "source": [
        "#split for resampling\n",
        "\n",
        "col = data.columns\n",
        "x_cols = col[1:]\n",
        "\n",
        "\n",
        "y_df = data['activity_id']\n",
        "x_df = data[x_cols]"
      ]
    },
    {
      "cell_type": "code",
      "execution_count": null,
      "metadata": {
        "colab": {
          "base_uri": "https://localhost:8080/"
        },
        "id": "CO0MA1XzaUUh",
        "outputId": "49fc91b6-19e7-4dd7-c75b-30506034ee89"
      },
      "outputs": [
        {
          "output_type": "execute_result",
          "data": {
            "text/plain": [
              "walking              238761\n",
              "ironing              238690\n",
              "lying                192523\n",
              "standing             189931\n",
              "Nordic_walking       188107\n",
              "sitting              185188\n",
              "vacuum_cleaning      175353\n",
              "cycling              164600\n",
              "ascending_stairs     117216\n",
              "descending_stairs    104944\n",
              "running               98199\n",
              "rope_jumping          42969\n",
              "Name: activity_id, dtype: int64"
            ]
          },
          "metadata": {},
          "execution_count": 16
        }
      ],
      "source": [
        "class_distribution"
      ]
    },
    {
      "cell_type": "code",
      "execution_count": null,
      "metadata": {
        "id": "0ujBlj-4avit"
      },
      "outputs": [],
      "source": [
        "#naive resampling --> random undersampling --> deleting random samples of the majority class\n",
        "\n",
        "#brings everything to size of cycling\n",
        "undersample_dict = {4 :164600,\n",
        "                   17 :164600,\n",
        "                    1 :164600,\n",
        "                    3 :164600,\n",
        "                    7 :164600,\n",
        "                    2 :164600,\n",
        "                   16 :164600}\n",
        "\n",
        "undersampler = RandomUnderSampler(sampling_strategy=undersample_dict, random_state=100)\n",
        "data_resampled, y_res = undersampler.fit_resample(x_df, y_df) #takes really long\n",
        "\n",
        "\n",
        "\n",
        "#upsample the other actvities\n",
        "# ascending_stairs, descending_stairs, running, rope_jumping\n",
        "oversample_dict = {12 : 164600,\n",
        "                   13 : 164600,\n",
        "                    5 : 164600,\n",
        "                   24 : 164600}\n",
        "\n",
        "#oversample data using SMOTE\n",
        "sm = SMOTE(sampling_strategy=oversample_dict, random_state=100)\n",
        "data_resampled, y_res = sm.fit_resample(data_resampled, y_res) #takes really long\n",
        "\n",
        "\n",
        "data_resampled['activity_id'] = y_res #put back together\n",
        "#data_resampled.head()"
      ]
    },
    {
      "cell_type": "code",
      "execution_count": null,
      "metadata": {
        "colab": {
          "base_uri": "https://localhost:8080/"
        },
        "id": "1jSv6aO2dfvr",
        "outputId": "6f241421-370c-4ae3-87f6-3f4464185bdf"
      },
      "outputs": [
        {
          "output_type": "execute_result",
          "data": {
            "text/plain": [
              "lying                164600\n",
              "sitting              164600\n",
              "standing             164600\n",
              "walking              164600\n",
              "running              164600\n",
              "cycling              164600\n",
              "Nordic_walking       164600\n",
              "ascending_stairs     164600\n",
              "descending_stairs    164600\n",
              "vacuum_cleaning      164600\n",
              "ironing              164600\n",
              "rope_jumping         164600\n",
              "Name: activity_id, dtype: int64"
            ]
          },
          "metadata": {},
          "execution_count": 18
        }
      ],
      "source": [
        "class_distribution = data_resampled['activity_id'].value_counts()\n",
        "\n",
        "class_distribution.index = class_distribution.index.map(activity_id_dict)\n",
        "class_distribution"
      ]
    },
    {
      "cell_type": "markdown",
      "metadata": {
        "id": "qE6Y_aDSOuCV"
      },
      "source": [
        "## Scale, Randomize, Split"
      ]
    },
    {
      "cell_type": "code",
      "execution_count": null,
      "metadata": {
        "id": "NVENzwqHQY1L"
      },
      "outputs": [],
      "source": [
        "#Scale\n",
        "col = data.columns\n",
        "columns_to_scale = col[1:] #everything but labels\n",
        "scaled_data = data_resampled #make copy\n",
        "\n",
        "#Choose Scaling Approach\n",
        "scaler = MinMaxScaler() #way better results than standardscaler\n",
        "\n",
        "# apply scaler\n",
        "scaled_data[columns_to_scale] = scaler.fit_transform(data_resampled[columns_to_scale])"
      ]
    },
    {
      "cell_type": "markdown",
      "metadata": {
        "id": "0R8iQAxF4d0D"
      },
      "source": [
        "### --- Run until here, at startup ---"
      ]
    },
    {
      "cell_type": "code",
      "execution_count": null,
      "metadata": {
        "colab": {
          "base_uri": "https://localhost:8080/",
          "height": 88
        },
        "id": "4YSFly128REK",
        "outputId": "f28bdecd-2e1f-490d-c191-deef111ea2f9"
      },
      "outputs": [
        {
          "output_type": "execute_result",
          "data": {
            "text/plain": [
              "'\\n# use this paragraph, to train with unbalanced data !!!\\n\\ncol = data.columns\\ncolumns_to_scale = col[1:] #everything but labels\\nscaled_data = data\\n\\nscaler = MinMaxScaler() #way better results than standardscaler\\n# apply scaler\\nscaled_data[columns_to_scale] = scaler.fit_transform(data[columns_to_scale])\\n'"
            ],
            "application/vnd.google.colaboratory.intrinsic+json": {
              "type": "string"
            }
          },
          "metadata": {},
          "execution_count": 20
        }
      ],
      "source": [
        "'''\n",
        "# use this paragraph, to train with unbalanced data !!!\n",
        "\n",
        "col = data.columns\n",
        "columns_to_scale = col[1:] #everything but labels\n",
        "scaled_data = data\n",
        "\n",
        "scaler = MinMaxScaler() #way better results than standardscaler\n",
        "# apply scaler\n",
        "scaled_data[columns_to_scale] = scaler.fit_transform(data[columns_to_scale])\n",
        "'''"
      ]
    },
    {
      "cell_type": "code",
      "execution_count": null,
      "metadata": {
        "id": "dTsroUf8Prq2"
      },
      "outputs": [],
      "source": [
        "#split 80/20 and randomize\n",
        "\n",
        "df_train, df_val = train_test_split(scaled_data, train_size = 0.8, test_size = 0.2, random_state = 100)"
      ]
    },
    {
      "cell_type": "code",
      "execution_count": null,
      "metadata": {
        "id": "viJ23q3QSgwp"
      },
      "outputs": [],
      "source": [
        "# seperate x from y\n",
        "y_train = df_train.pop('activity_id')\n",
        "y_val   = df_val.pop('activity_id')\n",
        "\n",
        "# convert to numpy array\n",
        "y_train = y_train.to_numpy()\n",
        "y_val = y_val.to_numpy()\n",
        "\n",
        "x_train = df_train.to_numpy()\n",
        "x_val = df_val.to_numpy()"
      ]
    },
    {
      "cell_type": "code",
      "execution_count": null,
      "metadata": {
        "colab": {
          "base_uri": "https://localhost:8080/"
        },
        "id": "QZHE5E9WglJU",
        "outputId": "121efaad-1e74-4e7c-f193-abb4342f3d3e"
      },
      "outputs": [
        {
          "output_type": "execute_result",
          "data": {
            "text/plain": [
              "(1580160, 31)"
            ]
          },
          "metadata": {},
          "execution_count": 23
        }
      ],
      "source": [
        "x_train.shape"
      ]
    },
    {
      "cell_type": "code",
      "execution_count": null,
      "metadata": {
        "id": "nvXoy8-vGN9H"
      },
      "outputs": [],
      "source": [
        "#PCA\n",
        "k = 15 #optimal value to be found\n",
        "pca = PCA(n_components=k)\n",
        "\n",
        "pc_train = pca.fit_transform(x_train)\n",
        "pc_val = pca.fit_transform(x_val)"
      ]
    },
    {
      "cell_type": "markdown",
      "metadata": {
        "id": "mzFm-cOM2oHo"
      },
      "source": [
        "## Classifiers"
      ]
    },
    {
      "cell_type": "code",
      "execution_count": null,
      "metadata": {
        "id": "7ByMy_ZcP_SN"
      },
      "outputs": [],
      "source": [
        "#Logistic Regression\n",
        "\n",
        "clf = LogisticRegression(solver='saga', penalty=\"l2\", max_iter=300) #try different solvers and penalties\n",
        "clf.fit(pc_train, y_train)\n",
        "y_pred = clf.predict(pc_val)"
      ]
    },
    {
      "cell_type": "code",
      "execution_count": null,
      "metadata": {
        "id": "xmx2XN_21biH"
      },
      "outputs": [],
      "source": [
        "#Naive Bayesianx\n",
        "\n",
        "#clf = GaussianNB()\n",
        "#clf.fit(pc_train, y_train)\n",
        "#y_pred = clf.predict(pc_val)"
      ]
    },
    {
      "cell_type": "markdown",
      "metadata": {
        "id": "1Q5krIpZ3MoF"
      },
      "source": [
        "## Evaluation"
      ]
    },
    {
      "cell_type": "code",
      "execution_count": null,
      "metadata": {
        "colab": {
          "base_uri": "https://localhost:8080/",
          "height": 581
        },
        "id": "JuuWe_VLYC0u",
        "outputId": "1a7eac48-3636-4b63-f2f0-036c3d333d7f"
      },
      "outputs": [
        {
          "output_type": "execute_result",
          "data": {
            "text/plain": [
              "Text(0.5, 47.5815972222222, 'Predicted label')"
            ]
          },
          "metadata": {},
          "execution_count": 27
        },
        {
          "output_type": "display_data",
          "data": {
            "text/plain": [
              "<Figure size 900x700 with 2 Axes>"
            ],
            "image/png": "[encoded data removed]"
          },
          "metadata": {}
        }
      ],
      "source": [
        "#confusion matrix\n",
        "cnf_matrix = confusion_matrix(y_val, y_pred)\n",
        "\n",
        "class_labels = np.vectorize(activity_id_dict.get)(clf.classes_)\n",
        "\n",
        "# create heatmap\n",
        "fig, ax = plt.subplots(figsize=(9,7))\n",
        "sns.heatmap(pd.DataFrame(cnf_matrix), annot=True, cmap=\"YlGnBu\" ,fmt='g',linewidths=0.5,  xticklabels=class_labels, yticklabels=class_labels, ax=ax)\n",
        "\n",
        "plt.title('Confusion matrix')\n",
        "plt.ylabel('Actual label')\n",
        "plt.xlabel('Predicted label')"
      ]
    },
    {
      "cell_type": "code",
      "execution_count": null,
      "metadata": {
        "colab": {
          "base_uri": "https://localhost:8080/",
          "height": 425
        },
        "id": "6Ocw299h-4X9",
        "outputId": "a39862e1-2176-4db2-b59f-48f12ac04238"
      },
      "outputs": [
        {
          "output_type": "execute_result",
          "data": {
            "text/plain": [
              "             activity  precision    recall  f1-score\n",
              "0               lying   0.951730  0.950193  0.950961\n",
              "1             sitting   0.814886  0.841978  0.828211\n",
              "2            standing   0.762149  0.784566  0.773195\n",
              "3             walking   0.617404  0.627632  0.622476\n",
              "4             running   0.646541  0.588111  0.615944\n",
              "5             cycling   0.860390  0.894779  0.877247\n",
              "6      Nordic_walking   0.604580  0.579669  0.591862\n",
              "7    ascending_stairs   0.340497  0.354734  0.347470\n",
              "8   descending_stairs   0.398403  0.361539  0.379077\n",
              "9     vacuum_cleaning   0.670306  0.693955  0.681926\n",
              "10            ironing   0.832941  0.829091  0.831012\n",
              "11       rope_jumping   0.762019  0.787084  0.774348"
            ],
            "text/html": [
              "\n",
              "  <div id=\"df-43c044ef-b5ff-4522-a6d7-a8d3ad8fe8a0\" class=\"colab-df-container\">\n",
              "    <div>\n",
              "<style scoped>\n",
              "    .dataframe tbody tr th:only-of-type {\n",
              "        vertical-align: middle;\n",
              "    }\n",
              "\n",
              "    .dataframe tbody tr th {\n",
              "        vertical-align: top;\n",
              "    }\n",
              "\n",
              "    .dataframe thead th {\n",
              "        text-align: right;\n",
              "    }\n",
              "</style>\n",
              "<table border=\"1\" class=\"dataframe\">\n",
              "  <thead>\n",
              "    <tr style=\"text-align: right;\">\n",
              "      <th></th>\n",
              "      <th>activity</th>\n",
              "      <th>precision</th>\n",
              "      <th>recall</th>\n",
              "      <th>f1-score</th>\n",
              "    </tr>\n",
              "  </thead>\n",
              "  <tbody>\n",
              "    <tr>\n",
              "      <th>0</th>\n",
              "      <td>lying</td>\n",
              "      <td>0.951730</td>\n",
              "      <td>0.950193</td>\n",
              "      <td>0.950961</td>\n",
              "    </tr>\n",
              "    <tr>\n",
              "      <th>1</th>\n",
              "      <td>sitting</td>\n",
              "      <td>0.814886</td>\n",
              "      <td>0.841978</td>\n",
              "      <td>0.828211</td>\n",
              "    </tr>\n",
              "    <tr>\n",
              "      <th>2</th>\n",
              "      <td>standing</td>\n",
              "      <td>0.762149</td>\n",
              "      <td>0.784566</td>\n",
              "      <td>0.773195</td>\n",
              "    </tr>\n",
              "    <tr>\n",
              "      <th>3</th>\n",
              "      <td>walking</td>\n",
              "      <td>0.617404</td>\n",
              "      <td>0.627632</td>\n",
              "      <td>0.622476</td>\n",
              "    </tr>\n",
              "    <tr>\n",
              "      <th>4</th>\n",
              "      <td>running</td>\n",
              "      <td>0.646541</td>\n",
              "      <td>0.588111</td>\n",
              "      <td>0.615944</td>\n",
              "    </tr>\n",
              "    <tr>\n",
              "      <th>5</th>\n",
              "      <td>cycling</td>\n",
              "      <td>0.860390</td>\n",
              "      <td>0.894779</td>\n",
              "      <td>0.877247</td>\n",
              "    </tr>\n",
              "    <tr>\n",
              "      <th>6</th>\n",
              "      <td>Nordic_walking</td>\n",
              "      <td>0.604580</td>\n",
              "      <td>0.579669</td>\n",
              "      <td>0.591862</td>\n",
              "    </tr>\n",
              "    <tr>\n",
              "      <th>7</th>\n",
              "      <td>ascending_stairs</td>\n",
              "      <td>0.340497</td>\n",
              "      <td>0.354734</td>\n",
              "      <td>0.347470</td>\n",
              "    </tr>\n",
              "    <tr>\n",
              "      <th>8</th>\n",
              "      <td>descending_stairs</td>\n",
              "      <td>0.398403</td>\n",
              "      <td>0.361539</td>\n",
              "      <td>0.379077</td>\n",
              "    </tr>\n",
              "    <tr>\n",
              "      <th>9</th>\n",
              "      <td>vacuum_cleaning</td>\n",
              "      <td>0.670306</td>\n",
              "      <td>0.693955</td>\n",
              "      <td>0.681926</td>\n",
              "    </tr>\n",
              "    <tr>\n",
              "      <th>10</th>\n",
              "      <td>ironing</td>\n",
              "      <td>0.832941</td>\n",
              "      <td>0.829091</td>\n",
              "      <td>0.831012</td>\n",
              "    </tr>\n",
              "    <tr>\n",
              "      <th>11</th>\n",
              "      <td>rope_jumping</td>\n",
              "      <td>0.762019</td>\n",
              "      <td>0.787084</td>\n",
              "      <td>0.774348</td>\n",
              "    </tr>\n",
              "  </tbody>\n",
              "</table>\n",
              "</div>\n",
              "    <div class=\"colab-df-buttons\">\n",
              "\n",
              "  <div class=\"colab-df-container\">\n",
              "    <button class=\"colab-df-convert\" onclick=\"convertToInteractive('df-43c044ef-b5ff-4522-a6d7-a8d3ad8fe8a0')\"\n",
              "            title=\"Convert this dataframe to an interactive table.\"\n",
              "            style=\"display:none;\">\n",
              "\n",
              "  <svg xmlns=\"http://www.w3.org/2000/svg\" height=\"24px\" viewBox=\"0 -960 960 960\">\n",
              "    <path d=\"M120-120v-720h720v720H120Zm60-500h600v-160H180v160Zm220 220h160v-160H400v160Zm0 220h160v-160H400v160ZM180-400h160v-160H180v160Zm440 0h160v-160H620v160ZM180-180h160v-160H180v160Zm440 0h160v-160H620v160Z\"/>\n",
              "  </svg>\n",
              "    </button>\n",
              "\n",
              "  <style>\n",
              "    .colab-df-container {\n",
              "      display:flex;\n",
              "      gap: 12px;\n",
              "    }\n",
              "\n",
              "    .colab-df-convert {\n",
              "      background-color: #E8F0FE;\n",
              "      border: none;\n",
              "      border-radius: 50%;\n",
              "      cursor: pointer;\n",
              "      display: none;\n",
              "      fill: #1967D2;\n",
              "      height: 32px;\n",
              "      padding: 0 0 0 0;\n",
              "      width: 32px;\n",
              "    }\n",
              "\n",
              "    .colab-df-convert:hover {\n",
              "      background-color: #E2EBFA;\n",
              "      box-shadow: 0px 1px 2px rgba(60, 64, 67, 0.3), 0px 1px 3px 1px rgba(60, 64, 67, 0.15);\n",
              "      fill: #174EA6;\n",
              "    }\n",
              "\n",
              "    .colab-df-buttons div {\n",
              "      margin-bottom: 4px;\n",
              "    }\n",
              "\n",
              "    [theme=dark] .colab-df-convert {\n",
              "      background-color: #3B4455;\n",
              "      fill: #D2E3FC;\n",
              "    }\n",
              "\n",
              "    [theme=dark] .colab-df-convert:hover {\n",
              "      background-color: #434B5C;\n",
              "      box-shadow: 0px 1px 3px 1px rgba(0, 0, 0, 0.15);\n",
              "      filter: drop-shadow(0px 1px 2px rgba(0, 0, 0, 0.3));\n",
              "      fill: #FFFFFF;\n",
              "    }\n",
              "  </style>\n",
              "\n",
              "    <script>\n",
              "      const buttonEl =\n",
              "        document.querySelector('#df-43c044ef-b5ff-4522-a6d7-a8d3ad8fe8a0 button.colab-df-convert');\n",
              "      buttonEl.style.display =\n",
              "        google.colab.kernel.accessAllowed ? 'block' : 'none';\n",
              "\n",
              "      async function convertToInteractive(key) {\n",
              "        const element = document.querySelector('#df-43c044ef-b5ff-4522-a6d7-a8d3ad8fe8a0');\n",
              "        const dataTable =\n",
              "          await google.colab.kernel.invokeFunction('convertToInteractive',\n",
              "                                                    [key], {});\n",
              "        if (!dataTable) return;\n",
              "\n",
              "        const docLinkHtml = 'Like what you see? Visit the ' +\n",
              "          '<a target=\"_blank\" href=https://colab.research.google.com/notebooks/data_table.ipynb>data table notebook</a>'\n",
              "          + ' to learn more about interactive tables.';\n",
              "        element.innerHTML = '';\n",
              "        dataTable['output_type'] = 'display_data';\n",
              "        await google.colab.output.renderOutput(dataTable, element);\n",
              "        const docLink = document.createElement('div');\n",
              "        docLink.innerHTML = docLinkHtml;\n",
              "        element.appendChild(docLink);\n",
              "      }\n",
              "    </script>\n",
              "  </div>\n",
              "\n",
              "\n",
              "<div id=\"df-f6ba9e23-09a4-4e80-ba76-beb2513bac65\">\n",
              "  <button class=\"colab-df-quickchart\" onclick=\"quickchart('df-f6ba9e23-09a4-4e80-ba76-beb2513bac65')\"\n",
              "            title=\"Suggest charts\"\n",
              "            style=\"display:none;\">\n",
              "\n",
              "<svg xmlns=\"http://www.w3.org/2000/svg\" height=\"24px\"viewBox=\"0 0 24 24\"\n",
              "     width=\"24px\">\n",
              "    <g>\n",
              "        <path d=\"M19 3H5c-1.1 0-2 .9-2 2v14c0 1.1.9 2 2 2h14c1.1 0 2-.9 2-2V5c0-1.1-.9-2-2-2zM9 17H7v-7h2v7zm4 0h-2V7h2v10zm4 0h-2v-4h2v4z\"/>\n",
              "    </g>\n",
              "</svg>\n",
              "  </button>\n",
              "\n",
              "<style>\n",
              "  .colab-df-quickchart {\n",
              "      --bg-color: #E8F0FE;\n",
              "      --fill-color: #1967D2;\n",
              "      --hover-bg-color: #E2EBFA;\n",
              "      --hover-fill-color: #174EA6;\n",
              "      --disabled-fill-color: #AAA;\n",
              "      --disabled-bg-color: #DDD;\n",
              "  }\n",
              "\n",
              "  [theme=dark] .colab-df-quickchart {\n",
              "      --bg-color: #3B4455;\n",
              "      --fill-color: #D2E3FC;\n",
              "      --hover-bg-color: #434B5C;\n",
              "      --hover-fill-color: #FFFFFF;\n",
              "      --disabled-bg-color: #3B4455;\n",
              "      --disabled-fill-color: #666;\n",
              "  }\n",
              "\n",
              "  .colab-df-quickchart {\n",
              "    background-color: var(--bg-color);\n",
              "    border: none;\n",
              "    border-radius: 50%;\n",
              "    cursor: pointer;\n",
              "    display: none;\n",
              "    fill: var(--fill-color);\n",
              "    height: 32px;\n",
              "    padding: 0;\n",
              "    width: 32px;\n",
              "  }\n",
              "\n",
              "  .colab-df-quickchart:hover {\n",
              "    background-color: var(--hover-bg-color);\n",
              "    box-shadow: 0 1px 2px rgba(60, 64, 67, 0.3), 0 1px 3px 1px rgba(60, 64, 67, 0.15);\n",
              "    fill: var(--button-hover-fill-color);\n",
              "  }\n",
              "\n",
              "  .colab-df-quickchart-complete:disabled,\n",
              "  .colab-df-quickchart-complete:disabled:hover {\n",
              "    background-color: var(--disabled-bg-color);\n",
              "    fill: var(--disabled-fill-color);\n",
              "    box-shadow: none;\n",
              "  }\n",
              "\n",
              "  .colab-df-spinner {\n",
              "    border: 2px solid var(--fill-color);\n",
              "    border-color: transparent;\n",
              "    border-bottom-color: var(--fill-color);\n",
              "    animation:\n",
              "      spin 1s steps(1) infinite;\n",
              "  }\n",
              "\n",
              "  @keyframes spin {\n",
              "    0% {\n",
              "      border-color: transparent;\n",
              "      border-bottom-color: var(--fill-color);\n",
              "      border-left-color: var(--fill-color);\n",
              "    }\n",
              "    20% {\n",
              "      border-color: transparent;\n",
              "      border-left-color: var(--fill-color);\n",
              "      border-top-color: var(--fill-color);\n",
              "    }\n",
              "    30% {\n",
              "      border-color: transparent;\n",
              "      border-left-color: var(--fill-color);\n",
              "      border-top-color: var(--fill-color);\n",
              "      border-right-color: var(--fill-color);\n",
              "    }\n",
              "    40% {\n",
              "      border-color: transparent;\n",
              "      border-right-color: var(--fill-color);\n",
              "      border-top-color: var(--fill-color);\n",
              "    }\n",
              "    60% {\n",
              "      border-color: transparent;\n",
              "      border-right-color: var(--fill-color);\n",
              "    }\n",
              "    80% {\n",
              "      border-color: transparent;\n",
              "      border-right-color: var(--fill-color);\n",
              "      border-bottom-color: var(--fill-color);\n",
              "    }\n",
              "    90% {\n",
              "      border-color: transparent;\n",
              "      border-bottom-color: var(--fill-color);\n",
              "    }\n",
              "  }\n",
              "</style>\n",
              "\n",
              "  <script>\n",
              "    async function quickchart(key) {\n",
              "      const quickchartButtonEl =\n",
              "        document.querySelector('#' + key + ' button');\n",
              "      quickchartButtonEl.disabled = true;  // To prevent multiple clicks.\n",
              "      quickchartButtonEl.classList.add('colab-df-spinner');\n",
              "      try {\n",
              "        const charts = await google.colab.kernel.invokeFunction(\n",
              "            'suggestCharts', [key], {});\n",
              "      } catch (error) {\n",
              "        console.error('Error during call to suggestCharts:', error);\n",
              "      }\n",
              "      quickchartButtonEl.classList.remove('colab-df-spinner');\n",
              "      quickchartButtonEl.classList.add('colab-df-quickchart-complete');\n",
              "    }\n",
              "    (() => {\n",
              "      let quickchartButtonEl =\n",
              "        document.querySelector('#df-f6ba9e23-09a4-4e80-ba76-beb2513bac65 button');\n",
              "      quickchartButtonEl.style.display =\n",
              "        google.colab.kernel.accessAllowed ? 'block' : 'none';\n",
              "    })();\n",
              "  </script>\n",
              "</div>\n",
              "    </div>\n",
              "  </div>\n"
            ]
          },
          "metadata": {},
          "execution_count": 28
        }
      ],
      "source": [
        "#Performance\n",
        "\n",
        "recall = np.diag(cnf_matrix) / np.sum(cnf_matrix, axis = 1)\n",
        "precision = np.diag(cnf_matrix) / np.sum(cnf_matrix, axis = 0)\n",
        "f1_score = (2*recall*precision) / (recall+precision)\n",
        "\n",
        "d = {'activity':class_labels, 'precision':precision, 'recall':recall, 'f1-score':f1_score}\n",
        "performance = pd.DataFrame(data = d)\n",
        "performance"
      ]
    },
    {
      "cell_type": "code",
      "execution_count": null,
      "metadata": {
        "colab": {
          "base_uri": "https://localhost:8080/"
        },
        "id": "UTWgh9Uqh-SZ",
        "outputId": "b0987ed3-682f-4078-8007-72654e65146e"
      },
      "outputs": [
        {
          "output_type": "stream",
          "name": "stdout",
          "text": [
            "Precsision: 0.6885\n",
            "Recall:     0.6911\n",
            "F1-score:   0.6895\n"
          ]
        }
      ],
      "source": [
        "precision_mean = np.sum(performance['precision']) / performance.shape[0]\n",
        "recall_mean = np.sum(performance['recall']) / performance.shape[0]\n",
        "f1_mean = np.sum(performance['f1-score']) / performance.shape[0]\n",
        "\n",
        "#print(\"Accuracy:   %.4f\" % (correct_val / total_val))\n",
        "print(\"Precsision: %.4f\" % precision_mean)\n",
        "print(\"Recall:     %.4f\" % recall_mean)\n",
        "print(\"F1-score:   %.4f\" % f1_mean)\n"
      ]
    },
    {
      "cell_type": "code",
      "execution_count": null,
      "metadata": {
        "colab": {
          "base_uri": "https://localhost:8080/",
          "height": 70
        },
        "id": "IM0nMUUT1Ign",
        "outputId": "4b149b58-448e-408c-e464-f174510ce2d7"
      },
      "outputs": [
        {
          "output_type": "execute_result",
          "data": {
            "text/plain": [
              "\"\\n#store model in file\\npath = '/content/drive/My Drive/final_project/models/'\\nmodel_name = 'up_and_down_sampled.joblib'\\nmodel_path = path+model_name\\n\\ndump(clf, model_path)\\n\""
            ],
            "application/vnd.google.colaboratory.intrinsic+json": {
              "type": "string"
            }
          },
          "metadata": {},
          "execution_count": 30
        }
      ],
      "source": [
        "'''\n",
        "#store model in file\n",
        "path = '/content/drive/My Drive/final_project/models/'\n",
        "model_name = 'up_and_down_sampled.joblib'\n",
        "model_path = path+model_name\n",
        "\n",
        "dump(clf, model_path)\n",
        "'''"
      ]
    },
    {
      "cell_type": "code",
      "execution_count": null,
      "metadata": {
        "colab": {
          "base_uri": "https://localhost:8080/",
          "height": 70
        },
        "id": "3XVVHGUl3l8D",
        "outputId": "f2aecf1d-2900-4146-b265-e45c4b5e17f5"
      },
      "outputs": [
        {
          "output_type": "execute_result",
          "data": {
            "text/plain": [
              "\"\\n\\n#load model from file\\npath = '/content/drive/My Drive/final_project/models/'\\nmodel_name = 'without_gyro.joblib'\\nmodel_path = path+model_name\\n\\nclf = load(model_path)\\ny_pred = clf.predict(pc_val)\\n\\n\""
            ],
            "application/vnd.google.colaboratory.intrinsic+json": {
              "type": "string"
            }
          },
          "metadata": {},
          "execution_count": 31
        }
      ],
      "source": [
        "'''\n",
        "\n",
        "#load model from file\n",
        "path = '/content/drive/My Drive/final_project/models/'\n",
        "model_name = 'without_gyro.joblib'\n",
        "model_path = path+model_name\n",
        "\n",
        "clf = load(model_path)\n",
        "y_pred = clf.predict(pc_val)\n",
        "\n",
        "'''"
      ]
    },
    {
      "cell_type": "markdown",
      "metadata": {
        "id": "KcLFUGrb2kiF"
      },
      "source": [
        "# Neural Network"
      ]
    },
    {
      "cell_type": "code",
      "execution_count": null,
      "metadata": {
        "id": "QnNf5Fi43lcx"
      },
      "outputs": [],
      "source": [
        "import torch\n",
        "import torch.optim as optim\n",
        "import torch.nn as nn\n",
        "\n",
        "from torch.utils.data import DataLoader"
      ]
    },
    {
      "cell_type": "code",
      "execution_count": null,
      "metadata": {
        "id": "3u85fUuR2__n"
      },
      "outputs": [],
      "source": [
        "#Split the data set into training and val\n",
        "df_train, df_val = train_test_split(scaled_data, train_size = 0.8, test_size = 0.2, random_state = 100)\n",
        "\n",
        "\n",
        "# seperate x from y\n",
        "y_train_df = df_train.pop('activity_id')\n",
        "y_val_df   = df_val.pop('activity_id')\n",
        "\n",
        "\n",
        "\n",
        "# convert to numpy array\n",
        "y_train_np = y_train_df.to_numpy()\n",
        "y_val_np = y_val_df.to_numpy()\n",
        "\n",
        "x_train_np = df_train.to_numpy()\n",
        "x_val_np = df_val.to_numpy()\n",
        "\n",
        "\n",
        "\n",
        "#to tensor\n",
        "y_train = torch.tensor(y_train_np, dtype=torch.float32).reshape(-1, 1)\n",
        "y_val   = torch.tensor(y_val_np, dtype=torch.float32).reshape(-1, 1)\n",
        "\n",
        "X_train = torch.tensor(x_train_np, dtype=torch.float32)\n",
        "X_val  = torch.tensor(x_val_np, dtype=torch.float32)"
      ]
    },
    {
      "cell_type": "code",
      "source": [
        "import torch\n",
        "import torch.nn as nn\n",
        "import torch.optim as optim\n",
        "from torch.utils.data import TensorDataset, DataLoader\n",
        "\n",
        "# Assuming you have ytrain, xtrain, yval, and xval as PyTorch tensors\n",
        "# Make sure to adjust the code according to your specific data processing steps\n",
        "\n",
        "# Define the neural network for 54 features\n",
        "class SimpleNN(nn.Module):\n",
        "    def __init__(self, input_size, output_size):\n",
        "        super(SimpleNN, self).__init__()\n",
        "        self.fc1 = nn.Linear(input_size, 512)  # Adjust input size to match the number of features\n",
        "        self.relu = nn.ReLU()\n",
        "        self.fc2 = nn.Linear(512, output_size)\n",
        "\n",
        "    def forward(self, x):\n",
        "        x = self.relu(self.fc1(x))\n",
        "        x = self.fc2(x)\n",
        "        return x\n",
        "\n",
        "# Assuming xtrain and xval have 54 features, adjust input_size accordingly\n",
        "input_size = 31\n",
        "output_size = 12  # Adjust based on the number of classes in your task\n",
        "\n",
        "# Instantiate the model and move it to the device\n",
        "device = torch.device(\"cuda\" if torch.cuda.is_available() else \"cpu\")\n",
        "model = SimpleNN(input_size, output_size).to(device)\n",
        "\n",
        "# Combine xtrain and ytrain into a training dataset\n",
        "train_dataset = TensorDataset(X_train, y_train.squeeze().long())  # Squeeze to remove potential extra dimensions\n",
        "\n",
        "# Combine xval and yval into a validation dataset\n",
        "val_dataset = TensorDataset(X_val, y_val.squeeze().long())\n",
        "\n",
        "# Create DataLoader for training and validation\n",
        "batch_size = 64  # Adjust as needed\n",
        "train_loader = DataLoader(train_dataset, batch_size=batch_size, shuffle=True)\n",
        "val_loader = DataLoader(val_dataset, batch_size=batch_size, shuffle=False)\n",
        "\n",
        "# Define loss function and optimizer\n",
        "criterion = nn.CrossEntropyLoss()\n",
        "optimizer = optim.SGD(model.parameters(), lr=0.01)\n",
        "\n",
        "# Training loop\n",
        "num_epochs = 10  # Adjust as needed\n",
        "for epoch in range(num_epochs):\n",
        "    # Training\n",
        "    model.train()\n",
        "    for inputs, labels in train_loader:\n",
        "        inputs, labels = inputs.to(device), labels.to(device)\n",
        "\n",
        "        optimizer.zero_grad()\n",
        "        outputs = model(inputs)\n",
        "        loss = criterion(outputs, labels)\n",
        "        loss.backward()\n",
        "        optimizer.step()\n",
        "\n",
        "    # Validation\n",
        "    model.eval()\n",
        "    val_loss = 0.0\n",
        "    correct = 0\n",
        "    total = 0\n",
        "\n",
        "    with torch.no_grad():\n",
        "        for inputs, labels in val_loader:\n",
        "            inputs, labels = inputs.to(device), labels.to(device)\n",
        "\n",
        "            outputs = model(inputs)\n",
        "            loss = criterion(outputs, labels)\n",
        "            val_loss += loss.item()\n",
        "\n",
        "            _, predicted = torch.max(outputs, 1)\n",
        "            total += labels.size(0)\n",
        "            correct += (predicted == labels).sum().item()\n",
        "\n",
        "    avg_val_loss = val_loss / len(val_loader)\n",
        "    accuracy = correct / total\n",
        "\n",
        "    print(f'Epoch {epoch+1}/{num_epochs}, Loss: {loss.item()}, Validation Loss: {avg_val_loss}, Accuracy: {accuracy}')\n"
      ],
      "metadata": {
        "colab": {
          "base_uri": "https://localhost:8080/",
          "height": 390
        },
        "id": "y-QWB6cBXUS3",
        "outputId": "8196de21-8938-4d02-d6c1-218c4c5a6c83"
      },
      "execution_count": null,
      "outputs": [
        {
          "output_type": "error",
          "ename": "RuntimeError",
          "evalue": "ignored",
          "traceback": [
            "\u001b[0;31m---------------------------------------------------------------------------\u001b[0m",
            "\u001b[0;31mRuntimeError\u001b[0m                              Traceback (most recent call last)",
            "\u001b[0;32m<ipython-input-65-eadc3e93242d>\u001b[0m in \u001b[0;36m<cell line: 47>\u001b[0;34m()\u001b[0m\n\u001b[1;32m     53\u001b[0m         \u001b[0moptimizer\u001b[0m\u001b[0;34m.\u001b[0m\u001b[0mzero_grad\u001b[0m\u001b[0;34m(\u001b[0m\u001b[0;34m)\u001b[0m\u001b[0;34m\u001b[0m\u001b[0;34m\u001b[0m\u001b[0m\n\u001b[1;32m     54\u001b[0m         \u001b[0moutputs\u001b[0m \u001b[0;34m=\u001b[0m \u001b[0mmodel\u001b[0m\u001b[0;34m(\u001b[0m\u001b[0minputs\u001b[0m\u001b[0;34m)\u001b[0m\u001b[0;34m\u001b[0m\u001b[0;34m\u001b[0m\u001b[0m\n\u001b[0;32m---> 55\u001b[0;31m         \u001b[0mloss\u001b[0m \u001b[0;34m=\u001b[0m \u001b[0mcriterion\u001b[0m\u001b[0;34m(\u001b[0m\u001b[0moutputs\u001b[0m\u001b[0;34m,\u001b[0m \u001b[0mlabels\u001b[0m\u001b[0;34m)\u001b[0m\u001b[0;34m\u001b[0m\u001b[0;34m\u001b[0m\u001b[0m\n\u001b[0m\u001b[1;32m     56\u001b[0m         \u001b[0mloss\u001b[0m\u001b[0;34m.\u001b[0m\u001b[0mbackward\u001b[0m\u001b[0;34m(\u001b[0m\u001b[0;34m)\u001b[0m\u001b[0;34m\u001b[0m\u001b[0;34m\u001b[0m\u001b[0m\n\u001b[1;32m     57\u001b[0m         \u001b[0moptimizer\u001b[0m\u001b[0;34m.\u001b[0m\u001b[0mstep\u001b[0m\u001b[0;34m(\u001b[0m\u001b[0;34m)\u001b[0m\u001b[0;34m\u001b[0m\u001b[0;34m\u001b[0m\u001b[0m\n",
            "\u001b[0;32m/usr/local/lib/python3.10/dist-packages/torch/nn/modules/module.py\u001b[0m in \u001b[0;36m_wrapped_call_impl\u001b[0;34m(self, *args, **kwargs)\u001b[0m\n\u001b[1;32m   1516\u001b[0m             \u001b[0;32mreturn\u001b[0m \u001b[0mself\u001b[0m\u001b[0;34m.\u001b[0m\u001b[0m_compiled_call_impl\u001b[0m\u001b[0;34m(\u001b[0m\u001b[0;34m*\u001b[0m\u001b[0margs\u001b[0m\u001b[0;34m,\u001b[0m \u001b[0;34m**\u001b[0m\u001b[0mkwargs\u001b[0m\u001b[0;34m)\u001b[0m  \u001b[0;31m# type: ignore[misc]\u001b[0m\u001b[0;34m\u001b[0m\u001b[0;34m\u001b[0m\u001b[0m\n\u001b[1;32m   1517\u001b[0m         \u001b[0;32melse\u001b[0m\u001b[0;34m:\u001b[0m\u001b[0;34m\u001b[0m\u001b[0;34m\u001b[0m\u001b[0m\n\u001b[0;32m-> 1518\u001b[0;31m             \u001b[0;32mreturn\u001b[0m \u001b[0mself\u001b[0m\u001b[0;34m.\u001b[0m\u001b[0m_call_impl\u001b[0m\u001b[0;34m(\u001b[0m\u001b[0;34m*\u001b[0m\u001b[0margs\u001b[0m\u001b[0;34m,\u001b[0m \u001b[0;34m**\u001b[0m\u001b[0mkwargs\u001b[0m\u001b[0;34m)\u001b[0m\u001b[0;34m\u001b[0m\u001b[0;34m\u001b[0m\u001b[0m\n\u001b[0m\u001b[1;32m   1519\u001b[0m \u001b[0;34m\u001b[0m\u001b[0m\n\u001b[1;32m   1520\u001b[0m     \u001b[0;32mdef\u001b[0m \u001b[0m_call_impl\u001b[0m\u001b[0;34m(\u001b[0m\u001b[0mself\u001b[0m\u001b[0;34m,\u001b[0m \u001b[0;34m*\u001b[0m\u001b[0margs\u001b[0m\u001b[0;34m,\u001b[0m \u001b[0;34m**\u001b[0m\u001b[0mkwargs\u001b[0m\u001b[0;34m)\u001b[0m\u001b[0;34m:\u001b[0m\u001b[0;34m\u001b[0m\u001b[0;34m\u001b[0m\u001b[0m\n",
            "\u001b[0;32m/usr/local/lib/python3.10/dist-packages/torch/nn/modules/module.py\u001b[0m in \u001b[0;36m_call_impl\u001b[0;34m(self, *args, **kwargs)\u001b[0m\n\u001b[1;32m   1525\u001b[0m                 \u001b[0;32mor\u001b[0m \u001b[0m_global_backward_pre_hooks\u001b[0m \u001b[0;32mor\u001b[0m \u001b[0m_global_backward_hooks\u001b[0m\u001b[0;34m\u001b[0m\u001b[0;34m\u001b[0m\u001b[0m\n\u001b[1;32m   1526\u001b[0m                 or _global_forward_hooks or _global_forward_pre_hooks):\n\u001b[0;32m-> 1527\u001b[0;31m             \u001b[0;32mreturn\u001b[0m \u001b[0mforward_call\u001b[0m\u001b[0;34m(\u001b[0m\u001b[0;34m*\u001b[0m\u001b[0margs\u001b[0m\u001b[0;34m,\u001b[0m \u001b[0;34m**\u001b[0m\u001b[0mkwargs\u001b[0m\u001b[0;34m)\u001b[0m\u001b[0;34m\u001b[0m\u001b[0;34m\u001b[0m\u001b[0m\n\u001b[0m\u001b[1;32m   1528\u001b[0m \u001b[0;34m\u001b[0m\u001b[0m\n\u001b[1;32m   1529\u001b[0m         \u001b[0;32mtry\u001b[0m\u001b[0;34m:\u001b[0m\u001b[0;34m\u001b[0m\u001b[0;34m\u001b[0m\u001b[0m\n",
            "\u001b[0;32m/usr/local/lib/python3.10/dist-packages/torch/nn/modules/loss.py\u001b[0m in \u001b[0;36mforward\u001b[0;34m(self, input, target)\u001b[0m\n\u001b[1;32m   1177\u001b[0m \u001b[0;34m\u001b[0m\u001b[0m\n\u001b[1;32m   1178\u001b[0m     \u001b[0;32mdef\u001b[0m \u001b[0mforward\u001b[0m\u001b[0;34m(\u001b[0m\u001b[0mself\u001b[0m\u001b[0;34m,\u001b[0m \u001b[0minput\u001b[0m\u001b[0;34m:\u001b[0m \u001b[0mTensor\u001b[0m\u001b[0;34m,\u001b[0m \u001b[0mtarget\u001b[0m\u001b[0;34m:\u001b[0m \u001b[0mTensor\u001b[0m\u001b[0;34m)\u001b[0m \u001b[0;34m->\u001b[0m \u001b[0mTensor\u001b[0m\u001b[0;34m:\u001b[0m\u001b[0;34m\u001b[0m\u001b[0;34m\u001b[0m\u001b[0m\n\u001b[0;32m-> 1179\u001b[0;31m         return F.cross_entropy(input, target, weight=self.weight,\n\u001b[0m\u001b[1;32m   1180\u001b[0m                                \u001b[0mignore_index\u001b[0m\u001b[0;34m=\u001b[0m\u001b[0mself\u001b[0m\u001b[0;34m.\u001b[0m\u001b[0mignore_index\u001b[0m\u001b[0;34m,\u001b[0m \u001b[0mreduction\u001b[0m\u001b[0;34m=\u001b[0m\u001b[0mself\u001b[0m\u001b[0;34m.\u001b[0m\u001b[0mreduction\u001b[0m\u001b[0;34m,\u001b[0m\u001b[0;34m\u001b[0m\u001b[0;34m\u001b[0m\u001b[0m\n\u001b[1;32m   1181\u001b[0m                                label_smoothing=self.label_smoothing)\n",
            "\u001b[0;32m/usr/local/lib/python3.10/dist-packages/torch/nn/functional.py\u001b[0m in \u001b[0;36mcross_entropy\u001b[0;34m(input, target, weight, size_average, ignore_index, reduce, reduction, label_smoothing)\u001b[0m\n\u001b[1;32m   3051\u001b[0m     \u001b[0;32mif\u001b[0m \u001b[0msize_average\u001b[0m \u001b[0;32mis\u001b[0m \u001b[0;32mnot\u001b[0m \u001b[0;32mNone\u001b[0m \u001b[0;32mor\u001b[0m \u001b[0mreduce\u001b[0m \u001b[0;32mis\u001b[0m \u001b[0;32mnot\u001b[0m \u001b[0;32mNone\u001b[0m\u001b[0;34m:\u001b[0m\u001b[0;34m\u001b[0m\u001b[0;34m\u001b[0m\u001b[0m\n\u001b[1;32m   3052\u001b[0m         \u001b[0mreduction\u001b[0m \u001b[0;34m=\u001b[0m \u001b[0m_Reduction\u001b[0m\u001b[0;34m.\u001b[0m\u001b[0mlegacy_get_string\u001b[0m\u001b[0;34m(\u001b[0m\u001b[0msize_average\u001b[0m\u001b[0;34m,\u001b[0m \u001b[0mreduce\u001b[0m\u001b[0;34m)\u001b[0m\u001b[0;34m\u001b[0m\u001b[0;34m\u001b[0m\u001b[0m\n\u001b[0;32m-> 3053\u001b[0;31m     \u001b[0;32mreturn\u001b[0m \u001b[0mtorch\u001b[0m\u001b[0;34m.\u001b[0m\u001b[0m_C\u001b[0m\u001b[0;34m.\u001b[0m\u001b[0m_nn\u001b[0m\u001b[0;34m.\u001b[0m\u001b[0mcross_entropy_loss\u001b[0m\u001b[0;34m(\u001b[0m\u001b[0minput\u001b[0m\u001b[0;34m,\u001b[0m \u001b[0mtarget\u001b[0m\u001b[0;34m,\u001b[0m \u001b[0mweight\u001b[0m\u001b[0;34m,\u001b[0m \u001b[0m_Reduction\u001b[0m\u001b[0;34m.\u001b[0m\u001b[0mget_enum\u001b[0m\u001b[0;34m(\u001b[0m\u001b[0mreduction\u001b[0m\u001b[0;34m)\u001b[0m\u001b[0;34m,\u001b[0m \u001b[0mignore_index\u001b[0m\u001b[0;34m,\u001b[0m \u001b[0mlabel_smoothing\u001b[0m\u001b[0;34m)\u001b[0m\u001b[0;34m\u001b[0m\u001b[0;34m\u001b[0m\u001b[0m\n\u001b[0m\u001b[1;32m   3054\u001b[0m \u001b[0;34m\u001b[0m\u001b[0m\n\u001b[1;32m   3055\u001b[0m \u001b[0;34m\u001b[0m\u001b[0m\n",
            "\u001b[0;31mRuntimeError\u001b[0m: 0D or 1D target tensor expected, multi-target not supported"
          ]
        }
      ]
    },
    {
      "cell_type": "code",
      "execution_count": null,
      "metadata": {
        "id": "oXCghtzk36Dh"
      },
      "outputs": [],
      "source": [
        "#model\n",
        "'''\n",
        "input_dim  = 31  # input features\n",
        "output_dim = 12  # no. of activities\n",
        "\n",
        "n_layer1 = 64\n",
        "n_layer2 = 128\n",
        "n_layer3 = 64\n",
        "\n",
        "model = nn.Sequential(\n",
        "            nn.Linear(input_dim, n_layer1), #layer 1\n",
        "            nn.Tanh(),\n",
        "            nn.Linear(n_layer1, n_layer2), # layer 2\n",
        "            nn.Tanh(),\n",
        "            nn.Linear(n_layer2, n_layer3), # layer 3\n",
        "            nn.Tanh(),\n",
        "            nn.Linear(n_layer3, output_dim),\n",
        "            nn.LogSoftmax(dim=1))\n",
        "\n",
        "'''\n",
        "\n",
        "#pseudo model\n",
        "\n",
        "input_dim  = 31  # input features\n",
        "output_dim = 12\n",
        "\n",
        "n_layer1 = 128\n",
        "\n",
        "model = nn.Sequential(\n",
        "            nn.Linear(input_dim, n_layer1), #layer 1\n",
        "            nn.Tanh(),\n",
        "            nn.Linear(n_layer1, output_dim),\n",
        "            nn.LogSoftmax(dim=1))\n"
      ]
    },
    {
      "cell_type": "code",
      "execution_count": null,
      "metadata": {
        "id": "HwR45JtzQEFi"
      },
      "outputs": [],
      "source": [
        "train_loader = DataLoader(list(zip(x_train, y_train)), shuffle=True, batch_size=16)\n",
        "\n",
        "for x_batch, y_batch in train_loader:\n",
        "    print(x_batch.shape)\n",
        "    print(y_batch.shape)\n",
        "    break"
      ]
    },
    {
      "cell_type": "code",
      "execution_count": null,
      "metadata": {
        "id": "CBuK2rArRyZ8"
      },
      "outputs": [],
      "source": [
        "#everything after"
      ]
    },
    {
      "cell_type": "code",
      "execution_count": null,
      "metadata": {
        "id": "mks0nkTBMnoI"
      },
      "outputs": [],
      "source": [
        "train_loader = DataLoader(list(zip(x_train, y_train)), shuffle=True, batch_size=16)\n",
        "\n",
        "learning_rate = 0.01\n",
        "n_epochs = 10\n",
        "\n",
        "optimizer = optim.SGD(model.parameters(), lr=learning_rate) #adma/sgd?\n",
        "\n",
        "loss_fn = nn.NLLLoss()\n",
        "\n",
        "loss_history = []\n",
        "\n",
        "#start_time = datetime.datetime.now()\n",
        "\n",
        "for epoch in range(n_epochs):\n",
        "    for x_batch, y_batch in train_loader:\n",
        "\n",
        "        y_pred = model(x_batch)\n",
        "\n",
        "        loss = loss_fn(y_pred, y_batch) #<-- something wrong here\n",
        "        #loss = loss_fn(y_pred, torch.max(y_batch, 1)[1]) #this feels wrong, doesnt make sense\n",
        "\n",
        "        optimizer.zero_grad()\n",
        "        loss.backward()\n",
        "        optimizer.step()\n",
        "\n",
        "    print(\"Epoch: %d, Loss: %f\" % (epoch, float(loss)))\n",
        "    loss_history.append(loss.item())\n",
        "\n",
        "#end_time = datetime.datetime.now()"
      ]
    },
    {
      "cell_type": "code",
      "execution_count": null,
      "metadata": {
        "id": "ebdQRO97gc8e"
      },
      "outputs": [],
      "source": [
        "#!!! careful, dont override other models !!!\n",
        "\n",
        "model_path = '/content/drive/My Drive/final_project/models/'\n",
        "\n",
        "\n",
        "#torch.save(model.state_dict(), model_path + 'nn_10e_v2.pt')\n",
        "\n",
        "\n",
        "\n",
        "#Load model\n",
        "\n",
        "#model.load_state_dict(torch.load(file_path+'p2b_0.001.pt'))"
      ]
    }
  ],
  "metadata": {
    "colab": {
      "provenance": [],
      "include_colab_link": true
    },
    "kernelspec": {
      "display_name": "Python 3",
      "name": "python3"
    },
    "language_info": {
      "name": "python"
    }
  },
  "nbformat": 4,
  "nbformat_minor": 0
}