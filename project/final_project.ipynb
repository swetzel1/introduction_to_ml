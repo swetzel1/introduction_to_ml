{
  "nbformat": 4,
  "nbformat_minor": 0,
  "metadata": {
    "colab": {
      "provenance": [],
      "include_colab_link": true
    },
    "kernelspec": {
      "name": "python3",
      "display_name": "Python 3"
    },
    "language_info": {
      "name": "python"
    }
  },
  "cells": [
    {
      "cell_type": "markdown",
      "metadata": {
        "id": "view-in-github",
        "colab_type": "text"
      },
      "source": [
        "<a href=\"https://colab.research.google.com/github/swetzel1/introduction_to_ml/blob/main/project/final_project.ipynb\" target=\"_parent\"><img src=\"https://colab.research.google.com/assets/colab-badge.svg\" alt=\"Open In Colab\"/></a>"
      ]
    },
    {
      "cell_type": "markdown",
      "source": [
        "# Physical Activity Monitoring\n"
      ],
      "metadata": {
        "id": "kGpoGHqaEnm1"
      }
    },
    {
      "cell_type": "code",
      "execution_count": 1,
      "metadata": {
        "id": "UNYWTkWLjDvB"
      },
      "outputs": [],
      "source": [
        "#load libraries\n",
        "\n",
        "import numpy as np\n",
        "import pandas as pd\n",
        "import seaborn as sns\n",
        "\n",
        "from imblearn.over_sampling  import SMOTE\n",
        "from imblearn.under_sampling import RandomUnderSampler\n",
        "\n",
        "from matplotlib import pyplot as plt\n",
        "\n",
        "from sklearn.model_selection import train_test_split\n",
        "from sklearn.preprocessing   import MinMaxScaler\n",
        "from sklearn.preprocessing   import StandardScaler\n",
        "from sklearn                 import metrics\n",
        "from sklearn.decomposition   import PCA\n",
        "from sklearn.linear_model    import LogisticRegression\n",
        "from sklearn.svm             import SVC\n",
        "from sklearn.metrics         import confusion_matrix\n",
        "from sklearn.metrics         import ConfusionMatrixDisplay"
      ]
    },
    {
      "cell_type": "code",
      "source": [
        "from google.colab import drive\n",
        "drive.mount('/content/drive')"
      ],
      "metadata": {
        "colab": {
          "base_uri": "https://localhost:8080/"
        },
        "id": "CXFErGfvLZNt",
        "outputId": "e1a5fd48-f4ec-4ae4-8589-3bf6e3077d1c"
      },
      "execution_count": 2,
      "outputs": [
        {
          "output_type": "stream",
          "name": "stdout",
          "text": [
            "Mounted at /content/drive\n"
          ]
        }
      ]
    },
    {
      "cell_type": "markdown",
      "source": [
        "## Load Data"
      ],
      "metadata": {
        "id": "KZ_rWib9EgST"
      }
    },
    {
      "cell_type": "code",
      "source": [
        "#folder_structure = '/content/drive/My Drive/Intro_to_ML/final_project/dataset/' #change this to your correspoding folder\n",
        "folder_structure = '/content/drive/My Drive/final_project/dataset/' #Emilias link\n",
        "\n",
        "file_names = ['subject101.dat',\n",
        "              'subject102.dat',\n",
        "              'subject103.dat',\n",
        "              'subject104.dat',\n",
        "              'subject105.dat',\n",
        "              'subject106.dat',\n",
        "              'subject107.dat',\n",
        "              'subject108.dat',\n",
        "              'subject109.dat' ]"
      ],
      "metadata": {
        "id": "iirKvICK-Ra-"
      },
      "execution_count": 3,
      "outputs": []
    },
    {
      "cell_type": "code",
      "source": [
        "file_names = [folder_structure + name for name in file_names ]"
      ],
      "metadata": {
        "id": "ssrhwAt0-TIn"
      },
      "execution_count": 4,
      "outputs": []
    },
    {
      "cell_type": "code",
      "source": [
        "subject_id = [1,2,3,4,5,6,7,8,9]\n",
        "\n",
        "activity_id_dict = {0: 'transient',\n",
        "                    1: 'lying',\n",
        "                    2: 'sitting',\n",
        "                    3: 'standing',\n",
        "                    4: 'walking',\n",
        "                    5: 'running',\n",
        "                    6: 'cycling',\n",
        "                    7: 'Nordic_walking',\n",
        "                    9: 'watching_TV',\n",
        "                    10: 'computer_work',\n",
        "                    11: 'car driving',\n",
        "                    12: 'ascending_stairs',\n",
        "                    13: 'descending_stairs',\n",
        "                    16: 'vacuum_cleaning',\n",
        "                    17: 'ironing',\n",
        "                    18: 'folding_laundry',\n",
        "                    19: 'house_cleaning',\n",
        "                    20: 'playing_soccer',\n",
        "                    24: 'rope_jumping' }\n",
        "\n",
        "special_columns = [\"timestamp\", \"activity_id\",\"heartrate\"]\n",
        "\n",
        "\n",
        "imu_hand = ['hand_temperature',\n",
        "            'hand_Acc6_1',       'hand_Acc6_2',        'hand_Acc6_3',\n",
        "            'hand_Acc16_1',      'hand_Acc16_2',       'hand_Acc16_3',\n",
        "            'hand_Gyro1',        'hand_Gyro2',         'hand_Gyro3',\n",
        "            'hand_Magne1',       'hand_Magne2',        'hand_Magne3',\n",
        "            'hand_Orientation1', 'hand_Orientation2',  'hand_Orientation3', 'hand_Orientation4']\n",
        "\n",
        "imu_chest = ['chest_temperature',\n",
        "             'chest_Acc16_1',       'chest_Acc16_2',      'chest_Acc16_3',\n",
        "             'chest_Acc6_1',        'chest_Acc6_2',       'chest_Acc6_3',\n",
        "             'chest_Gyro1',         'chest_Gyro2',        'chest_Gyro3',\n",
        "             'chest_Magne1',        'chest_Magne2',       'chest_Magne3',\n",
        "             'chest_Orientation1',  'chest_Orientation2', 'chest_Orientation3', 'chest_Orientation4']\n",
        "\n",
        "imu_ankle = ['ankle_temperature',\n",
        "           'ankle_Acc16_1',       'ankle_Acc16_2',      'ankle_Acc16_3',\n",
        "           'ankle_Acc6_1',        'ankle_Acc6_2',       'ankle_Acc6_3',\n",
        "           'ankle_Gyro1',         'ankle_Gyro2',        'ankle_Gyro3',\n",
        "           'ankle_Magne1',        'ankle_Magne2',       'ankle_Magne3',\n",
        "           'ankle_Orientation1',  'ankle_Orientation2', 'ankle_Orientation3', 'ankle_Orientation4']\n",
        "\n",
        "columns = special_columns + imu_hand + imu_chest + imu_ankle  #put columns in one list\n",
        "\n",
        "len(columns)"
      ],
      "metadata": {
        "colab": {
          "base_uri": "https://localhost:8080/"
        },
        "id": "wBB2Un4g2WLp",
        "outputId": "7a6e731b-ca50-408d-eff0-5878a167e384"
      },
      "execution_count": 5,
      "outputs": [
        {
          "output_type": "execute_result",
          "data": {
            "text/plain": [
              "54"
            ]
          },
          "metadata": {},
          "execution_count": 5
        }
      ]
    },
    {
      "cell_type": "code",
      "source": [
        "raw_data = pd.DataFrame()\n",
        "for file in file_names:\n",
        "    buffer = pd.read_table(file, header=None, sep='\\s+')\n",
        "    buffer.columns = columns #name columns\n",
        "    buffer['subject_id'] = int(file[-5]) #add subject number to table (from filename)\n",
        "    raw_data = pd.concat([raw_data, buffer], ignore_index=True)\n",
        "\n",
        "raw_data.reset_index(drop=True, inplace=True)\n",
        "raw_data.head()"
      ],
      "metadata": {
        "colab": {
          "base_uri": "https://localhost:8080/",
          "height": 256
        },
        "id": "_P89LphZ9Prd",
        "outputId": "7967ed69-6b1c-42bd-b9f4-6db4e0f9767c"
      },
      "execution_count": 6,
      "outputs": [
        {
          "output_type": "execute_result",
          "data": {
            "text/plain": [
              "   timestamp  activity_id  heartrate  hand_temperature  hand_Acc6_1  \\\n",
              "0       8.38            0      104.0              30.0      2.37223   \n",
              "1       8.39            0        NaN              30.0      2.18837   \n",
              "2       8.40            0        NaN              30.0      2.37357   \n",
              "3       8.41            0        NaN              30.0      2.07473   \n",
              "4       8.42            0        NaN              30.0      2.22936   \n",
              "\n",
              "   hand_Acc6_2  hand_Acc6_3  hand_Acc16_1  hand_Acc16_2  hand_Acc16_3  ...  \\\n",
              "0      8.60074      3.51048       2.43954       8.76165       3.35465  ...   \n",
              "1      8.56560      3.66179       2.39494       8.55081       3.64207  ...   \n",
              "2      8.60107      3.54898       2.30514       8.53644       3.73280  ...   \n",
              "3      8.52853      3.66021       2.33528       8.53622       3.73277  ...   \n",
              "4      8.83122      3.70000       2.23055       8.59741       3.76295  ...   \n",
              "\n",
              "   ankle_Gyro2  ankle_Gyro3  ankle_Magne1  ankle_Magne2  ankle_Magne3  \\\n",
              "0     0.009250    -0.017580      -61.1888      -38.9599      -58.1438   \n",
              "1    -0.004638     0.000368      -59.8479      -38.8919      -58.5253   \n",
              "2     0.000148     0.022495      -60.7361      -39.4138      -58.3999   \n",
              "3    -0.020301     0.011275      -60.4091      -38.7635      -58.3956   \n",
              "4    -0.014303    -0.002823      -61.5199      -39.3879      -58.2694   \n",
              "\n",
              "   ankle_Orientation1  ankle_Orientation2  ankle_Orientation3  \\\n",
              "0                 1.0                 0.0                 0.0   \n",
              "1                 1.0                 0.0                 0.0   \n",
              "2                 1.0                 0.0                 0.0   \n",
              "3                 1.0                 0.0                 0.0   \n",
              "4                 1.0                 0.0                 0.0   \n",
              "\n",
              "   ankle_Orientation4  subject_id  \n",
              "0                 0.0           1  \n",
              "1                 0.0           1  \n",
              "2                 0.0           1  \n",
              "3                 0.0           1  \n",
              "4                 0.0           1  \n",
              "\n",
              "[5 rows x 55 columns]"
            ],
            "text/html": [
              "\n",
              "  <div id=\"df-b451ab54-bbd0-40fe-be9b-1c0bb9ca9487\" class=\"colab-df-container\">\n",
              "    <div>\n",
              "<style scoped>\n",
              "    .dataframe tbody tr th:only-of-type {\n",
              "        vertical-align: middle;\n",
              "    }\n",
              "\n",
              "    .dataframe tbody tr th {\n",
              "        vertical-align: top;\n",
              "    }\n",
              "\n",
              "    .dataframe thead th {\n",
              "        text-align: right;\n",
              "    }\n",
              "</style>\n",
              "<table border=\"1\" class=\"dataframe\">\n",
              "  <thead>\n",
              "    <tr style=\"text-align: right;\">\n",
              "      <th></th>\n",
              "      <th>timestamp</th>\n",
              "      <th>activity_id</th>\n",
              "      <th>heartrate</th>\n",
              "      <th>hand_temperature</th>\n",
              "      <th>hand_Acc6_1</th>\n",
              "      <th>hand_Acc6_2</th>\n",
              "      <th>hand_Acc6_3</th>\n",
              "      <th>hand_Acc16_1</th>\n",
              "      <th>hand_Acc16_2</th>\n",
              "      <th>hand_Acc16_3</th>\n",
              "      <th>...</th>\n",
              "      <th>ankle_Gyro2</th>\n",
              "      <th>ankle_Gyro3</th>\n",
              "      <th>ankle_Magne1</th>\n",
              "      <th>ankle_Magne2</th>\n",
              "      <th>ankle_Magne3</th>\n",
              "      <th>ankle_Orientation1</th>\n",
              "      <th>ankle_Orientation2</th>\n",
              "      <th>ankle_Orientation3</th>\n",
              "      <th>ankle_Orientation4</th>\n",
              "      <th>subject_id</th>\n",
              "    </tr>\n",
              "  </thead>\n",
              "  <tbody>\n",
              "    <tr>\n",
              "      <th>0</th>\n",
              "      <td>8.38</td>\n",
              "      <td>0</td>\n",
              "      <td>104.0</td>\n",
              "      <td>30.0</td>\n",
              "      <td>2.37223</td>\n",
              "      <td>8.60074</td>\n",
              "      <td>3.51048</td>\n",
              "      <td>2.43954</td>\n",
              "      <td>8.76165</td>\n",
              "      <td>3.35465</td>\n",
              "      <td>...</td>\n",
              "      <td>0.009250</td>\n",
              "      <td>-0.017580</td>\n",
              "      <td>-61.1888</td>\n",
              "      <td>-38.9599</td>\n",
              "      <td>-58.1438</td>\n",
              "      <td>1.0</td>\n",
              "      <td>0.0</td>\n",
              "      <td>0.0</td>\n",
              "      <td>0.0</td>\n",
              "      <td>1</td>\n",
              "    </tr>\n",
              "    <tr>\n",
              "      <th>1</th>\n",
              "      <td>8.39</td>\n",
              "      <td>0</td>\n",
              "      <td>NaN</td>\n",
              "      <td>30.0</td>\n",
              "      <td>2.18837</td>\n",
              "      <td>8.56560</td>\n",
              "      <td>3.66179</td>\n",
              "      <td>2.39494</td>\n",
              "      <td>8.55081</td>\n",
              "      <td>3.64207</td>\n",
              "      <td>...</td>\n",
              "      <td>-0.004638</td>\n",
              "      <td>0.000368</td>\n",
              "      <td>-59.8479</td>\n",
              "      <td>-38.8919</td>\n",
              "      <td>-58.5253</td>\n",
              "      <td>1.0</td>\n",
              "      <td>0.0</td>\n",
              "      <td>0.0</td>\n",
              "      <td>0.0</td>\n",
              "      <td>1</td>\n",
              "    </tr>\n",
              "    <tr>\n",
              "      <th>2</th>\n",
              "      <td>8.40</td>\n",
              "      <td>0</td>\n",
              "      <td>NaN</td>\n",
              "      <td>30.0</td>\n",
              "      <td>2.37357</td>\n",
              "      <td>8.60107</td>\n",
              "      <td>3.54898</td>\n",
              "      <td>2.30514</td>\n",
              "      <td>8.53644</td>\n",
              "      <td>3.73280</td>\n",
              "      <td>...</td>\n",
              "      <td>0.000148</td>\n",
              "      <td>0.022495</td>\n",
              "      <td>-60.7361</td>\n",
              "      <td>-39.4138</td>\n",
              "      <td>-58.3999</td>\n",
              "      <td>1.0</td>\n",
              "      <td>0.0</td>\n",
              "      <td>0.0</td>\n",
              "      <td>0.0</td>\n",
              "      <td>1</td>\n",
              "    </tr>\n",
              "    <tr>\n",
              "      <th>3</th>\n",
              "      <td>8.41</td>\n",
              "      <td>0</td>\n",
              "      <td>NaN</td>\n",
              "      <td>30.0</td>\n",
              "      <td>2.07473</td>\n",
              "      <td>8.52853</td>\n",
              "      <td>3.66021</td>\n",
              "      <td>2.33528</td>\n",
              "      <td>8.53622</td>\n",
              "      <td>3.73277</td>\n",
              "      <td>...</td>\n",
              "      <td>-0.020301</td>\n",
              "      <td>0.011275</td>\n",
              "      <td>-60.4091</td>\n",
              "      <td>-38.7635</td>\n",
              "      <td>-58.3956</td>\n",
              "      <td>1.0</td>\n",
              "      <td>0.0</td>\n",
              "      <td>0.0</td>\n",
              "      <td>0.0</td>\n",
              "      <td>1</td>\n",
              "    </tr>\n",
              "    <tr>\n",
              "      <th>4</th>\n",
              "      <td>8.42</td>\n",
              "      <td>0</td>\n",
              "      <td>NaN</td>\n",
              "      <td>30.0</td>\n",
              "      <td>2.22936</td>\n",
              "      <td>8.83122</td>\n",
              "      <td>3.70000</td>\n",
              "      <td>2.23055</td>\n",
              "      <td>8.59741</td>\n",
              "      <td>3.76295</td>\n",
              "      <td>...</td>\n",
              "      <td>-0.014303</td>\n",
              "      <td>-0.002823</td>\n",
              "      <td>-61.5199</td>\n",
              "      <td>-39.3879</td>\n",
              "      <td>-58.2694</td>\n",
              "      <td>1.0</td>\n",
              "      <td>0.0</td>\n",
              "      <td>0.0</td>\n",
              "      <td>0.0</td>\n",
              "      <td>1</td>\n",
              "    </tr>\n",
              "  </tbody>\n",
              "</table>\n",
              "<p>5 rows × 55 columns</p>\n",
              "</div>\n",
              "    <div class=\"colab-df-buttons\">\n",
              "\n",
              "  <div class=\"colab-df-container\">\n",
              "    <button class=\"colab-df-convert\" onclick=\"convertToInteractive('df-b451ab54-bbd0-40fe-be9b-1c0bb9ca9487')\"\n",
              "            title=\"Convert this dataframe to an interactive table.\"\n",
              "            style=\"display:none;\">\n",
              "\n",
              "  <svg xmlns=\"http://www.w3.org/2000/svg\" height=\"24px\" viewBox=\"0 -960 960 960\">\n",
              "    <path d=\"M120-120v-720h720v720H120Zm60-500h600v-160H180v160Zm220 220h160v-160H400v160Zm0 220h160v-160H400v160ZM180-400h160v-160H180v160Zm440 0h160v-160H620v160ZM180-180h160v-160H180v160Zm440 0h160v-160H620v160Z\"/>\n",
              "  </svg>\n",
              "    </button>\n",
              "\n",
              "  <style>\n",
              "    .colab-df-container {\n",
              "      display:flex;\n",
              "      gap: 12px;\n",
              "    }\n",
              "\n",
              "    .colab-df-convert {\n",
              "      background-color: #E8F0FE;\n",
              "      border: none;\n",
              "      border-radius: 50%;\n",
              "      cursor: pointer;\n",
              "      display: none;\n",
              "      fill: #1967D2;\n",
              "      height: 32px;\n",
              "      padding: 0 0 0 0;\n",
              "      width: 32px;\n",
              "    }\n",
              "\n",
              "    .colab-df-convert:hover {\n",
              "      background-color: #E2EBFA;\n",
              "      box-shadow: 0px 1px 2px rgba(60, 64, 67, 0.3), 0px 1px 3px 1px rgba(60, 64, 67, 0.15);\n",
              "      fill: #174EA6;\n",
              "    }\n",
              "\n",
              "    .colab-df-buttons div {\n",
              "      margin-bottom: 4px;\n",
              "    }\n",
              "\n",
              "    [theme=dark] .colab-df-convert {\n",
              "      background-color: #3B4455;\n",
              "      fill: #D2E3FC;\n",
              "    }\n",
              "\n",
              "    [theme=dark] .colab-df-convert:hover {\n",
              "      background-color: #434B5C;\n",
              "      box-shadow: 0px 1px 3px 1px rgba(0, 0, 0, 0.15);\n",
              "      filter: drop-shadow(0px 1px 2px rgba(0, 0, 0, 0.3));\n",
              "      fill: #FFFFFF;\n",
              "    }\n",
              "  </style>\n",
              "\n",
              "    <script>\n",
              "      const buttonEl =\n",
              "        document.querySelector('#df-b451ab54-bbd0-40fe-be9b-1c0bb9ca9487 button.colab-df-convert');\n",
              "      buttonEl.style.display =\n",
              "        google.colab.kernel.accessAllowed ? 'block' : 'none';\n",
              "\n",
              "      async function convertToInteractive(key) {\n",
              "        const element = document.querySelector('#df-b451ab54-bbd0-40fe-be9b-1c0bb9ca9487');\n",
              "        const dataTable =\n",
              "          await google.colab.kernel.invokeFunction('convertToInteractive',\n",
              "                                                    [key], {});\n",
              "        if (!dataTable) return;\n",
              "\n",
              "        const docLinkHtml = 'Like what you see? Visit the ' +\n",
              "          '<a target=\"_blank\" href=https://colab.research.google.com/notebooks/data_table.ipynb>data table notebook</a>'\n",
              "          + ' to learn more about interactive tables.';\n",
              "        element.innerHTML = '';\n",
              "        dataTable['output_type'] = 'display_data';\n",
              "        await google.colab.output.renderOutput(dataTable, element);\n",
              "        const docLink = document.createElement('div');\n",
              "        docLink.innerHTML = docLinkHtml;\n",
              "        element.appendChild(docLink);\n",
              "      }\n",
              "    </script>\n",
              "  </div>\n",
              "\n",
              "\n",
              "<div id=\"df-95a9b58e-fada-46b3-b8aa-d3694e0bcaeb\">\n",
              "  <button class=\"colab-df-quickchart\" onclick=\"quickchart('df-95a9b58e-fada-46b3-b8aa-d3694e0bcaeb')\"\n",
              "            title=\"Suggest charts\"\n",
              "            style=\"display:none;\">\n",
              "\n",
              "<svg xmlns=\"http://www.w3.org/2000/svg\" height=\"24px\"viewBox=\"0 0 24 24\"\n",
              "     width=\"24px\">\n",
              "    <g>\n",
              "        <path d=\"M19 3H5c-1.1 0-2 .9-2 2v14c0 1.1.9 2 2 2h14c1.1 0 2-.9 2-2V5c0-1.1-.9-2-2-2zM9 17H7v-7h2v7zm4 0h-2V7h2v10zm4 0h-2v-4h2v4z\"/>\n",
              "    </g>\n",
              "</svg>\n",
              "  </button>\n",
              "\n",
              "<style>\n",
              "  .colab-df-quickchart {\n",
              "      --bg-color: #E8F0FE;\n",
              "      --fill-color: #1967D2;\n",
              "      --hover-bg-color: #E2EBFA;\n",
              "      --hover-fill-color: #174EA6;\n",
              "      --disabled-fill-color: #AAA;\n",
              "      --disabled-bg-color: #DDD;\n",
              "  }\n",
              "\n",
              "  [theme=dark] .colab-df-quickchart {\n",
              "      --bg-color: #3B4455;\n",
              "      --fill-color: #D2E3FC;\n",
              "      --hover-bg-color: #434B5C;\n",
              "      --hover-fill-color: #FFFFFF;\n",
              "      --disabled-bg-color: #3B4455;\n",
              "      --disabled-fill-color: #666;\n",
              "  }\n",
              "\n",
              "  .colab-df-quickchart {\n",
              "    background-color: var(--bg-color);\n",
              "    border: none;\n",
              "    border-radius: 50%;\n",
              "    cursor: pointer;\n",
              "    display: none;\n",
              "    fill: var(--fill-color);\n",
              "    height: 32px;\n",
              "    padding: 0;\n",
              "    width: 32px;\n",
              "  }\n",
              "\n",
              "  .colab-df-quickchart:hover {\n",
              "    background-color: var(--hover-bg-color);\n",
              "    box-shadow: 0 1px 2px rgba(60, 64, 67, 0.3), 0 1px 3px 1px rgba(60, 64, 67, 0.15);\n",
              "    fill: var(--button-hover-fill-color);\n",
              "  }\n",
              "\n",
              "  .colab-df-quickchart-complete:disabled,\n",
              "  .colab-df-quickchart-complete:disabled:hover {\n",
              "    background-color: var(--disabled-bg-color);\n",
              "    fill: var(--disabled-fill-color);\n",
              "    box-shadow: none;\n",
              "  }\n",
              "\n",
              "  .colab-df-spinner {\n",
              "    border: 2px solid var(--fill-color);\n",
              "    border-color: transparent;\n",
              "    border-bottom-color: var(--fill-color);\n",
              "    animation:\n",
              "      spin 1s steps(1) infinite;\n",
              "  }\n",
              "\n",
              "  @keyframes spin {\n",
              "    0% {\n",
              "      border-color: transparent;\n",
              "      border-bottom-color: var(--fill-color);\n",
              "      border-left-color: var(--fill-color);\n",
              "    }\n",
              "    20% {\n",
              "      border-color: transparent;\n",
              "      border-left-color: var(--fill-color);\n",
              "      border-top-color: var(--fill-color);\n",
              "    }\n",
              "    30% {\n",
              "      border-color: transparent;\n",
              "      border-left-color: var(--fill-color);\n",
              "      border-top-color: var(--fill-color);\n",
              "      border-right-color: var(--fill-color);\n",
              "    }\n",
              "    40% {\n",
              "      border-color: transparent;\n",
              "      border-right-color: var(--fill-color);\n",
              "      border-top-color: var(--fill-color);\n",
              "    }\n",
              "    60% {\n",
              "      border-color: transparent;\n",
              "      border-right-color: var(--fill-color);\n",
              "    }\n",
              "    80% {\n",
              "      border-color: transparent;\n",
              "      border-right-color: var(--fill-color);\n",
              "      border-bottom-color: var(--fill-color);\n",
              "    }\n",
              "    90% {\n",
              "      border-color: transparent;\n",
              "      border-bottom-color: var(--fill-color);\n",
              "    }\n",
              "  }\n",
              "</style>\n",
              "\n",
              "  <script>\n",
              "    async function quickchart(key) {\n",
              "      const quickchartButtonEl =\n",
              "        document.querySelector('#' + key + ' button');\n",
              "      quickchartButtonEl.disabled = true;  // To prevent multiple clicks.\n",
              "      quickchartButtonEl.classList.add('colab-df-spinner');\n",
              "      try {\n",
              "        const charts = await google.colab.kernel.invokeFunction(\n",
              "            'suggestCharts', [key], {});\n",
              "      } catch (error) {\n",
              "        console.error('Error during call to suggestCharts:', error);\n",
              "      }\n",
              "      quickchartButtonEl.classList.remove('colab-df-spinner');\n",
              "      quickchartButtonEl.classList.add('colab-df-quickchart-complete');\n",
              "    }\n",
              "    (() => {\n",
              "      let quickchartButtonEl =\n",
              "        document.querySelector('#df-95a9b58e-fada-46b3-b8aa-d3694e0bcaeb button');\n",
              "      quickchartButtonEl.style.display =\n",
              "        google.colab.kernel.accessAllowed ? 'block' : 'none';\n",
              "    })();\n",
              "  </script>\n",
              "</div>\n",
              "    </div>\n",
              "  </div>\n"
            ]
          },
          "metadata": {},
          "execution_count": 6
        }
      ]
    },
    {
      "cell_type": "markdown",
      "source": [
        "## Data Cleaning\n",
        "\n",
        "Additional files that come with the dataset explain how the data was gathered and give information on which parts of the data can be used.\n",
        "\n",
        "* remove transient activity(id == 0), no usefull data\n",
        "* remove columns 'Orientation' --> not used in information gathering\n",
        "* remove columns 'accelerometer 6g' --> was not precicly calibrated during the data aquisition\n",
        "\n",
        "* remove subject 9\n",
        "\n",
        "* remove timestamp, since it doesnt contain any meaningful information correlated to the activity performed at the time\n",
        "\n",
        "* remove subject id\n",
        "\n",
        "* interpolate missing values due to:\n",
        "  * different frequencies (heartrate sensor - 9Hz, IMUs 100Hz)\n",
        "  * connection lost, package drops in wireless transmission\n",
        "\n"
      ],
      "metadata": {
        "id": "MnfhA4ElEx_b"
      }
    },
    {
      "cell_type": "code",
      "source": [
        "data = raw_data.drop(['hand_Orientation1',   'hand_Orientation2',  'hand_Orientation3',  'hand_Orientation4',\n",
        "                      'chest_Orientation1',  'chest_Orientation2', 'chest_Orientation3', 'chest_Orientation4',\n",
        "                      'ankle_Orientation1',  'ankle_Orientation2', 'ankle_Orientation3', 'ankle_Orientation4'],\n",
        "                    axis = 1)  # removal of orientation columns\n",
        "\n",
        "data = data.drop(['hand_Acc6_1',  'hand_Acc6_2',   'hand_Acc6_3',\n",
        "                  'chest_Acc6_1', 'chest_Acc6_2',  'chest_Acc6_3',\n",
        "                  'ankle_Acc6_1', 'ankle_Acc6_2',  'ankle_Acc6_3',],\n",
        "                    axis = 1) # remove columns of accelerometer6g\n",
        "\n",
        "data = data.drop(data[data.subject_id == 9].index) #(maybe not even load in first place ...)"
      ],
      "metadata": {
        "id": "_rf85CR9FsVY"
      },
      "execution_count": 7,
      "outputs": []
    },
    {
      "cell_type": "code",
      "source": [
        "#linear interpolation - think about other/better methods\n",
        "data = data.interpolate() #interpolate before transient activity gets removed"
      ],
      "metadata": {
        "id": "Z4HaXJI-NPU0"
      },
      "execution_count": 8,
      "outputs": []
    },
    {
      "cell_type": "code",
      "source": [
        "data = data.drop(data[data.activity_id == 0].index) #remove any row of activity 0 (transient)\n",
        "\n",
        "data = data.drop(['timestamp', 'subject_id'], axis = 1)\n",
        "\n",
        "#remove all activities which only one person did\n",
        "data = data.drop(data[data.activity_id == 9].index)  #remove watching TV\n",
        "data = data.drop(data[data.activity_id == 9].index)  #remove car driving\n",
        "data = data.drop(data[data.activity_id == 9].index)  #remove playing soccer"
      ],
      "metadata": {
        "id": "SnIIIeLw6uv4"
      },
      "execution_count": 9,
      "outputs": []
    },
    {
      "cell_type": "code",
      "source": [
        "data.reset_index(drop = True, inplace = True)\n",
        "data.head()"
      ],
      "metadata": {
        "colab": {
          "base_uri": "https://localhost:8080/",
          "height": 256
        },
        "id": "KX7R5k5HOjdT",
        "outputId": "e4596ce7-408b-45ae-baf5-f455f27607d2"
      },
      "execution_count": 10,
      "outputs": [
        {
          "output_type": "execute_result",
          "data": {
            "text/plain": [
              "   activity_id  heartrate  hand_temperature  hand_Acc16_1  hand_Acc16_2  \\\n",
              "0            1      100.0            30.375       2.24689       8.55387   \n",
              "1            1      100.0            30.375       2.27373       8.14592   \n",
              "2            1      100.0            30.375       2.26966       7.66268   \n",
              "3            1      100.0            30.375       2.22177       7.25535   \n",
              "4            1      100.0            30.375       2.20720       7.24042   \n",
              "\n",
              "   hand_Acc16_3  hand_Gyro1  hand_Gyro2  hand_Gyro3  hand_Magne1  ...  \\\n",
              "0       5.77143   -0.004750    0.037579   -0.011145      8.93200  ...   \n",
              "1       5.78739   -0.171710    0.025479   -0.009538      9.58300  ...   \n",
              "2       5.78846   -0.238241    0.011214    0.000831      9.05516  ...   \n",
              "3       5.88000   -0.192912    0.019053    0.013374      9.92698  ...   \n",
              "4       5.95555   -0.069961   -0.018328    0.004582      9.15626  ...   \n",
              "\n",
              "   ankle_temperature  ankle_Acc16_1  ankle_Acc16_2  ankle_Acc16_3  \\\n",
              "0              30.75        9.73855       -1.84761       0.095156   \n",
              "1              30.75        9.69762       -1.88438      -0.020804   \n",
              "2              30.75        9.69633       -1.92203      -0.059173   \n",
              "3              30.75        9.66370       -1.84714       0.094385   \n",
              "4              30.75        9.77578       -1.88582       0.095775   \n",
              "\n",
              "   ankle_Gyro1  ankle_Gyro2  ankle_Gyro3  ankle_Magne1  ankle_Magne2  \\\n",
              "0     0.002908    -0.027714     0.001752      -61.1081      -36.8636   \n",
              "1     0.020882     0.000945     0.006007      -60.8916      -36.3197   \n",
              "2    -0.035392    -0.052422    -0.004882      -60.3407      -35.7842   \n",
              "3    -0.032514    -0.018844     0.026950      -60.7646      -37.1028   \n",
              "4     0.001351    -0.048878    -0.006328      -60.2040      -37.1225   \n",
              "\n",
              "   ankle_Magne3  \n",
              "0      -58.3696  \n",
              "1      -58.3656  \n",
              "2      -58.6119  \n",
              "3      -57.8799  \n",
              "4      -57.8847  \n",
              "\n",
              "[5 rows x 32 columns]"
            ],
            "text/html": [
              "\n",
              "  <div id=\"df-925c2ae7-fc97-4e31-b49d-bdc0390b8760\" class=\"colab-df-container\">\n",
              "    <div>\n",
              "<style scoped>\n",
              "    .dataframe tbody tr th:only-of-type {\n",
              "        vertical-align: middle;\n",
              "    }\n",
              "\n",
              "    .dataframe tbody tr th {\n",
              "        vertical-align: top;\n",
              "    }\n",
              "\n",
              "    .dataframe thead th {\n",
              "        text-align: right;\n",
              "    }\n",
              "</style>\n",
              "<table border=\"1\" class=\"dataframe\">\n",
              "  <thead>\n",
              "    <tr style=\"text-align: right;\">\n",
              "      <th></th>\n",
              "      <th>activity_id</th>\n",
              "      <th>heartrate</th>\n",
              "      <th>hand_temperature</th>\n",
              "      <th>hand_Acc16_1</th>\n",
              "      <th>hand_Acc16_2</th>\n",
              "      <th>hand_Acc16_3</th>\n",
              "      <th>hand_Gyro1</th>\n",
              "      <th>hand_Gyro2</th>\n",
              "      <th>hand_Gyro3</th>\n",
              "      <th>hand_Magne1</th>\n",
              "      <th>...</th>\n",
              "      <th>ankle_temperature</th>\n",
              "      <th>ankle_Acc16_1</th>\n",
              "      <th>ankle_Acc16_2</th>\n",
              "      <th>ankle_Acc16_3</th>\n",
              "      <th>ankle_Gyro1</th>\n",
              "      <th>ankle_Gyro2</th>\n",
              "      <th>ankle_Gyro3</th>\n",
              "      <th>ankle_Magne1</th>\n",
              "      <th>ankle_Magne2</th>\n",
              "      <th>ankle_Magne3</th>\n",
              "    </tr>\n",
              "  </thead>\n",
              "  <tbody>\n",
              "    <tr>\n",
              "      <th>0</th>\n",
              "      <td>1</td>\n",
              "      <td>100.0</td>\n",
              "      <td>30.375</td>\n",
              "      <td>2.24689</td>\n",
              "      <td>8.55387</td>\n",
              "      <td>5.77143</td>\n",
              "      <td>-0.004750</td>\n",
              "      <td>0.037579</td>\n",
              "      <td>-0.011145</td>\n",
              "      <td>8.93200</td>\n",
              "      <td>...</td>\n",
              "      <td>30.75</td>\n",
              "      <td>9.73855</td>\n",
              "      <td>-1.84761</td>\n",
              "      <td>0.095156</td>\n",
              "      <td>0.002908</td>\n",
              "      <td>-0.027714</td>\n",
              "      <td>0.001752</td>\n",
              "      <td>-61.1081</td>\n",
              "      <td>-36.8636</td>\n",
              "      <td>-58.3696</td>\n",
              "    </tr>\n",
              "    <tr>\n",
              "      <th>1</th>\n",
              "      <td>1</td>\n",
              "      <td>100.0</td>\n",
              "      <td>30.375</td>\n",
              "      <td>2.27373</td>\n",
              "      <td>8.14592</td>\n",
              "      <td>5.78739</td>\n",
              "      <td>-0.171710</td>\n",
              "      <td>0.025479</td>\n",
              "      <td>-0.009538</td>\n",
              "      <td>9.58300</td>\n",
              "      <td>...</td>\n",
              "      <td>30.75</td>\n",
              "      <td>9.69762</td>\n",
              "      <td>-1.88438</td>\n",
              "      <td>-0.020804</td>\n",
              "      <td>0.020882</td>\n",
              "      <td>0.000945</td>\n",
              "      <td>0.006007</td>\n",
              "      <td>-60.8916</td>\n",
              "      <td>-36.3197</td>\n",
              "      <td>-58.3656</td>\n",
              "    </tr>\n",
              "    <tr>\n",
              "      <th>2</th>\n",
              "      <td>1</td>\n",
              "      <td>100.0</td>\n",
              "      <td>30.375</td>\n",
              "      <td>2.26966</td>\n",
              "      <td>7.66268</td>\n",
              "      <td>5.78846</td>\n",
              "      <td>-0.238241</td>\n",
              "      <td>0.011214</td>\n",
              "      <td>0.000831</td>\n",
              "      <td>9.05516</td>\n",
              "      <td>...</td>\n",
              "      <td>30.75</td>\n",
              "      <td>9.69633</td>\n",
              "      <td>-1.92203</td>\n",
              "      <td>-0.059173</td>\n",
              "      <td>-0.035392</td>\n",
              "      <td>-0.052422</td>\n",
              "      <td>-0.004882</td>\n",
              "      <td>-60.3407</td>\n",
              "      <td>-35.7842</td>\n",
              "      <td>-58.6119</td>\n",
              "    </tr>\n",
              "    <tr>\n",
              "      <th>3</th>\n",
              "      <td>1</td>\n",
              "      <td>100.0</td>\n",
              "      <td>30.375</td>\n",
              "      <td>2.22177</td>\n",
              "      <td>7.25535</td>\n",
              "      <td>5.88000</td>\n",
              "      <td>-0.192912</td>\n",
              "      <td>0.019053</td>\n",
              "      <td>0.013374</td>\n",
              "      <td>9.92698</td>\n",
              "      <td>...</td>\n",
              "      <td>30.75</td>\n",
              "      <td>9.66370</td>\n",
              "      <td>-1.84714</td>\n",
              "      <td>0.094385</td>\n",
              "      <td>-0.032514</td>\n",
              "      <td>-0.018844</td>\n",
              "      <td>0.026950</td>\n",
              "      <td>-60.7646</td>\n",
              "      <td>-37.1028</td>\n",
              "      <td>-57.8799</td>\n",
              "    </tr>\n",
              "    <tr>\n",
              "      <th>4</th>\n",
              "      <td>1</td>\n",
              "      <td>100.0</td>\n",
              "      <td>30.375</td>\n",
              "      <td>2.20720</td>\n",
              "      <td>7.24042</td>\n",
              "      <td>5.95555</td>\n",
              "      <td>-0.069961</td>\n",
              "      <td>-0.018328</td>\n",
              "      <td>0.004582</td>\n",
              "      <td>9.15626</td>\n",
              "      <td>...</td>\n",
              "      <td>30.75</td>\n",
              "      <td>9.77578</td>\n",
              "      <td>-1.88582</td>\n",
              "      <td>0.095775</td>\n",
              "      <td>0.001351</td>\n",
              "      <td>-0.048878</td>\n",
              "      <td>-0.006328</td>\n",
              "      <td>-60.2040</td>\n",
              "      <td>-37.1225</td>\n",
              "      <td>-57.8847</td>\n",
              "    </tr>\n",
              "  </tbody>\n",
              "</table>\n",
              "<p>5 rows × 32 columns</p>\n",
              "</div>\n",
              "    <div class=\"colab-df-buttons\">\n",
              "\n",
              "  <div class=\"colab-df-container\">\n",
              "    <button class=\"colab-df-convert\" onclick=\"convertToInteractive('df-925c2ae7-fc97-4e31-b49d-bdc0390b8760')\"\n",
              "            title=\"Convert this dataframe to an interactive table.\"\n",
              "            style=\"display:none;\">\n",
              "\n",
              "  <svg xmlns=\"http://www.w3.org/2000/svg\" height=\"24px\" viewBox=\"0 -960 960 960\">\n",
              "    <path d=\"M120-120v-720h720v720H120Zm60-500h600v-160H180v160Zm220 220h160v-160H400v160Zm0 220h160v-160H400v160ZM180-400h160v-160H180v160Zm440 0h160v-160H620v160ZM180-180h160v-160H180v160Zm440 0h160v-160H620v160Z\"/>\n",
              "  </svg>\n",
              "    </button>\n",
              "\n",
              "  <style>\n",
              "    .colab-df-container {\n",
              "      display:flex;\n",
              "      gap: 12px;\n",
              "    }\n",
              "\n",
              "    .colab-df-convert {\n",
              "      background-color: #E8F0FE;\n",
              "      border: none;\n",
              "      border-radius: 50%;\n",
              "      cursor: pointer;\n",
              "      display: none;\n",
              "      fill: #1967D2;\n",
              "      height: 32px;\n",
              "      padding: 0 0 0 0;\n",
              "      width: 32px;\n",
              "    }\n",
              "\n",
              "    .colab-df-convert:hover {\n",
              "      background-color: #E2EBFA;\n",
              "      box-shadow: 0px 1px 2px rgba(60, 64, 67, 0.3), 0px 1px 3px 1px rgba(60, 64, 67, 0.15);\n",
              "      fill: #174EA6;\n",
              "    }\n",
              "\n",
              "    .colab-df-buttons div {\n",
              "      margin-bottom: 4px;\n",
              "    }\n",
              "\n",
              "    [theme=dark] .colab-df-convert {\n",
              "      background-color: #3B4455;\n",
              "      fill: #D2E3FC;\n",
              "    }\n",
              "\n",
              "    [theme=dark] .colab-df-convert:hover {\n",
              "      background-color: #434B5C;\n",
              "      box-shadow: 0px 1px 3px 1px rgba(0, 0, 0, 0.15);\n",
              "      filter: drop-shadow(0px 1px 2px rgba(0, 0, 0, 0.3));\n",
              "      fill: #FFFFFF;\n",
              "    }\n",
              "  </style>\n",
              "\n",
              "    <script>\n",
              "      const buttonEl =\n",
              "        document.querySelector('#df-925c2ae7-fc97-4e31-b49d-bdc0390b8760 button.colab-df-convert');\n",
              "      buttonEl.style.display =\n",
              "        google.colab.kernel.accessAllowed ? 'block' : 'none';\n",
              "\n",
              "      async function convertToInteractive(key) {\n",
              "        const element = document.querySelector('#df-925c2ae7-fc97-4e31-b49d-bdc0390b8760');\n",
              "        const dataTable =\n",
              "          await google.colab.kernel.invokeFunction('convertToInteractive',\n",
              "                                                    [key], {});\n",
              "        if (!dataTable) return;\n",
              "\n",
              "        const docLinkHtml = 'Like what you see? Visit the ' +\n",
              "          '<a target=\"_blank\" href=https://colab.research.google.com/notebooks/data_table.ipynb>data table notebook</a>'\n",
              "          + ' to learn more about interactive tables.';\n",
              "        element.innerHTML = '';\n",
              "        dataTable['output_type'] = 'display_data';\n",
              "        await google.colab.output.renderOutput(dataTable, element);\n",
              "        const docLink = document.createElement('div');\n",
              "        docLink.innerHTML = docLinkHtml;\n",
              "        element.appendChild(docLink);\n",
              "      }\n",
              "    </script>\n",
              "  </div>\n",
              "\n",
              "\n",
              "<div id=\"df-d0828cf5-b54c-40ac-9be8-04ebd611caf0\">\n",
              "  <button class=\"colab-df-quickchart\" onclick=\"quickchart('df-d0828cf5-b54c-40ac-9be8-04ebd611caf0')\"\n",
              "            title=\"Suggest charts\"\n",
              "            style=\"display:none;\">\n",
              "\n",
              "<svg xmlns=\"http://www.w3.org/2000/svg\" height=\"24px\"viewBox=\"0 0 24 24\"\n",
              "     width=\"24px\">\n",
              "    <g>\n",
              "        <path d=\"M19 3H5c-1.1 0-2 .9-2 2v14c0 1.1.9 2 2 2h14c1.1 0 2-.9 2-2V5c0-1.1-.9-2-2-2zM9 17H7v-7h2v7zm4 0h-2V7h2v10zm4 0h-2v-4h2v4z\"/>\n",
              "    </g>\n",
              "</svg>\n",
              "  </button>\n",
              "\n",
              "<style>\n",
              "  .colab-df-quickchart {\n",
              "      --bg-color: #E8F0FE;\n",
              "      --fill-color: #1967D2;\n",
              "      --hover-bg-color: #E2EBFA;\n",
              "      --hover-fill-color: #174EA6;\n",
              "      --disabled-fill-color: #AAA;\n",
              "      --disabled-bg-color: #DDD;\n",
              "  }\n",
              "\n",
              "  [theme=dark] .colab-df-quickchart {\n",
              "      --bg-color: #3B4455;\n",
              "      --fill-color: #D2E3FC;\n",
              "      --hover-bg-color: #434B5C;\n",
              "      --hover-fill-color: #FFFFFF;\n",
              "      --disabled-bg-color: #3B4455;\n",
              "      --disabled-fill-color: #666;\n",
              "  }\n",
              "\n",
              "  .colab-df-quickchart {\n",
              "    background-color: var(--bg-color);\n",
              "    border: none;\n",
              "    border-radius: 50%;\n",
              "    cursor: pointer;\n",
              "    display: none;\n",
              "    fill: var(--fill-color);\n",
              "    height: 32px;\n",
              "    padding: 0;\n",
              "    width: 32px;\n",
              "  }\n",
              "\n",
              "  .colab-df-quickchart:hover {\n",
              "    background-color: var(--hover-bg-color);\n",
              "    box-shadow: 0 1px 2px rgba(60, 64, 67, 0.3), 0 1px 3px 1px rgba(60, 64, 67, 0.15);\n",
              "    fill: var(--button-hover-fill-color);\n",
              "  }\n",
              "\n",
              "  .colab-df-quickchart-complete:disabled,\n",
              "  .colab-df-quickchart-complete:disabled:hover {\n",
              "    background-color: var(--disabled-bg-color);\n",
              "    fill: var(--disabled-fill-color);\n",
              "    box-shadow: none;\n",
              "  }\n",
              "\n",
              "  .colab-df-spinner {\n",
              "    border: 2px solid var(--fill-color);\n",
              "    border-color: transparent;\n",
              "    border-bottom-color: var(--fill-color);\n",
              "    animation:\n",
              "      spin 1s steps(1) infinite;\n",
              "  }\n",
              "\n",
              "  @keyframes spin {\n",
              "    0% {\n",
              "      border-color: transparent;\n",
              "      border-bottom-color: var(--fill-color);\n",
              "      border-left-color: var(--fill-color);\n",
              "    }\n",
              "    20% {\n",
              "      border-color: transparent;\n",
              "      border-left-color: var(--fill-color);\n",
              "      border-top-color: var(--fill-color);\n",
              "    }\n",
              "    30% {\n",
              "      border-color: transparent;\n",
              "      border-left-color: var(--fill-color);\n",
              "      border-top-color: var(--fill-color);\n",
              "      border-right-color: var(--fill-color);\n",
              "    }\n",
              "    40% {\n",
              "      border-color: transparent;\n",
              "      border-right-color: var(--fill-color);\n",
              "      border-top-color: var(--fill-color);\n",
              "    }\n",
              "    60% {\n",
              "      border-color: transparent;\n",
              "      border-right-color: var(--fill-color);\n",
              "    }\n",
              "    80% {\n",
              "      border-color: transparent;\n",
              "      border-right-color: var(--fill-color);\n",
              "      border-bottom-color: var(--fill-color);\n",
              "    }\n",
              "    90% {\n",
              "      border-color: transparent;\n",
              "      border-bottom-color: var(--fill-color);\n",
              "    }\n",
              "  }\n",
              "</style>\n",
              "\n",
              "  <script>\n",
              "    async function quickchart(key) {\n",
              "      const quickchartButtonEl =\n",
              "        document.querySelector('#' + key + ' button');\n",
              "      quickchartButtonEl.disabled = true;  // To prevent multiple clicks.\n",
              "      quickchartButtonEl.classList.add('colab-df-spinner');\n",
              "      try {\n",
              "        const charts = await google.colab.kernel.invokeFunction(\n",
              "            'suggestCharts', [key], {});\n",
              "      } catch (error) {\n",
              "        console.error('Error during call to suggestCharts:', error);\n",
              "      }\n",
              "      quickchartButtonEl.classList.remove('colab-df-spinner');\n",
              "      quickchartButtonEl.classList.add('colab-df-quickchart-complete');\n",
              "    }\n",
              "    (() => {\n",
              "      let quickchartButtonEl =\n",
              "        document.querySelector('#df-d0828cf5-b54c-40ac-9be8-04ebd611caf0 button');\n",
              "      quickchartButtonEl.style.display =\n",
              "        google.colab.kernel.accessAllowed ? 'block' : 'none';\n",
              "    })();\n",
              "  </script>\n",
              "</div>\n",
              "    </div>\n",
              "  </div>\n"
            ]
          },
          "metadata": {},
          "execution_count": 10
        }
      ]
    },
    {
      "cell_type": "code",
      "source": [
        "data.isnull().sum() #check for missing values left after interpolation"
      ],
      "metadata": {
        "colab": {
          "base_uri": "https://localhost:8080/"
        },
        "id": "tTJphf2WLgND",
        "outputId": "8adbb551-7478-4eec-8ab0-0777b341f85c"
      },
      "execution_count": 11,
      "outputs": [
        {
          "output_type": "execute_result",
          "data": {
            "text/plain": [
              "activity_id          0\n",
              "heartrate            0\n",
              "hand_temperature     0\n",
              "hand_Acc16_1         0\n",
              "hand_Acc16_2         0\n",
              "hand_Acc16_3         0\n",
              "hand_Gyro1           0\n",
              "hand_Gyro2           0\n",
              "hand_Gyro3           0\n",
              "hand_Magne1          0\n",
              "hand_Magne2          0\n",
              "hand_Magne3          0\n",
              "chest_temperature    0\n",
              "chest_Acc16_1        0\n",
              "chest_Acc16_2        0\n",
              "chest_Acc16_3        0\n",
              "chest_Gyro1          0\n",
              "chest_Gyro2          0\n",
              "chest_Gyro3          0\n",
              "chest_Magne1         0\n",
              "chest_Magne2         0\n",
              "chest_Magne3         0\n",
              "ankle_temperature    0\n",
              "ankle_Acc16_1        0\n",
              "ankle_Acc16_2        0\n",
              "ankle_Acc16_3        0\n",
              "ankle_Gyro1          0\n",
              "ankle_Gyro2          0\n",
              "ankle_Gyro3          0\n",
              "ankle_Magne1         0\n",
              "ankle_Magne2         0\n",
              "ankle_Magne3         0\n",
              "dtype: int64"
            ]
          },
          "metadata": {},
          "execution_count": 11
        }
      ]
    },
    {
      "cell_type": "markdown",
      "source": [
        "## Visualization to understand the data better"
      ],
      "metadata": {
        "id": "rlVAw6D5_KVJ"
      }
    },
    {
      "cell_type": "code",
      "source": [
        "class_distribution = data['activity_id'].value_counts()\n",
        "\n",
        "class_distribution.index = class_distribution.index.map(activity_id_dict)\n",
        "c = ['#1f77b4', '#ff7f0e', '#2ca02c', '#d62728', '#9467bd', '#8c564b', '#e377c2', '#7f7f7f', '#bcbd22', '#17becf']\n",
        "class_distribution.plot(kind='bar', color=c)"
      ],
      "metadata": {
        "colab": {
          "base_uri": "https://localhost:8080/",
          "height": 563
        },
        "id": "ZEsQzzsX7EX-",
        "outputId": "95ba4ceb-5e96-43c4-c3bd-2fd0f21f48cc"
      },
      "execution_count": 12,
      "outputs": [
        {
          "output_type": "execute_result",
          "data": {
            "text/plain": [
              "<Axes: >"
            ]
          },
          "metadata": {},
          "execution_count": 12
        },
        {
          "output_type": "display_data",
          "data": {
            "text/plain": [
              "<Figure size 640x480 with 1 Axes>"
            ],
            "image/png": "[encoded data removed]"
          },
          "metadata": {}
        }
      ]
    },
    {
      "cell_type": "markdown",
      "source": [
        "The distribution over the classes is imbalanced.\n",
        "* up and downsample some of the classes to balance the datas"
      ],
      "metadata": {
        "id": "eDvFgAIW4xTi"
      }
    },
    {
      "cell_type": "code",
      "source": [
        "#split for resampling\n",
        "\n",
        "col = data.columns\n",
        "x_cols = col[1:]\n",
        "\n",
        "\n",
        "y_df = data['activity_id']\n",
        "x_df = data[x_cols]"
      ],
      "metadata": {
        "id": "BOtoSiSbHOfD"
      },
      "execution_count": 13,
      "outputs": []
    },
    {
      "cell_type": "code",
      "source": [
        "class_distribution"
      ],
      "metadata": {
        "colab": {
          "base_uri": "https://localhost:8080/"
        },
        "id": "CO0MA1XzaUUh",
        "outputId": "29ecafad-a1c9-4e61-f048-76e4f02f35c5"
      },
      "execution_count": 14,
      "outputs": [
        {
          "output_type": "execute_result",
          "data": {
            "text/plain": [
              "walking              238761\n",
              "ironing              238690\n",
              "lying                192523\n",
              "standing             189931\n",
              "Nordic_walking       188107\n",
              "sitting              185188\n",
              "vacuum_cleaning      175353\n",
              "cycling              164600\n",
              "ascending_stairs     117216\n",
              "descending_stairs    104944\n",
              "running               98199\n",
              "rope_jumping          42969\n",
              "Name: activity_id, dtype: int64"
            ]
          },
          "metadata": {},
          "execution_count": 14
        }
      ]
    },
    {
      "cell_type": "code",
      "source": [
        "#naive resampling --> random undersampling --> deleting random samples of the majority class\n",
        "\n",
        "#brings everything to size of cycling --> upsample smaller classes\n",
        "undersample_dict = {4 :164600,\n",
        "                   17 :164600,\n",
        "                    1 :164600,\n",
        "                    3 :164600,\n",
        "                    7 :164600,\n",
        "                    2 :164600,\n",
        "                   16 :164600}\n",
        "\n",
        "#undersampler = RandomUnderSampler(sampling_strategy=undersample_dict)\n",
        "\n",
        "\n",
        "#brings everything to size of smalles class\n",
        "undersampler = RandomUnderSampler(sampling_strategy='not minority') #!!! reduces size of dataset drastically (just for test purposes)"
      ],
      "metadata": {
        "id": "vhA_oBgAYpiW"
      },
      "execution_count": 15,
      "outputs": []
    },
    {
      "cell_type": "code",
      "source": [
        "data_resampled, y_res = undersampler.fit_resample(x_df, y_df) #takes really long\n",
        "\n",
        "data_resampled['activity_id'] = y_res #put back together\n",
        "#data_resampled.head()"
      ],
      "metadata": {
        "id": "0ujBlj-4avit"
      },
      "execution_count": 16,
      "outputs": []
    },
    {
      "cell_type": "code",
      "source": [
        "class_distribution = data_resampled['activity_id'].value_counts()\n",
        "\n",
        "class_distribution.index = class_distribution.index.map(activity_id_dict)\n",
        "class_distribution"
      ],
      "metadata": {
        "colab": {
          "base_uri": "https://localhost:8080/"
        },
        "id": "1jSv6aO2dfvr",
        "outputId": "30f89b42-dccf-4ffa-cc19-cad984b93c8f"
      },
      "execution_count": 17,
      "outputs": [
        {
          "output_type": "execute_result",
          "data": {
            "text/plain": [
              "lying                42969\n",
              "sitting              42969\n",
              "standing             42969\n",
              "walking              42969\n",
              "running              42969\n",
              "cycling              42969\n",
              "Nordic_walking       42969\n",
              "ascending_stairs     42969\n",
              "descending_stairs    42969\n",
              "vacuum_cleaning      42969\n",
              "ironing              42969\n",
              "rope_jumping         42969\n",
              "Name: activity_id, dtype: int64"
            ]
          },
          "metadata": {},
          "execution_count": 17
        }
      ]
    },
    {
      "cell_type": "code",
      "source": [
        "#balance data using SMOTE\n",
        "\n",
        "#sm = SMOTE(sampling_strategy='not majority', random_state=100)\n",
        "#data_resampled, y_res = sm.fit_resample(x_df, y_df) #takes really long\n",
        "\n",
        "#data_resampled['activity_id'] = y_res #put back together\n",
        "#data_resampled.head()"
      ],
      "metadata": {
        "id": "g0nk9vEy_U82"
      },
      "execution_count": 18,
      "outputs": []
    },
    {
      "cell_type": "markdown",
      "source": [
        "## Scale, Randomize, Split"
      ],
      "metadata": {
        "id": "qE6Y_aDSOuCV"
      }
    },
    {
      "cell_type": "code",
      "source": [
        "from sklearn.utils import resample\n",
        "#Scale\n",
        "col = data.columns\n",
        "columns_to_scale = col[1:] #everything but labels\n",
        "scaled_data = data_resampled #make copy\n",
        "\n",
        "\n",
        "#Choose Scaling Approach\n",
        "\n",
        "scaler = MinMaxScaler() #way better results than standardscaler\n",
        "#scaler = StandardScaler()\n",
        "\n",
        "\n",
        "# apply scaler\n",
        "scaled_data[columns_to_scale] = scaler.fit_transform(data_resampled[columns_to_scale])"
      ],
      "metadata": {
        "id": "NVENzwqHQY1L"
      },
      "execution_count": 92,
      "outputs": []
    },
    {
      "cell_type": "code",
      "source": [
        "#split 80/20 and randomize\n",
        "\n",
        "df_train, df_val = train_test_split(scaled_data, train_size = 0.8, test_size = 0.2, random_state = 100)\n"
      ],
      "metadata": {
        "id": "dTsroUf8Prq2"
      },
      "execution_count": 93,
      "outputs": []
    },
    {
      "cell_type": "code",
      "source": [
        "y_train = df_train.pop('activity_id') # seperate x from y\n",
        "y_val   = df_val.pop('activity_id')\n",
        "\n",
        "# convert to numpy array\n",
        "y_train = y_train.to_numpy()\n",
        "y_val = y_val.to_numpy()\n",
        "\n",
        "x_train = df_train.to_numpy()\n",
        "x_val = df_val.to_numpy()"
      ],
      "metadata": {
        "id": "viJ23q3QSgwp"
      },
      "execution_count": 94,
      "outputs": []
    },
    {
      "cell_type": "code",
      "source": [
        "x_train.shape"
      ],
      "metadata": {
        "colab": {
          "base_uri": "https://localhost:8080/"
        },
        "id": "QZHE5E9WglJU",
        "outputId": "976dbbf7-c7b8-46c5-c19c-20c5bd47465d"
      },
      "execution_count": 95,
      "outputs": [
        {
          "output_type": "execute_result",
          "data": {
            "text/plain": [
              "(412502, 31)"
            ]
          },
          "metadata": {},
          "execution_count": 95
        }
      ]
    },
    {
      "cell_type": "code",
      "source": [
        "#PCA\n",
        "k = 15 #optimal value to be found\n",
        "pca = PCA(n_components=k)\n",
        "\n",
        "pc_train = pca.fit_transform(x_train)\n",
        "pc_val = pca.fit_transform(x_val)"
      ],
      "metadata": {
        "id": "nvXoy8-vGN9H"
      },
      "execution_count": 96,
      "outputs": []
    },
    {
      "cell_type": "code",
      "source": [
        "#Logistic Regression\n",
        "\n",
        "clf = LogisticRegression()\n",
        "\n",
        "clf.fit(pc_train, y_train)\n",
        "y_pred = clf.predict(pc_val)\n"
      ],
      "metadata": {
        "id": "7ByMy_ZcP_SN",
        "colab": {
          "base_uri": "https://localhost:8080/"
        },
        "outputId": "2399e9e3-3345-457c-b6e4-3491214988ac"
      },
      "execution_count": 97,
      "outputs": [
        {
          "output_type": "stream",
          "name": "stderr",
          "text": [
            "/usr/local/lib/python3.10/dist-packages/sklearn/linear_model/_logistic.py:458: ConvergenceWarning: lbfgs failed to converge (status=1):\n",
            "STOP: TOTAL NO. of ITERATIONS REACHED LIMIT.\n",
            "\n",
            "Increase the number of iterations (max_iter) or scale the data as shown in:\n",
            "    https://scikit-learn.org/stable/modules/preprocessing.html\n",
            "Please also refer to the documentation for alternative solver options:\n",
            "    https://scikit-learn.org/stable/modules/linear_model.html#logistic-regression\n",
            "  n_iter_i = _check_optimize_result(\n"
          ]
        }
      ]
    },
    {
      "cell_type": "code",
      "source": [
        "#Support Vector Classifier\n",
        "# takes forever, not suitable for this large datasets --> preprocess data for use with svc\n",
        "\n",
        "#clf = SVC(kernel='linear', C=1E3) #\n",
        "#clf.fit(pc_train, y_train)\n",
        "#y_pred = clf.predict(pc_val)"
      ],
      "metadata": {
        "id": "UNyn9swRU1dY"
      },
      "execution_count": 98,
      "outputs": []
    },
    {
      "cell_type": "code",
      "source": [
        "#store model in file\n",
        "#from joblib import dump, load\n",
        "#dump(clf, 'filename.joblib')\n",
        "\n",
        "#load model from file\n",
        "#clf = load('filename.joblib')"
      ],
      "metadata": {
        "id": "3BSVtrPmYDZL"
      },
      "execution_count": 99,
      "outputs": []
    },
    {
      "cell_type": "code",
      "source": [
        "# fix it\n",
        "\n",
        "#acc  = metrics.accuracy_score(y_val, y_pred)\n",
        "#prec = metrics.precision_score(y_val, y_pred)\n",
        "#rec  = metrics.recall_score(y_val, y_pred)\n",
        "#f1   = metrics.f1_score(y_val, y_pred)\n",
        "\n"
      ],
      "metadata": {
        "id": "D5CL7m2mVFAc"
      },
      "execution_count": 100,
      "outputs": []
    },
    {
      "cell_type": "code",
      "source": [
        "clf.classes_"
      ],
      "metadata": {
        "colab": {
          "base_uri": "https://localhost:8080/"
        },
        "id": "mX1GwcWzXDI0",
        "outputId": "dcc348fe-8fb0-46f1-a177-2fd91974e6cb"
      },
      "execution_count": 101,
      "outputs": [
        {
          "output_type": "execute_result",
          "data": {
            "text/plain": [
              "array([ 1,  2,  3,  4,  5,  6,  7, 12, 13, 16, 17, 24])"
            ]
          },
          "metadata": {},
          "execution_count": 101
        }
      ]
    },
    {
      "cell_type": "code",
      "source": [
        "#confusion matrix\n",
        "cnf_matrix = confusion_matrix(y_val, y_pred)\n",
        "\n",
        "class_labels = np.vectorize(activity_id_dict.get)(clf.classes_)\n",
        "\n",
        "# create heatmap\n",
        "fig, ax = plt.subplots(figsize=(8,6))\n",
        "sns.heatmap(pd.DataFrame(cnf_matrix), annot=True, cmap=\"YlGnBu\" ,fmt='g',linewidths=0.5,  xticklabels=class_labels, yticklabels=class_labels, ax=ax)\n",
        "\n",
        "plt.title('Confusion matrix')\n",
        "plt.ylabel('Actual label')\n",
        "plt.xlabel('Predicted label')"
      ],
      "metadata": {
        "colab": {
          "base_uri": "https://localhost:8080/",
          "height": 693
        },
        "id": "JuuWe_VLYC0u",
        "outputId": "2c5dda69-e9ee-41b5-d37d-caa59b2060f3"
      },
      "execution_count": 102,
      "outputs": [
        {
          "output_type": "execute_result",
          "data": {
            "text/plain": [
              "Text(0.5, 36.58159722222221, 'Predicted label')"
            ]
          },
          "metadata": {},
          "execution_count": 102
        },
        {
          "output_type": "display_data",
          "data": {
            "text/plain": [
              "<Figure size 800x600 with 2 Axes>"
            ],
            "image/png": "[encoded data removed]"
          },
          "metadata": {}
        }
      ]
    }
  ]
}