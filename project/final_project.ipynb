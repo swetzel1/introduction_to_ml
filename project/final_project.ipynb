{
  "nbformat": 4,
  "nbformat_minor": 0,
  "metadata": {
    "colab": {
      "provenance": [],
      "include_colab_link": true
    },
    "kernelspec": {
      "name": "python3",
      "display_name": "Python 3"
    },
    "language_info": {
      "name": "python"
    }
  },
  "cells": [
    {
      "cell_type": "markdown",
      "metadata": {
        "id": "view-in-github",
        "colab_type": "text"
      },
      "source": [
        "<a href=\"https://colab.research.google.com/github/swetzel1/introduction_to_ml/blob/main/project/final_project.ipynb\" target=\"_parent\"><img src=\"https://colab.research.google.com/assets/colab-badge.svg\" alt=\"Open In Colab\"/></a>"
      ]
    },
    {
      "cell_type": "markdown",
      "source": [
        "# Physical Activity Monitoring\n"
      ],
      "metadata": {
        "id": "kGpoGHqaEnm1"
      }
    },
    {
      "cell_type": "code",
      "execution_count": 48,
      "metadata": {
        "id": "UNYWTkWLjDvB"
      },
      "outputs": [],
      "source": [
        "#load libraries\n",
        "\n",
        "import numpy as np\n",
        "import pandas as pd\n",
        "import seaborn as sns\n",
        "\n",
        "from pandas.plotting import scatter_matrix\n",
        "\n",
        "from imblearn.over_sampling   import SMOTE\n",
        "from imblearn.under_sampling  import RandomUnderSampler\n",
        "\n",
        "from matplotlib import pyplot as plt\n",
        "\n",
        "from joblib import dump, load\n",
        "\n",
        "from sklearn.preprocessing    import MinMaxScaler\n",
        "from sklearn.model_selection  import train_test_split\n",
        "from sklearn.preprocessing    import StandardScaler\n",
        "from sklearn                  import metrics\n",
        "from sklearn.decomposition    import PCA\n",
        "from sklearn.linear_model     import LogisticRegression\n",
        "from sklearn.naive_bayes      import GaussianNB\n",
        "from sklearn.ensemble         import RandomForestClassifier\n",
        "from sklearn.svm              import SVC\n",
        "from sklearn.metrics          import confusion_matrix\n",
        "from sklearn.metrics          import ConfusionMatrixDisplay"
      ]
    },
    {
      "cell_type": "code",
      "source": [
        "from google.colab import drive\n",
        "drive.mount('/content/drive')"
      ],
      "metadata": {
        "colab": {
          "base_uri": "https://localhost:8080/"
        },
        "id": "CXFErGfvLZNt",
        "outputId": "b0f0ddd8-142e-4dd8-c8f4-9a068e798ee7"
      },
      "execution_count": 3,
      "outputs": [
        {
          "output_type": "stream",
          "name": "stdout",
          "text": [
            "Mounted at /content/drive\n"
          ]
        }
      ]
    },
    {
      "cell_type": "markdown",
      "source": [
        "## Load Data"
      ],
      "metadata": {
        "id": "KZ_rWib9EgST"
      }
    },
    {
      "cell_type": "code",
      "source": [
        "#folder_structure = '/content/drive/My Drive/Intro_to_ML/final_project/dataset/' #change this to your correspoding folder\n",
        "folder_structure = '/content/drive/My Drive/final_project/dataset/' #Emilias link\n",
        "\n",
        "file_names = ['subject101.dat',\n",
        "              'subject102.dat',\n",
        "              'subject103.dat',\n",
        "              'subject104.dat',\n",
        "              'subject105.dat',\n",
        "              'subject106.dat',\n",
        "              'subject107.dat',\n",
        "              'subject108.dat',\n",
        "              'subject109.dat' ]"
      ],
      "metadata": {
        "id": "iirKvICK-Ra-"
      },
      "execution_count": 4,
      "outputs": []
    },
    {
      "cell_type": "code",
      "source": [
        "file_names = [folder_structure + name for name in file_names ]"
      ],
      "metadata": {
        "id": "ssrhwAt0-TIn"
      },
      "execution_count": 5,
      "outputs": []
    },
    {
      "cell_type": "code",
      "source": [
        "subject_id = [1,2,3,4,5,6,7,8,9]\n",
        "\n",
        "activity_id_dict = {0: 'transient',\n",
        "                    1: 'lying',\n",
        "                    2: 'sitting',\n",
        "                    3: 'standing',\n",
        "                    4: 'walking',\n",
        "                    5: 'running',\n",
        "                    6: 'cycling',\n",
        "                    7: 'Nordic_walking',\n",
        "                    9: 'watching_TV',\n",
        "                    10: 'computer_work',\n",
        "                    11: 'car driving',\n",
        "                    12: 'ascending_stairs',\n",
        "                    13: 'descending_stairs',\n",
        "                    16: 'vacuum_cleaning',\n",
        "                    17: 'ironing',\n",
        "                    18: 'folding_laundry',\n",
        "                    19: 'house_cleaning',\n",
        "                    20: 'playing_soccer',\n",
        "                    24: 'rope_jumping' }\n",
        "\n",
        "special_columns = [\"timestamp\", \"activity_id\",\"heartrate\"]\n",
        "\n",
        "\n",
        "imu_hand = ['hand_temperature',\n",
        "            'hand_Acc6_1',       'hand_Acc6_2',        'hand_Acc6_3',\n",
        "            'hand_Acc16_1',      'hand_Acc16_2',       'hand_Acc16_3',\n",
        "            'hand_Gyro1',        'hand_Gyro2',         'hand_Gyro3',\n",
        "            'hand_Magne1',       'hand_Magne2',        'hand_Magne3',\n",
        "            'hand_Orientation1', 'hand_Orientation2',  'hand_Orientation3', 'hand_Orientation4']\n",
        "\n",
        "imu_chest = ['chest_temperature',\n",
        "             'chest_Acc16_1',       'chest_Acc16_2',      'chest_Acc16_3',\n",
        "             'chest_Acc6_1',        'chest_Acc6_2',       'chest_Acc6_3',\n",
        "             'chest_Gyro1',         'chest_Gyro2',        'chest_Gyro3',\n",
        "             'chest_Magne1',        'chest_Magne2',       'chest_Magne3',\n",
        "             'chest_Orientation1',  'chest_Orientation2', 'chest_Orientation3', 'chest_Orientation4']\n",
        "\n",
        "imu_ankle = ['ankle_temperature',\n",
        "           'ankle_Acc16_1',       'ankle_Acc16_2',      'ankle_Acc16_3',\n",
        "           'ankle_Acc6_1',        'ankle_Acc6_2',       'ankle_Acc6_3',\n",
        "           'ankle_Gyro1',         'ankle_Gyro2',        'ankle_Gyro3',\n",
        "           'ankle_Magne1',        'ankle_Magne2',       'ankle_Magne3',\n",
        "           'ankle_Orientation1',  'ankle_Orientation2', 'ankle_Orientation3', 'ankle_Orientation4']\n",
        "\n",
        "columns = special_columns + imu_hand + imu_chest + imu_ankle  #put columns in one list\n",
        "\n",
        "len(columns)"
      ],
      "metadata": {
        "colab": {
          "base_uri": "https://localhost:8080/"
        },
        "id": "wBB2Un4g2WLp",
        "outputId": "0cbef53b-b753-4f7a-8863-13cfd9a096b2"
      },
      "execution_count": 6,
      "outputs": [
        {
          "output_type": "execute_result",
          "data": {
            "text/plain": [
              "54"
            ]
          },
          "metadata": {},
          "execution_count": 6
        }
      ]
    },
    {
      "cell_type": "code",
      "source": [
        "raw_data = pd.DataFrame()\n",
        "for file in file_names:\n",
        "    buffer = pd.read_table(file, header=None, sep='\\s+')\n",
        "    buffer.columns = columns #name columns\n",
        "    buffer['subject_id'] = int(file[-5]) #add subject number to table (from filename)\n",
        "    raw_data = pd.concat([raw_data, buffer], ignore_index=True)\n",
        "\n",
        "raw_data.reset_index(drop=True, inplace=True)\n",
        "raw_data.head()"
      ],
      "metadata": {
        "colab": {
          "base_uri": "https://localhost:8080/",
          "height": 256
        },
        "id": "_P89LphZ9Prd",
        "outputId": "a898e211-d695-4f9e-caed-ccea191a9857"
      },
      "execution_count": 7,
      "outputs": [
        {
          "output_type": "execute_result",
          "data": {
            "text/plain": [
              "   timestamp  activity_id  heartrate  hand_temperature  hand_Acc6_1  \\\n",
              "0       8.38            0      104.0              30.0      2.37223   \n",
              "1       8.39            0        NaN              30.0      2.18837   \n",
              "2       8.40            0        NaN              30.0      2.37357   \n",
              "3       8.41            0        NaN              30.0      2.07473   \n",
              "4       8.42            0        NaN              30.0      2.22936   \n",
              "\n",
              "   hand_Acc6_2  hand_Acc6_3  hand_Acc16_1  hand_Acc16_2  hand_Acc16_3  ...  \\\n",
              "0      8.60074      3.51048       2.43954       8.76165       3.35465  ...   \n",
              "1      8.56560      3.66179       2.39494       8.55081       3.64207  ...   \n",
              "2      8.60107      3.54898       2.30514       8.53644       3.73280  ...   \n",
              "3      8.52853      3.66021       2.33528       8.53622       3.73277  ...   \n",
              "4      8.83122      3.70000       2.23055       8.59741       3.76295  ...   \n",
              "\n",
              "   ankle_Gyro2  ankle_Gyro3  ankle_Magne1  ankle_Magne2  ankle_Magne3  \\\n",
              "0     0.009250    -0.017580      -61.1888      -38.9599      -58.1438   \n",
              "1    -0.004638     0.000368      -59.8479      -38.8919      -58.5253   \n",
              "2     0.000148     0.022495      -60.7361      -39.4138      -58.3999   \n",
              "3    -0.020301     0.011275      -60.4091      -38.7635      -58.3956   \n",
              "4    -0.014303    -0.002823      -61.5199      -39.3879      -58.2694   \n",
              "\n",
              "   ankle_Orientation1  ankle_Orientation2  ankle_Orientation3  \\\n",
              "0                 1.0                 0.0                 0.0   \n",
              "1                 1.0                 0.0                 0.0   \n",
              "2                 1.0                 0.0                 0.0   \n",
              "3                 1.0                 0.0                 0.0   \n",
              "4                 1.0                 0.0                 0.0   \n",
              "\n",
              "   ankle_Orientation4  subject_id  \n",
              "0                 0.0           1  \n",
              "1                 0.0           1  \n",
              "2                 0.0           1  \n",
              "3                 0.0           1  \n",
              "4                 0.0           1  \n",
              "\n",
              "[5 rows x 55 columns]"
            ],
            "text/html": [
              "\n",
              "  <div id=\"df-fd78248c-4b3e-4b83-aaaf-803aa152c795\" class=\"colab-df-container\">\n",
              "    <div>\n",
              "<style scoped>\n",
              "    .dataframe tbody tr th:only-of-type {\n",
              "        vertical-align: middle;\n",
              "    }\n",
              "\n",
              "    .dataframe tbody tr th {\n",
              "        vertical-align: top;\n",
              "    }\n",
              "\n",
              "    .dataframe thead th {\n",
              "        text-align: right;\n",
              "    }\n",
              "</style>\n",
              "<table border=\"1\" class=\"dataframe\">\n",
              "  <thead>\n",
              "    <tr style=\"text-align: right;\">\n",
              "      <th></th>\n",
              "      <th>timestamp</th>\n",
              "      <th>activity_id</th>\n",
              "      <th>heartrate</th>\n",
              "      <th>hand_temperature</th>\n",
              "      <th>hand_Acc6_1</th>\n",
              "      <th>hand_Acc6_2</th>\n",
              "      <th>hand_Acc6_3</th>\n",
              "      <th>hand_Acc16_1</th>\n",
              "      <th>hand_Acc16_2</th>\n",
              "      <th>hand_Acc16_3</th>\n",
              "      <th>...</th>\n",
              "      <th>ankle_Gyro2</th>\n",
              "      <th>ankle_Gyro3</th>\n",
              "      <th>ankle_Magne1</th>\n",
              "      <th>ankle_Magne2</th>\n",
              "      <th>ankle_Magne3</th>\n",
              "      <th>ankle_Orientation1</th>\n",
              "      <th>ankle_Orientation2</th>\n",
              "      <th>ankle_Orientation3</th>\n",
              "      <th>ankle_Orientation4</th>\n",
              "      <th>subject_id</th>\n",
              "    </tr>\n",
              "  </thead>\n",
              "  <tbody>\n",
              "    <tr>\n",
              "      <th>0</th>\n",
              "      <td>8.38</td>\n",
              "      <td>0</td>\n",
              "      <td>104.0</td>\n",
              "      <td>30.0</td>\n",
              "      <td>2.37223</td>\n",
              "      <td>8.60074</td>\n",
              "      <td>3.51048</td>\n",
              "      <td>2.43954</td>\n",
              "      <td>8.76165</td>\n",
              "      <td>3.35465</td>\n",
              "      <td>...</td>\n",
              "      <td>0.009250</td>\n",
              "      <td>-0.017580</td>\n",
              "      <td>-61.1888</td>\n",
              "      <td>-38.9599</td>\n",
              "      <td>-58.1438</td>\n",
              "      <td>1.0</td>\n",
              "      <td>0.0</td>\n",
              "      <td>0.0</td>\n",
              "      <td>0.0</td>\n",
              "      <td>1</td>\n",
              "    </tr>\n",
              "    <tr>\n",
              "      <th>1</th>\n",
              "      <td>8.39</td>\n",
              "      <td>0</td>\n",
              "      <td>NaN</td>\n",
              "      <td>30.0</td>\n",
              "      <td>2.18837</td>\n",
              "      <td>8.56560</td>\n",
              "      <td>3.66179</td>\n",
              "      <td>2.39494</td>\n",
              "      <td>8.55081</td>\n",
              "      <td>3.64207</td>\n",
              "      <td>...</td>\n",
              "      <td>-0.004638</td>\n",
              "      <td>0.000368</td>\n",
              "      <td>-59.8479</td>\n",
              "      <td>-38.8919</td>\n",
              "      <td>-58.5253</td>\n",
              "      <td>1.0</td>\n",
              "      <td>0.0</td>\n",
              "      <td>0.0</td>\n",
              "      <td>0.0</td>\n",
              "      <td>1</td>\n",
              "    </tr>\n",
              "    <tr>\n",
              "      <th>2</th>\n",
              "      <td>8.40</td>\n",
              "      <td>0</td>\n",
              "      <td>NaN</td>\n",
              "      <td>30.0</td>\n",
              "      <td>2.37357</td>\n",
              "      <td>8.60107</td>\n",
              "      <td>3.54898</td>\n",
              "      <td>2.30514</td>\n",
              "      <td>8.53644</td>\n",
              "      <td>3.73280</td>\n",
              "      <td>...</td>\n",
              "      <td>0.000148</td>\n",
              "      <td>0.022495</td>\n",
              "      <td>-60.7361</td>\n",
              "      <td>-39.4138</td>\n",
              "      <td>-58.3999</td>\n",
              "      <td>1.0</td>\n",
              "      <td>0.0</td>\n",
              "      <td>0.0</td>\n",
              "      <td>0.0</td>\n",
              "      <td>1</td>\n",
              "    </tr>\n",
              "    <tr>\n",
              "      <th>3</th>\n",
              "      <td>8.41</td>\n",
              "      <td>0</td>\n",
              "      <td>NaN</td>\n",
              "      <td>30.0</td>\n",
              "      <td>2.07473</td>\n",
              "      <td>8.52853</td>\n",
              "      <td>3.66021</td>\n",
              "      <td>2.33528</td>\n",
              "      <td>8.53622</td>\n",
              "      <td>3.73277</td>\n",
              "      <td>...</td>\n",
              "      <td>-0.020301</td>\n",
              "      <td>0.011275</td>\n",
              "      <td>-60.4091</td>\n",
              "      <td>-38.7635</td>\n",
              "      <td>-58.3956</td>\n",
              "      <td>1.0</td>\n",
              "      <td>0.0</td>\n",
              "      <td>0.0</td>\n",
              "      <td>0.0</td>\n",
              "      <td>1</td>\n",
              "    </tr>\n",
              "    <tr>\n",
              "      <th>4</th>\n",
              "      <td>8.42</td>\n",
              "      <td>0</td>\n",
              "      <td>NaN</td>\n",
              "      <td>30.0</td>\n",
              "      <td>2.22936</td>\n",
              "      <td>8.83122</td>\n",
              "      <td>3.70000</td>\n",
              "      <td>2.23055</td>\n",
              "      <td>8.59741</td>\n",
              "      <td>3.76295</td>\n",
              "      <td>...</td>\n",
              "      <td>-0.014303</td>\n",
              "      <td>-0.002823</td>\n",
              "      <td>-61.5199</td>\n",
              "      <td>-39.3879</td>\n",
              "      <td>-58.2694</td>\n",
              "      <td>1.0</td>\n",
              "      <td>0.0</td>\n",
              "      <td>0.0</td>\n",
              "      <td>0.0</td>\n",
              "      <td>1</td>\n",
              "    </tr>\n",
              "  </tbody>\n",
              "</table>\n",
              "<p>5 rows × 55 columns</p>\n",
              "</div>\n",
              "    <div class=\"colab-df-buttons\">\n",
              "\n",
              "  <div class=\"colab-df-container\">\n",
              "    <button class=\"colab-df-convert\" onclick=\"convertToInteractive('df-fd78248c-4b3e-4b83-aaaf-803aa152c795')\"\n",
              "            title=\"Convert this dataframe to an interactive table.\"\n",
              "            style=\"display:none;\">\n",
              "\n",
              "  <svg xmlns=\"http://www.w3.org/2000/svg\" height=\"24px\" viewBox=\"0 -960 960 960\">\n",
              "    <path d=\"M120-120v-720h720v720H120Zm60-500h600v-160H180v160Zm220 220h160v-160H400v160Zm0 220h160v-160H400v160ZM180-400h160v-160H180v160Zm440 0h160v-160H620v160ZM180-180h160v-160H180v160Zm440 0h160v-160H620v160Z\"/>\n",
              "  </svg>\n",
              "    </button>\n",
              "\n",
              "  <style>\n",
              "    .colab-df-container {\n",
              "      display:flex;\n",
              "      gap: 12px;\n",
              "    }\n",
              "\n",
              "    .colab-df-convert {\n",
              "      background-color: #E8F0FE;\n",
              "      border: none;\n",
              "      border-radius: 50%;\n",
              "      cursor: pointer;\n",
              "      display: none;\n",
              "      fill: #1967D2;\n",
              "      height: 32px;\n",
              "      padding: 0 0 0 0;\n",
              "      width: 32px;\n",
              "    }\n",
              "\n",
              "    .colab-df-convert:hover {\n",
              "      background-color: #E2EBFA;\n",
              "      box-shadow: 0px 1px 2px rgba(60, 64, 67, 0.3), 0px 1px 3px 1px rgba(60, 64, 67, 0.15);\n",
              "      fill: #174EA6;\n",
              "    }\n",
              "\n",
              "    .colab-df-buttons div {\n",
              "      margin-bottom: 4px;\n",
              "    }\n",
              "\n",
              "    [theme=dark] .colab-df-convert {\n",
              "      background-color: #3B4455;\n",
              "      fill: #D2E3FC;\n",
              "    }\n",
              "\n",
              "    [theme=dark] .colab-df-convert:hover {\n",
              "      background-color: #434B5C;\n",
              "      box-shadow: 0px 1px 3px 1px rgba(0, 0, 0, 0.15);\n",
              "      filter: drop-shadow(0px 1px 2px rgba(0, 0, 0, 0.3));\n",
              "      fill: #FFFFFF;\n",
              "    }\n",
              "  </style>\n",
              "\n",
              "    <script>\n",
              "      const buttonEl =\n",
              "        document.querySelector('#df-fd78248c-4b3e-4b83-aaaf-803aa152c795 button.colab-df-convert');\n",
              "      buttonEl.style.display =\n",
              "        google.colab.kernel.accessAllowed ? 'block' : 'none';\n",
              "\n",
              "      async function convertToInteractive(key) {\n",
              "        const element = document.querySelector('#df-fd78248c-4b3e-4b83-aaaf-803aa152c795');\n",
              "        const dataTable =\n",
              "          await google.colab.kernel.invokeFunction('convertToInteractive',\n",
              "                                                    [key], {});\n",
              "        if (!dataTable) return;\n",
              "\n",
              "        const docLinkHtml = 'Like what you see? Visit the ' +\n",
              "          '<a target=\"_blank\" href=https://colab.research.google.com/notebooks/data_table.ipynb>data table notebook</a>'\n",
              "          + ' to learn more about interactive tables.';\n",
              "        element.innerHTML = '';\n",
              "        dataTable['output_type'] = 'display_data';\n",
              "        await google.colab.output.renderOutput(dataTable, element);\n",
              "        const docLink = document.createElement('div');\n",
              "        docLink.innerHTML = docLinkHtml;\n",
              "        element.appendChild(docLink);\n",
              "      }\n",
              "    </script>\n",
              "  </div>\n",
              "\n",
              "\n",
              "<div id=\"df-2a37eed1-857e-467a-8d9b-852082f41b7d\">\n",
              "  <button class=\"colab-df-quickchart\" onclick=\"quickchart('df-2a37eed1-857e-467a-8d9b-852082f41b7d')\"\n",
              "            title=\"Suggest charts\"\n",
              "            style=\"display:none;\">\n",
              "\n",
              "<svg xmlns=\"http://www.w3.org/2000/svg\" height=\"24px\"viewBox=\"0 0 24 24\"\n",
              "     width=\"24px\">\n",
              "    <g>\n",
              "        <path d=\"M19 3H5c-1.1 0-2 .9-2 2v14c0 1.1.9 2 2 2h14c1.1 0 2-.9 2-2V5c0-1.1-.9-2-2-2zM9 17H7v-7h2v7zm4 0h-2V7h2v10zm4 0h-2v-4h2v4z\"/>\n",
              "    </g>\n",
              "</svg>\n",
              "  </button>\n",
              "\n",
              "<style>\n",
              "  .colab-df-quickchart {\n",
              "      --bg-color: #E8F0FE;\n",
              "      --fill-color: #1967D2;\n",
              "      --hover-bg-color: #E2EBFA;\n",
              "      --hover-fill-color: #174EA6;\n",
              "      --disabled-fill-color: #AAA;\n",
              "      --disabled-bg-color: #DDD;\n",
              "  }\n",
              "\n",
              "  [theme=dark] .colab-df-quickchart {\n",
              "      --bg-color: #3B4455;\n",
              "      --fill-color: #D2E3FC;\n",
              "      --hover-bg-color: #434B5C;\n",
              "      --hover-fill-color: #FFFFFF;\n",
              "      --disabled-bg-color: #3B4455;\n",
              "      --disabled-fill-color: #666;\n",
              "  }\n",
              "\n",
              "  .colab-df-quickchart {\n",
              "    background-color: var(--bg-color);\n",
              "    border: none;\n",
              "    border-radius: 50%;\n",
              "    cursor: pointer;\n",
              "    display: none;\n",
              "    fill: var(--fill-color);\n",
              "    height: 32px;\n",
              "    padding: 0;\n",
              "    width: 32px;\n",
              "  }\n",
              "\n",
              "  .colab-df-quickchart:hover {\n",
              "    background-color: var(--hover-bg-color);\n",
              "    box-shadow: 0 1px 2px rgba(60, 64, 67, 0.3), 0 1px 3px 1px rgba(60, 64, 67, 0.15);\n",
              "    fill: var(--button-hover-fill-color);\n",
              "  }\n",
              "\n",
              "  .colab-df-quickchart-complete:disabled,\n",
              "  .colab-df-quickchart-complete:disabled:hover {\n",
              "    background-color: var(--disabled-bg-color);\n",
              "    fill: var(--disabled-fill-color);\n",
              "    box-shadow: none;\n",
              "  }\n",
              "\n",
              "  .colab-df-spinner {\n",
              "    border: 2px solid var(--fill-color);\n",
              "    border-color: transparent;\n",
              "    border-bottom-color: var(--fill-color);\n",
              "    animation:\n",
              "      spin 1s steps(1) infinite;\n",
              "  }\n",
              "\n",
              "  @keyframes spin {\n",
              "    0% {\n",
              "      border-color: transparent;\n",
              "      border-bottom-color: var(--fill-color);\n",
              "      border-left-color: var(--fill-color);\n",
              "    }\n",
              "    20% {\n",
              "      border-color: transparent;\n",
              "      border-left-color: var(--fill-color);\n",
              "      border-top-color: var(--fill-color);\n",
              "    }\n",
              "    30% {\n",
              "      border-color: transparent;\n",
              "      border-left-color: var(--fill-color);\n",
              "      border-top-color: var(--fill-color);\n",
              "      border-right-color: var(--fill-color);\n",
              "    }\n",
              "    40% {\n",
              "      border-color: transparent;\n",
              "      border-right-color: var(--fill-color);\n",
              "      border-top-color: var(--fill-color);\n",
              "    }\n",
              "    60% {\n",
              "      border-color: transparent;\n",
              "      border-right-color: var(--fill-color);\n",
              "    }\n",
              "    80% {\n",
              "      border-color: transparent;\n",
              "      border-right-color: var(--fill-color);\n",
              "      border-bottom-color: var(--fill-color);\n",
              "    }\n",
              "    90% {\n",
              "      border-color: transparent;\n",
              "      border-bottom-color: var(--fill-color);\n",
              "    }\n",
              "  }\n",
              "</style>\n",
              "\n",
              "  <script>\n",
              "    async function quickchart(key) {\n",
              "      const quickchartButtonEl =\n",
              "        document.querySelector('#' + key + ' button');\n",
              "      quickchartButtonEl.disabled = true;  // To prevent multiple clicks.\n",
              "      quickchartButtonEl.classList.add('colab-df-spinner');\n",
              "      try {\n",
              "        const charts = await google.colab.kernel.invokeFunction(\n",
              "            'suggestCharts', [key], {});\n",
              "      } catch (error) {\n",
              "        console.error('Error during call to suggestCharts:', error);\n",
              "      }\n",
              "      quickchartButtonEl.classList.remove('colab-df-spinner');\n",
              "      quickchartButtonEl.classList.add('colab-df-quickchart-complete');\n",
              "    }\n",
              "    (() => {\n",
              "      let quickchartButtonEl =\n",
              "        document.querySelector('#df-2a37eed1-857e-467a-8d9b-852082f41b7d button');\n",
              "      quickchartButtonEl.style.display =\n",
              "        google.colab.kernel.accessAllowed ? 'block' : 'none';\n",
              "    })();\n",
              "  </script>\n",
              "</div>\n",
              "    </div>\n",
              "  </div>\n"
            ]
          },
          "metadata": {},
          "execution_count": 7
        }
      ]
    },
    {
      "cell_type": "markdown",
      "source": [
        "## Data Cleaning\n",
        "\n",
        "Additional files that come with the dataset explain how the data was gathered and give information on which parts of the data can be used.\n",
        "\n",
        "* remove transient activity(id == 0), no usefull data\n",
        "* remove columns 'Orientation' --> not used in information gathering\n",
        "* remove columns 'accelerometer 6g' --> was not precicly calibrated during the data aquisition\n",
        "\n",
        "* remove subject 9\n",
        "\n",
        "* remove timestamp, since it doesnt contain any meaningful information correlated to the activity performed at the time\n",
        "\n",
        "* remove subject id\n",
        "\n",
        "* interpolate missing values due to:\n",
        "  * different frequencies (heartrate sensor - 9Hz, IMUs 100Hz)\n",
        "  * connection lost, package drops in wireless transmission\n",
        "\n"
      ],
      "metadata": {
        "id": "MnfhA4ElEx_b"
      }
    },
    {
      "cell_type": "code",
      "source": [
        "data = raw_data.drop(['hand_Orientation1',   'hand_Orientation2',  'hand_Orientation3',  'hand_Orientation4',\n",
        "                      'chest_Orientation1',  'chest_Orientation2', 'chest_Orientation3', 'chest_Orientation4',\n",
        "                      'ankle_Orientation1',  'ankle_Orientation2', 'ankle_Orientation3', 'ankle_Orientation4'],\n",
        "                    axis = 1)  # removal of orientation columns\n",
        "\n",
        "data = data.drop(['hand_Acc6_1',  'hand_Acc6_2',   'hand_Acc6_3',\n",
        "                  'chest_Acc6_1', 'chest_Acc6_2',  'chest_Acc6_3',\n",
        "                  'ankle_Acc6_1', 'ankle_Acc6_2',  'ankle_Acc6_3',],\n",
        "                    axis = 1) # remove columns of accelerometer6g\n",
        "\n",
        "data = data.drop(data[data.subject_id == 9].index) #(maybe not even load in first place ...)"
      ],
      "metadata": {
        "id": "_rf85CR9FsVY"
      },
      "execution_count": 8,
      "outputs": []
    },
    {
      "cell_type": "code",
      "source": [
        "#linear interpolation - think about other/better methods\n",
        "data = data.interpolate() #interpolate before transient activity gets removed"
      ],
      "metadata": {
        "id": "Z4HaXJI-NPU0"
      },
      "execution_count": 9,
      "outputs": []
    },
    {
      "cell_type": "code",
      "source": [
        "data = data.drop(data[data.activity_id == 0].index) #remove any row of activity 0 (transient)\n",
        "\n",
        "data = data.drop(['timestamp', 'subject_id'], axis = 1)\n",
        "\n",
        "#remove all activities which only one person did\n",
        "data = data.drop(data[data.activity_id == 9].index)  #remove watching TV\n",
        "data = data.drop(data[data.activity_id == 9].index)  #remove car driving\n",
        "data = data.drop(data[data.activity_id == 9].index)  #remove playing soccer"
      ],
      "metadata": {
        "id": "SnIIIeLw6uv4"
      },
      "execution_count": 10,
      "outputs": []
    },
    {
      "cell_type": "code",
      "source": [
        "data.reset_index(drop = True, inplace = True)\n",
        "data.head()"
      ],
      "metadata": {
        "colab": {
          "base_uri": "https://localhost:8080/",
          "height": 256
        },
        "id": "KX7R5k5HOjdT",
        "outputId": "682530ef-e185-45ca-b60e-50cf7a3d1b9b"
      },
      "execution_count": 11,
      "outputs": [
        {
          "output_type": "execute_result",
          "data": {
            "text/plain": [
              "   activity_id  heartrate  hand_temperature  hand_Acc16_1  hand_Acc16_2  \\\n",
              "0            1      100.0            30.375       2.24689       8.55387   \n",
              "1            1      100.0            30.375       2.27373       8.14592   \n",
              "2            1      100.0            30.375       2.26966       7.66268   \n",
              "3            1      100.0            30.375       2.22177       7.25535   \n",
              "4            1      100.0            30.375       2.20720       7.24042   \n",
              "\n",
              "   hand_Acc16_3  hand_Gyro1  hand_Gyro2  hand_Gyro3  hand_Magne1  ...  \\\n",
              "0       5.77143   -0.004750    0.037579   -0.011145      8.93200  ...   \n",
              "1       5.78739   -0.171710    0.025479   -0.009538      9.58300  ...   \n",
              "2       5.78846   -0.238241    0.011214    0.000831      9.05516  ...   \n",
              "3       5.88000   -0.192912    0.019053    0.013374      9.92698  ...   \n",
              "4       5.95555   -0.069961   -0.018328    0.004582      9.15626  ...   \n",
              "\n",
              "   ankle_temperature  ankle_Acc16_1  ankle_Acc16_2  ankle_Acc16_3  \\\n",
              "0              30.75        9.73855       -1.84761       0.095156   \n",
              "1              30.75        9.69762       -1.88438      -0.020804   \n",
              "2              30.75        9.69633       -1.92203      -0.059173   \n",
              "3              30.75        9.66370       -1.84714       0.094385   \n",
              "4              30.75        9.77578       -1.88582       0.095775   \n",
              "\n",
              "   ankle_Gyro1  ankle_Gyro2  ankle_Gyro3  ankle_Magne1  ankle_Magne2  \\\n",
              "0     0.002908    -0.027714     0.001752      -61.1081      -36.8636   \n",
              "1     0.020882     0.000945     0.006007      -60.8916      -36.3197   \n",
              "2    -0.035392    -0.052422    -0.004882      -60.3407      -35.7842   \n",
              "3    -0.032514    -0.018844     0.026950      -60.7646      -37.1028   \n",
              "4     0.001351    -0.048878    -0.006328      -60.2040      -37.1225   \n",
              "\n",
              "   ankle_Magne3  \n",
              "0      -58.3696  \n",
              "1      -58.3656  \n",
              "2      -58.6119  \n",
              "3      -57.8799  \n",
              "4      -57.8847  \n",
              "\n",
              "[5 rows x 32 columns]"
            ],
            "text/html": [
              "\n",
              "  <div id=\"df-cab2bd52-98ee-44c6-aca0-e7dc27315ef8\" class=\"colab-df-container\">\n",
              "    <div>\n",
              "<style scoped>\n",
              "    .dataframe tbody tr th:only-of-type {\n",
              "        vertical-align: middle;\n",
              "    }\n",
              "\n",
              "    .dataframe tbody tr th {\n",
              "        vertical-align: top;\n",
              "    }\n",
              "\n",
              "    .dataframe thead th {\n",
              "        text-align: right;\n",
              "    }\n",
              "</style>\n",
              "<table border=\"1\" class=\"dataframe\">\n",
              "  <thead>\n",
              "    <tr style=\"text-align: right;\">\n",
              "      <th></th>\n",
              "      <th>activity_id</th>\n",
              "      <th>heartrate</th>\n",
              "      <th>hand_temperature</th>\n",
              "      <th>hand_Acc16_1</th>\n",
              "      <th>hand_Acc16_2</th>\n",
              "      <th>hand_Acc16_3</th>\n",
              "      <th>hand_Gyro1</th>\n",
              "      <th>hand_Gyro2</th>\n",
              "      <th>hand_Gyro3</th>\n",
              "      <th>hand_Magne1</th>\n",
              "      <th>...</th>\n",
              "      <th>ankle_temperature</th>\n",
              "      <th>ankle_Acc16_1</th>\n",
              "      <th>ankle_Acc16_2</th>\n",
              "      <th>ankle_Acc16_3</th>\n",
              "      <th>ankle_Gyro1</th>\n",
              "      <th>ankle_Gyro2</th>\n",
              "      <th>ankle_Gyro3</th>\n",
              "      <th>ankle_Magne1</th>\n",
              "      <th>ankle_Magne2</th>\n",
              "      <th>ankle_Magne3</th>\n",
              "    </tr>\n",
              "  </thead>\n",
              "  <tbody>\n",
              "    <tr>\n",
              "      <th>0</th>\n",
              "      <td>1</td>\n",
              "      <td>100.0</td>\n",
              "      <td>30.375</td>\n",
              "      <td>2.24689</td>\n",
              "      <td>8.55387</td>\n",
              "      <td>5.77143</td>\n",
              "      <td>-0.004750</td>\n",
              "      <td>0.037579</td>\n",
              "      <td>-0.011145</td>\n",
              "      <td>8.93200</td>\n",
              "      <td>...</td>\n",
              "      <td>30.75</td>\n",
              "      <td>9.73855</td>\n",
              "      <td>-1.84761</td>\n",
              "      <td>0.095156</td>\n",
              "      <td>0.002908</td>\n",
              "      <td>-0.027714</td>\n",
              "      <td>0.001752</td>\n",
              "      <td>-61.1081</td>\n",
              "      <td>-36.8636</td>\n",
              "      <td>-58.3696</td>\n",
              "    </tr>\n",
              "    <tr>\n",
              "      <th>1</th>\n",
              "      <td>1</td>\n",
              "      <td>100.0</td>\n",
              "      <td>30.375</td>\n",
              "      <td>2.27373</td>\n",
              "      <td>8.14592</td>\n",
              "      <td>5.78739</td>\n",
              "      <td>-0.171710</td>\n",
              "      <td>0.025479</td>\n",
              "      <td>-0.009538</td>\n",
              "      <td>9.58300</td>\n",
              "      <td>...</td>\n",
              "      <td>30.75</td>\n",
              "      <td>9.69762</td>\n",
              "      <td>-1.88438</td>\n",
              "      <td>-0.020804</td>\n",
              "      <td>0.020882</td>\n",
              "      <td>0.000945</td>\n",
              "      <td>0.006007</td>\n",
              "      <td>-60.8916</td>\n",
              "      <td>-36.3197</td>\n",
              "      <td>-58.3656</td>\n",
              "    </tr>\n",
              "    <tr>\n",
              "      <th>2</th>\n",
              "      <td>1</td>\n",
              "      <td>100.0</td>\n",
              "      <td>30.375</td>\n",
              "      <td>2.26966</td>\n",
              "      <td>7.66268</td>\n",
              "      <td>5.78846</td>\n",
              "      <td>-0.238241</td>\n",
              "      <td>0.011214</td>\n",
              "      <td>0.000831</td>\n",
              "      <td>9.05516</td>\n",
              "      <td>...</td>\n",
              "      <td>30.75</td>\n",
              "      <td>9.69633</td>\n",
              "      <td>-1.92203</td>\n",
              "      <td>-0.059173</td>\n",
              "      <td>-0.035392</td>\n",
              "      <td>-0.052422</td>\n",
              "      <td>-0.004882</td>\n",
              "      <td>-60.3407</td>\n",
              "      <td>-35.7842</td>\n",
              "      <td>-58.6119</td>\n",
              "    </tr>\n",
              "    <tr>\n",
              "      <th>3</th>\n",
              "      <td>1</td>\n",
              "      <td>100.0</td>\n",
              "      <td>30.375</td>\n",
              "      <td>2.22177</td>\n",
              "      <td>7.25535</td>\n",
              "      <td>5.88000</td>\n",
              "      <td>-0.192912</td>\n",
              "      <td>0.019053</td>\n",
              "      <td>0.013374</td>\n",
              "      <td>9.92698</td>\n",
              "      <td>...</td>\n",
              "      <td>30.75</td>\n",
              "      <td>9.66370</td>\n",
              "      <td>-1.84714</td>\n",
              "      <td>0.094385</td>\n",
              "      <td>-0.032514</td>\n",
              "      <td>-0.018844</td>\n",
              "      <td>0.026950</td>\n",
              "      <td>-60.7646</td>\n",
              "      <td>-37.1028</td>\n",
              "      <td>-57.8799</td>\n",
              "    </tr>\n",
              "    <tr>\n",
              "      <th>4</th>\n",
              "      <td>1</td>\n",
              "      <td>100.0</td>\n",
              "      <td>30.375</td>\n",
              "      <td>2.20720</td>\n",
              "      <td>7.24042</td>\n",
              "      <td>5.95555</td>\n",
              "      <td>-0.069961</td>\n",
              "      <td>-0.018328</td>\n",
              "      <td>0.004582</td>\n",
              "      <td>9.15626</td>\n",
              "      <td>...</td>\n",
              "      <td>30.75</td>\n",
              "      <td>9.77578</td>\n",
              "      <td>-1.88582</td>\n",
              "      <td>0.095775</td>\n",
              "      <td>0.001351</td>\n",
              "      <td>-0.048878</td>\n",
              "      <td>-0.006328</td>\n",
              "      <td>-60.2040</td>\n",
              "      <td>-37.1225</td>\n",
              "      <td>-57.8847</td>\n",
              "    </tr>\n",
              "  </tbody>\n",
              "</table>\n",
              "<p>5 rows × 32 columns</p>\n",
              "</div>\n",
              "    <div class=\"colab-df-buttons\">\n",
              "\n",
              "  <div class=\"colab-df-container\">\n",
              "    <button class=\"colab-df-convert\" onclick=\"convertToInteractive('df-cab2bd52-98ee-44c6-aca0-e7dc27315ef8')\"\n",
              "            title=\"Convert this dataframe to an interactive table.\"\n",
              "            style=\"display:none;\">\n",
              "\n",
              "  <svg xmlns=\"http://www.w3.org/2000/svg\" height=\"24px\" viewBox=\"0 -960 960 960\">\n",
              "    <path d=\"M120-120v-720h720v720H120Zm60-500h600v-160H180v160Zm220 220h160v-160H400v160Zm0 220h160v-160H400v160ZM180-400h160v-160H180v160Zm440 0h160v-160H620v160ZM180-180h160v-160H180v160Zm440 0h160v-160H620v160Z\"/>\n",
              "  </svg>\n",
              "    </button>\n",
              "\n",
              "  <style>\n",
              "    .colab-df-container {\n",
              "      display:flex;\n",
              "      gap: 12px;\n",
              "    }\n",
              "\n",
              "    .colab-df-convert {\n",
              "      background-color: #E8F0FE;\n",
              "      border: none;\n",
              "      border-radius: 50%;\n",
              "      cursor: pointer;\n",
              "      display: none;\n",
              "      fill: #1967D2;\n",
              "      height: 32px;\n",
              "      padding: 0 0 0 0;\n",
              "      width: 32px;\n",
              "    }\n",
              "\n",
              "    .colab-df-convert:hover {\n",
              "      background-color: #E2EBFA;\n",
              "      box-shadow: 0px 1px 2px rgba(60, 64, 67, 0.3), 0px 1px 3px 1px rgba(60, 64, 67, 0.15);\n",
              "      fill: #174EA6;\n",
              "    }\n",
              "\n",
              "    .colab-df-buttons div {\n",
              "      margin-bottom: 4px;\n",
              "    }\n",
              "\n",
              "    [theme=dark] .colab-df-convert {\n",
              "      background-color: #3B4455;\n",
              "      fill: #D2E3FC;\n",
              "    }\n",
              "\n",
              "    [theme=dark] .colab-df-convert:hover {\n",
              "      background-color: #434B5C;\n",
              "      box-shadow: 0px 1px 3px 1px rgba(0, 0, 0, 0.15);\n",
              "      filter: drop-shadow(0px 1px 2px rgba(0, 0, 0, 0.3));\n",
              "      fill: #FFFFFF;\n",
              "    }\n",
              "  </style>\n",
              "\n",
              "    <script>\n",
              "      const buttonEl =\n",
              "        document.querySelector('#df-cab2bd52-98ee-44c6-aca0-e7dc27315ef8 button.colab-df-convert');\n",
              "      buttonEl.style.display =\n",
              "        google.colab.kernel.accessAllowed ? 'block' : 'none';\n",
              "\n",
              "      async function convertToInteractive(key) {\n",
              "        const element = document.querySelector('#df-cab2bd52-98ee-44c6-aca0-e7dc27315ef8');\n",
              "        const dataTable =\n",
              "          await google.colab.kernel.invokeFunction('convertToInteractive',\n",
              "                                                    [key], {});\n",
              "        if (!dataTable) return;\n",
              "\n",
              "        const docLinkHtml = 'Like what you see? Visit the ' +\n",
              "          '<a target=\"_blank\" href=https://colab.research.google.com/notebooks/data_table.ipynb>data table notebook</a>'\n",
              "          + ' to learn more about interactive tables.';\n",
              "        element.innerHTML = '';\n",
              "        dataTable['output_type'] = 'display_data';\n",
              "        await google.colab.output.renderOutput(dataTable, element);\n",
              "        const docLink = document.createElement('div');\n",
              "        docLink.innerHTML = docLinkHtml;\n",
              "        element.appendChild(docLink);\n",
              "      }\n",
              "    </script>\n",
              "  </div>\n",
              "\n",
              "\n",
              "<div id=\"df-684f0ba3-3dd2-4ec5-a656-12babc5c29ce\">\n",
              "  <button class=\"colab-df-quickchart\" onclick=\"quickchart('df-684f0ba3-3dd2-4ec5-a656-12babc5c29ce')\"\n",
              "            title=\"Suggest charts\"\n",
              "            style=\"display:none;\">\n",
              "\n",
              "<svg xmlns=\"http://www.w3.org/2000/svg\" height=\"24px\"viewBox=\"0 0 24 24\"\n",
              "     width=\"24px\">\n",
              "    <g>\n",
              "        <path d=\"M19 3H5c-1.1 0-2 .9-2 2v14c0 1.1.9 2 2 2h14c1.1 0 2-.9 2-2V5c0-1.1-.9-2-2-2zM9 17H7v-7h2v7zm4 0h-2V7h2v10zm4 0h-2v-4h2v4z\"/>\n",
              "    </g>\n",
              "</svg>\n",
              "  </button>\n",
              "\n",
              "<style>\n",
              "  .colab-df-quickchart {\n",
              "      --bg-color: #E8F0FE;\n",
              "      --fill-color: #1967D2;\n",
              "      --hover-bg-color: #E2EBFA;\n",
              "      --hover-fill-color: #174EA6;\n",
              "      --disabled-fill-color: #AAA;\n",
              "      --disabled-bg-color: #DDD;\n",
              "  }\n",
              "\n",
              "  [theme=dark] .colab-df-quickchart {\n",
              "      --bg-color: #3B4455;\n",
              "      --fill-color: #D2E3FC;\n",
              "      --hover-bg-color: #434B5C;\n",
              "      --hover-fill-color: #FFFFFF;\n",
              "      --disabled-bg-color: #3B4455;\n",
              "      --disabled-fill-color: #666;\n",
              "  }\n",
              "\n",
              "  .colab-df-quickchart {\n",
              "    background-color: var(--bg-color);\n",
              "    border: none;\n",
              "    border-radius: 50%;\n",
              "    cursor: pointer;\n",
              "    display: none;\n",
              "    fill: var(--fill-color);\n",
              "    height: 32px;\n",
              "    padding: 0;\n",
              "    width: 32px;\n",
              "  }\n",
              "\n",
              "  .colab-df-quickchart:hover {\n",
              "    background-color: var(--hover-bg-color);\n",
              "    box-shadow: 0 1px 2px rgba(60, 64, 67, 0.3), 0 1px 3px 1px rgba(60, 64, 67, 0.15);\n",
              "    fill: var(--button-hover-fill-color);\n",
              "  }\n",
              "\n",
              "  .colab-df-quickchart-complete:disabled,\n",
              "  .colab-df-quickchart-complete:disabled:hover {\n",
              "    background-color: var(--disabled-bg-color);\n",
              "    fill: var(--disabled-fill-color);\n",
              "    box-shadow: none;\n",
              "  }\n",
              "\n",
              "  .colab-df-spinner {\n",
              "    border: 2px solid var(--fill-color);\n",
              "    border-color: transparent;\n",
              "    border-bottom-color: var(--fill-color);\n",
              "    animation:\n",
              "      spin 1s steps(1) infinite;\n",
              "  }\n",
              "\n",
              "  @keyframes spin {\n",
              "    0% {\n",
              "      border-color: transparent;\n",
              "      border-bottom-color: var(--fill-color);\n",
              "      border-left-color: var(--fill-color);\n",
              "    }\n",
              "    20% {\n",
              "      border-color: transparent;\n",
              "      border-left-color: var(--fill-color);\n",
              "      border-top-color: var(--fill-color);\n",
              "    }\n",
              "    30% {\n",
              "      border-color: transparent;\n",
              "      border-left-color: var(--fill-color);\n",
              "      border-top-color: var(--fill-color);\n",
              "      border-right-color: var(--fill-color);\n",
              "    }\n",
              "    40% {\n",
              "      border-color: transparent;\n",
              "      border-right-color: var(--fill-color);\n",
              "      border-top-color: var(--fill-color);\n",
              "    }\n",
              "    60% {\n",
              "      border-color: transparent;\n",
              "      border-right-color: var(--fill-color);\n",
              "    }\n",
              "    80% {\n",
              "      border-color: transparent;\n",
              "      border-right-color: var(--fill-color);\n",
              "      border-bottom-color: var(--fill-color);\n",
              "    }\n",
              "    90% {\n",
              "      border-color: transparent;\n",
              "      border-bottom-color: var(--fill-color);\n",
              "    }\n",
              "  }\n",
              "</style>\n",
              "\n",
              "  <script>\n",
              "    async function quickchart(key) {\n",
              "      const quickchartButtonEl =\n",
              "        document.querySelector('#' + key + ' button');\n",
              "      quickchartButtonEl.disabled = true;  // To prevent multiple clicks.\n",
              "      quickchartButtonEl.classList.add('colab-df-spinner');\n",
              "      try {\n",
              "        const charts = await google.colab.kernel.invokeFunction(\n",
              "            'suggestCharts', [key], {});\n",
              "      } catch (error) {\n",
              "        console.error('Error during call to suggestCharts:', error);\n",
              "      }\n",
              "      quickchartButtonEl.classList.remove('colab-df-spinner');\n",
              "      quickchartButtonEl.classList.add('colab-df-quickchart-complete');\n",
              "    }\n",
              "    (() => {\n",
              "      let quickchartButtonEl =\n",
              "        document.querySelector('#df-684f0ba3-3dd2-4ec5-a656-12babc5c29ce button');\n",
              "      quickchartButtonEl.style.display =\n",
              "        google.colab.kernel.accessAllowed ? 'block' : 'none';\n",
              "    })();\n",
              "  </script>\n",
              "</div>\n",
              "    </div>\n",
              "  </div>\n"
            ]
          },
          "metadata": {},
          "execution_count": 11
        }
      ]
    },
    {
      "cell_type": "code",
      "source": [
        "data.isnull().sum() #check for missing values left after interpolation"
      ],
      "metadata": {
        "id": "tTJphf2WLgND",
        "colab": {
          "base_uri": "https://localhost:8080/"
        },
        "outputId": "af437c97-0a4e-4cc9-9c72-aa101f65bf8b"
      },
      "execution_count": 12,
      "outputs": [
        {
          "output_type": "execute_result",
          "data": {
            "text/plain": [
              "activity_id          0\n",
              "heartrate            0\n",
              "hand_temperature     0\n",
              "hand_Acc16_1         0\n",
              "hand_Acc16_2         0\n",
              "hand_Acc16_3         0\n",
              "hand_Gyro1           0\n",
              "hand_Gyro2           0\n",
              "hand_Gyro3           0\n",
              "hand_Magne1          0\n",
              "hand_Magne2          0\n",
              "hand_Magne3          0\n",
              "chest_temperature    0\n",
              "chest_Acc16_1        0\n",
              "chest_Acc16_2        0\n",
              "chest_Acc16_3        0\n",
              "chest_Gyro1          0\n",
              "chest_Gyro2          0\n",
              "chest_Gyro3          0\n",
              "chest_Magne1         0\n",
              "chest_Magne2         0\n",
              "chest_Magne3         0\n",
              "ankle_temperature    0\n",
              "ankle_Acc16_1        0\n",
              "ankle_Acc16_2        0\n",
              "ankle_Acc16_3        0\n",
              "ankle_Gyro1          0\n",
              "ankle_Gyro2          0\n",
              "ankle_Gyro3          0\n",
              "ankle_Magne1         0\n",
              "ankle_Magne2         0\n",
              "ankle_Magne3         0\n",
              "dtype: int64"
            ]
          },
          "metadata": {},
          "execution_count": 12
        }
      ]
    },
    {
      "cell_type": "markdown",
      "source": [
        "## Visualization\n",
        "\n"
      ],
      "metadata": {
        "id": "rlVAw6D5_KVJ"
      }
    },
    {
      "cell_type": "code",
      "source": [
        "#correlation heat map\n",
        "\n",
        "df_corr = data.corr()\n",
        "f, ax = plt.subplots(figsize=(10, 8))\n",
        "\n",
        "\n",
        "#creat mask to find features with weak explanatory strenght\n",
        "#mask = (np.abs(df_corr) <= 0.1)\n",
        "#--> gyroscope does not seem to have relevant information\n",
        "\n",
        "#sns.heatmap(df_corr, cmap = \"BrBG\",ax=ax, mask=mask)\n",
        "sns.heatmap(df_corr, cmap = \"BrBG\",ax=ax)\n",
        "\n",
        "plt.show()"
      ],
      "metadata": {
        "colab": {
          "base_uri": "https://localhost:8080/",
          "height": 800
        },
        "id": "B06wYlqJjgzz",
        "outputId": "44623651-a6b5-4d35-8520-e7fae2baad91"
      },
      "execution_count": null,
      "outputs": [
        {
          "output_type": "display_data",
          "data": {
            "text/plain": [
              "<Figure size 1000x800 with 2 Axes>"
            ],
            "image/png": "[encoded data removed]"
          },
          "metadata": {}
        }
      ]
    },
    {
      "cell_type": "markdown",
      "source": [
        "Guess:\n",
        "The **Gyroscope** does seem to have weak correlation with everything\n",
        "* try training without gyro\n",
        "\n",
        "--> Training without gyro led to significantly worse performance (see confusion matrix)"
      ],
      "metadata": {
        "id": "R-JngGkrxcoP"
      }
    },
    {
      "cell_type": "code",
      "source": [
        "#drop gyroscope data\n",
        "\n",
        "'''\n",
        "data = data.drop(['hand_Gyro1',  'hand_Gyro2',  'hand_Gyro3',\n",
        "                  'chest_Gyro1', 'chest_Gyro2', 'chest_Gyro3',\n",
        "                  'ankle_Gyro1', 'ankle_Gyro2', 'ankle_Gyro3'\n",
        "                  ], axis = 1)\n",
        "\n",
        "data.reset_index(drop = True, inplace = True)\n",
        "'''"
      ],
      "metadata": {
        "colab": {
          "base_uri": "https://localhost:8080/",
          "height": 53
        },
        "id": "bxYo7P0Ixuvn",
        "outputId": "53d0a5a8-a2fd-434a-a897-198bd2657510"
      },
      "execution_count": null,
      "outputs": [
        {
          "output_type": "execute_result",
          "data": {
            "text/plain": [
              "\"\\ndata = data.drop(['hand_Gyro1',  'hand_Gyro2',  'hand_Gyro3',\\n                  'chest_Gyro1', 'chest_Gyro2', 'chest_Gyro3',\\n                  'ankle_Gyro1', 'ankle_Gyro2', 'ankle_Gyro3'\\n                  ], axis = 1)\\n\\ndata.reset_index(drop = True, inplace = True)\\n\""
            ],
            "application/vnd.google.colaboratory.intrinsic+json": {
              "type": "string"
            }
          },
          "metadata": {},
          "execution_count": 219
        }
      ]
    },
    {
      "cell_type": "markdown",
      "source": [
        "## Data Distribution"
      ],
      "metadata": {
        "id": "O3Kq7g-22vh4"
      }
    },
    {
      "cell_type": "code",
      "source": [
        "class_distribution = data['activity_id'].value_counts()\n",
        "\n",
        "class_distribution.index = class_distribution.index.map(activity_id_dict)\n",
        "c = ['#1f77b4', '#ff7f0e', '#2ca02c', '#d62728', '#9467bd', '#8c564b', '#e377c2', '#7f7f7f', '#bcbd22', '#17becf']\n",
        "class_distribution.plot(kind='bar', color=c)"
      ],
      "metadata": {
        "colab": {
          "base_uri": "https://localhost:8080/",
          "height": 563
        },
        "id": "ZEsQzzsX7EX-",
        "outputId": "0d30a665-24b2-4592-9ab4-e6308bb693b0"
      },
      "execution_count": 13,
      "outputs": [
        {
          "output_type": "execute_result",
          "data": {
            "text/plain": [
              "<Axes: >"
            ]
          },
          "metadata": {},
          "execution_count": 13
        },
        {
          "output_type": "display_data",
          "data": {
            "text/plain": [
              "<Figure size 640x480 with 1 Axes>"
            ],
            "image/png": "[encoded data removed]"
          },
          "metadata": {}
        }
      ]
    },
    {
      "cell_type": "markdown",
      "source": [
        "The distribution over the classes is imbalanced.\n",
        "* up and downsample some of the classes to balance the datas"
      ],
      "metadata": {
        "id": "eDvFgAIW4xTi"
      }
    },
    {
      "cell_type": "code",
      "source": [
        "#split for resampling\n",
        "\n",
        "col = data.columns\n",
        "x_cols = col[1:]\n",
        "\n",
        "\n",
        "y_df = data['activity_id']\n",
        "x_df = data[x_cols]"
      ],
      "metadata": {
        "id": "BOtoSiSbHOfD"
      },
      "execution_count": 14,
      "outputs": []
    },
    {
      "cell_type": "code",
      "source": [
        "class_distribution"
      ],
      "metadata": {
        "colab": {
          "base_uri": "https://localhost:8080/"
        },
        "id": "CO0MA1XzaUUh",
        "outputId": "57902c46-c7ed-493b-9646-4dbb64c4b5e7"
      },
      "execution_count": 18,
      "outputs": [
        {
          "output_type": "execute_result",
          "data": {
            "text/plain": [
              "walking              238761\n",
              "ironing              238690\n",
              "lying                192523\n",
              "standing             189931\n",
              "Nordic_walking       188107\n",
              "sitting              185188\n",
              "vacuum_cleaning      175353\n",
              "cycling              164600\n",
              "ascending_stairs     117216\n",
              "descending_stairs    104944\n",
              "running               98199\n",
              "rope_jumping          42969\n",
              "Name: activity_id, dtype: int64"
            ]
          },
          "metadata": {},
          "execution_count": 18
        }
      ]
    },
    {
      "cell_type": "code",
      "source": [],
      "metadata": {
        "id": "vhA_oBgAYpiW"
      },
      "execution_count": 19,
      "outputs": []
    },
    {
      "cell_type": "code",
      "source": [
        "#naive resampling --> random undersampling --> deleting random samples of the majority class\n",
        "\n",
        "#brings everything to size of cycling\n",
        "undersample_dict = {4 :164600,\n",
        "                   17 :164600,\n",
        "                    1 :164600,\n",
        "                    3 :164600,\n",
        "                    7 :164600,\n",
        "                    2 :164600,\n",
        "                   16 :164600}\n",
        "\n",
        "undersampler = RandomUnderSampler(sampling_strategy=undersample_dict, random_state=100)\n",
        "data_resampled, y_res = undersampler.fit_resample(x_df, y_df) #takes really long\n",
        "\n",
        "\n",
        "\n",
        "#upsample the other actvities\n",
        "# ascending_stairs, descending_stairs, running, rope_jumping\n",
        "oversample_dict = {12 : 164600,\n",
        "                   13 : 164600,\n",
        "                    5 : 164600,\n",
        "                   24 : 164600}\n",
        "\n",
        "#oversample data using SMOTE\n",
        "sm = SMOTE(sampling_strategy=oversample_dict, random_state=100)\n",
        "data_resampled, y_res = sm.fit_resample(data_resampled, y_res) #takes really long\n",
        "\n",
        "\n",
        "data_resampled['activity_id'] = y_res #put back together\n",
        "#data_resampled.head()"
      ],
      "metadata": {
        "id": "0ujBlj-4avit"
      },
      "execution_count": null,
      "outputs": []
    },
    {
      "cell_type": "code",
      "source": [
        "class_distribution = data_resampled['activity_id'].value_counts()\n",
        "\n",
        "class_distribution.index = class_distribution.index.map(activity_id_dict)\n",
        "class_distribution"
      ],
      "metadata": {
        "colab": {
          "base_uri": "https://localhost:8080/"
        },
        "id": "1jSv6aO2dfvr",
        "outputId": "0739cc76-1b55-440c-b04a-6353fa5bcc31"
      },
      "execution_count": 21,
      "outputs": [
        {
          "output_type": "execute_result",
          "data": {
            "text/plain": [
              "lying                164600\n",
              "sitting              164600\n",
              "standing             164600\n",
              "walking              164600\n",
              "running              164600\n",
              "cycling              164600\n",
              "Nordic_walking       164600\n",
              "ascending_stairs     164600\n",
              "descending_stairs    164600\n",
              "vacuum_cleaning      164600\n",
              "ironing              164600\n",
              "rope_jumping         164600\n",
              "Name: activity_id, dtype: int64"
            ]
          },
          "metadata": {},
          "execution_count": 21
        }
      ]
    },
    {
      "cell_type": "markdown",
      "source": [
        "## Scale, Randomize, Split"
      ],
      "metadata": {
        "id": "qE6Y_aDSOuCV"
      }
    },
    {
      "cell_type": "code",
      "source": [
        "#Scale\n",
        "col = data.columns\n",
        "columns_to_scale = col[1:] #everything but labels\n",
        "scaled_data = data_resampled #make copy\n",
        "\n",
        "#Choose Scaling Approach\n",
        "scaler = MinMaxScaler() #way better results than standardscaler\n",
        "\n",
        "# apply scaler\n",
        "scaled_data[columns_to_scale] = scaler.fit_transform(data_resampled[columns_to_scale])"
      ],
      "metadata": {
        "id": "NVENzwqHQY1L"
      },
      "execution_count": 22,
      "outputs": []
    },
    {
      "cell_type": "code",
      "source": [
        "'''\n",
        "# use this paragraph, to train with unbalanced data !!!\n",
        "\n",
        "col = data.columns\n",
        "columns_to_scale = col[1:] #everything but labels\n",
        "scaled_data = data\n",
        "\n",
        "scaler = MinMaxScaler() #way better results than standardscaler\n",
        "# apply scaler\n",
        "scaled_data[columns_to_scale] = scaler.fit_transform(data[columns_to_scale])\n",
        "'''"
      ],
      "metadata": {
        "colab": {
          "base_uri": "https://localhost:8080/",
          "height": 71
        },
        "id": "4YSFly128REK",
        "outputId": "c008b8db-0857-4091-92b5-93cabe069e1d"
      },
      "execution_count": 23,
      "outputs": [
        {
          "output_type": "execute_result",
          "data": {
            "text/plain": [
              "'\\n# use this paragraph, to train with unbalanced data !!!\\n\\ncol = data.columns\\ncolumns_to_scale = col[1:] #everything but labels\\nscaled_data = data\\n\\nscaler = MinMaxScaler() #way better results than standardscaler\\n# apply scaler\\nscaled_data[columns_to_scale] = scaler.fit_transform(data[columns_to_scale])\\n'"
            ],
            "application/vnd.google.colaboratory.intrinsic+json": {
              "type": "string"
            }
          },
          "metadata": {},
          "execution_count": 23
        }
      ]
    },
    {
      "cell_type": "code",
      "source": [
        "#split 80/20 and randomize\n",
        "\n",
        "df_train, df_val = train_test_split(scaled_data, train_size = 0.8, test_size = 0.2, random_state = 100)"
      ],
      "metadata": {
        "id": "dTsroUf8Prq2"
      },
      "execution_count": 24,
      "outputs": []
    },
    {
      "cell_type": "code",
      "source": [
        "# seperate x from y\n",
        "y_train = df_train.pop('activity_id')\n",
        "y_val   = df_val.pop('activity_id')\n",
        "\n",
        "# convert to numpy array\n",
        "y_train = y_train.to_numpy()\n",
        "y_val = y_val.to_numpy()\n",
        "\n",
        "x_train = df_train.to_numpy()\n",
        "x_val = df_val.to_numpy()"
      ],
      "metadata": {
        "id": "viJ23q3QSgwp"
      },
      "execution_count": 25,
      "outputs": []
    },
    {
      "cell_type": "code",
      "source": [
        "x_train.shape"
      ],
      "metadata": {
        "colab": {
          "base_uri": "https://localhost:8080/"
        },
        "id": "QZHE5E9WglJU",
        "outputId": "5813e385-f3dc-4ddc-a168-cba3ee6e1a2b"
      },
      "execution_count": 26,
      "outputs": [
        {
          "output_type": "execute_result",
          "data": {
            "text/plain": [
              "(1580160, 31)"
            ]
          },
          "metadata": {},
          "execution_count": 26
        }
      ]
    },
    {
      "cell_type": "code",
      "source": [
        "#PCA\n",
        "k = 15 #optimal value to be found\n",
        "pca = PCA(n_components=k)\n",
        "\n",
        "pc_train = pca.fit_transform(x_train)\n",
        "pc_val = pca.fit_transform(x_val)"
      ],
      "metadata": {
        "id": "nvXoy8-vGN9H"
      },
      "execution_count": 42,
      "outputs": []
    },
    {
      "cell_type": "markdown",
      "source": [
        "## Classifiers"
      ],
      "metadata": {
        "id": "mzFm-cOM2oHo"
      }
    },
    {
      "cell_type": "code",
      "source": [
        "#Logistic Regression\n",
        "\n",
        "clf = LogisticRegression(solver='saga', penalty=\"l2\", max_iter=300) #try different solvers and penalties\n",
        "clf.fit(pc_train, y_train)\n",
        "y_pred = clf.predict(pc_val)"
      ],
      "metadata": {
        "id": "7ByMy_ZcP_SN"
      },
      "execution_count": 50,
      "outputs": []
    },
    {
      "cell_type": "code",
      "source": [
        "#Naive Bayesianx\n",
        "\n",
        "#clf = GaussianNB()\n",
        "#clf.fit(pc_train, y_train)\n",
        "#y_pred = clf.predict(pc_val)"
      ],
      "metadata": {
        "id": "xmx2XN_21biH"
      },
      "execution_count": 46,
      "outputs": []
    },
    {
      "cell_type": "markdown",
      "source": [
        "## Evaluation"
      ],
      "metadata": {
        "id": "1Q5krIpZ3MoF"
      }
    },
    {
      "cell_type": "code",
      "source": [
        "#confusion matrix\n",
        "cnf_matrix = confusion_matrix(y_val, y_pred)\n",
        "\n",
        "class_labels = np.vectorize(activity_id_dict.get)(clf.classes_)\n",
        "\n",
        "# create heatmap\n",
        "fig, ax = plt.subplots(figsize=(9,7))\n",
        "sns.heatmap(pd.DataFrame(cnf_matrix), annot=True, cmap=\"YlGnBu\" ,fmt='g',linewidths=0.5,  xticklabels=class_labels, yticklabels=class_labels, ax=ax)\n",
        "\n",
        "plt.title('Confusion matrix')\n",
        "plt.ylabel('Actual label')\n",
        "plt.xlabel('Predicted label')"
      ],
      "metadata": {
        "colab": {
          "base_uri": "https://localhost:8080/",
          "height": 770
        },
        "id": "JuuWe_VLYC0u",
        "outputId": "d3eb4115-165d-49c2-ae4d-9cf4840c681e"
      },
      "execution_count": 68,
      "outputs": [
        {
          "output_type": "execute_result",
          "data": {
            "text/plain": [
              "Text(0.5, 47.5815972222222, 'Predicted label')"
            ]
          },
          "metadata": {},
          "execution_count": 68
        },
        {
          "output_type": "display_data",
          "data": {
            "text/plain": [
              "<Figure size 900x700 with 2 Axes>"
            ],
            "image/png": "[encoded data removed]"
          },
          "metadata": {}
        }
      ]
    },
    {
      "cell_type": "code",
      "source": [
        "recall = np.diag(cnf_matrix) / np.sum(cnf_matrix, axis = 1)\n",
        "precision = np.diag(cnf_matrix) / np.sum(cnf_matrix, axis = 0)\n",
        "\n",
        "#np.mean(recall)\n",
        "#np.mean(precision)"
      ],
      "metadata": {
        "colab": {
          "base_uri": "https://localhost:8080/"
        },
        "id": "faWN8vII9mMU",
        "outputId": "29875d04-36f6-4d96-df23-e46615ea18fe"
      },
      "execution_count": 56,
      "outputs": [
        {
          "output_type": "execute_result",
          "data": {
            "text/plain": [
              "array([0.95173003, 0.81480278, 0.76209914, 0.6172664 , 0.64648975,\n",
              "       0.86036498, 0.60452264, 0.34049793, 0.39862416, 0.67028602,\n",
              "       0.83288014, 0.76206575])"
            ]
          },
          "metadata": {},
          "execution_count": 56
        }
      ]
    },
    {
      "cell_type": "code",
      "source": [
        "f1_score = (2*recall*precision) / (recall+precision)"
      ],
      "metadata": {
        "id": "4C8z5oFeAUC4"
      },
      "execution_count": 66,
      "outputs": []
    },
    {
      "cell_type": "code",
      "source": [
        "d = {'activity':class_labels, 'precision':precision, 'recall':recall, 'f1-score':f1_score}\n",
        "performance = pd.DataFrame(data = d)\n",
        "performance"
      ],
      "metadata": {
        "colab": {
          "base_uri": "https://localhost:8080/",
          "height": 426
        },
        "id": "6Ocw299h-4X9",
        "outputId": "38572802-b2cc-4f26-a100-9d94b93e34ac"
      },
      "execution_count": 67,
      "outputs": [
        {
          "output_type": "execute_result",
          "data": {
            "text/plain": [
              "             activity  precision    recall  f1-score\n",
              "0               lying   0.951730  0.950193  0.950961\n",
              "1             sitting   0.814803  0.841917  0.828138\n",
              "2            standing   0.762099  0.784445  0.773110\n",
              "3             walking   0.617266  0.627752  0.622465\n",
              "4             running   0.646490  0.588203  0.615971\n",
              "5             cycling   0.860365  0.894779  0.877234\n",
              "6      Nordic_walking   0.604523  0.579669  0.591835\n",
              "7    ascending_stairs   0.340498  0.354704  0.347456\n",
              "8   descending_stairs   0.398624  0.361569  0.379194\n",
              "9     vacuum_cleaning   0.670286  0.694016  0.681945\n",
              "10            ironing   0.832880  0.829030  0.830951\n",
              "11       rope_jumping   0.762066  0.786903  0.774285"
            ],
            "text/html": [
              "\n",
              "  <div id=\"df-228eeac7-c2f1-4f2e-b3f6-352cfc65e0d7\" class=\"colab-df-container\">\n",
              "    <div>\n",
              "<style scoped>\n",
              "    .dataframe tbody tr th:only-of-type {\n",
              "        vertical-align: middle;\n",
              "    }\n",
              "\n",
              "    .dataframe tbody tr th {\n",
              "        vertical-align: top;\n",
              "    }\n",
              "\n",
              "    .dataframe thead th {\n",
              "        text-align: right;\n",
              "    }\n",
              "</style>\n",
              "<table border=\"1\" class=\"dataframe\">\n",
              "  <thead>\n",
              "    <tr style=\"text-align: right;\">\n",
              "      <th></th>\n",
              "      <th>activity</th>\n",
              "      <th>precision</th>\n",
              "      <th>recall</th>\n",
              "      <th>f1-score</th>\n",
              "    </tr>\n",
              "  </thead>\n",
              "  <tbody>\n",
              "    <tr>\n",
              "      <th>0</th>\n",
              "      <td>lying</td>\n",
              "      <td>0.951730</td>\n",
              "      <td>0.950193</td>\n",
              "      <td>0.950961</td>\n",
              "    </tr>\n",
              "    <tr>\n",
              "      <th>1</th>\n",
              "      <td>sitting</td>\n",
              "      <td>0.814803</td>\n",
              "      <td>0.841917</td>\n",
              "      <td>0.828138</td>\n",
              "    </tr>\n",
              "    <tr>\n",
              "      <th>2</th>\n",
              "      <td>standing</td>\n",
              "      <td>0.762099</td>\n",
              "      <td>0.784445</td>\n",
              "      <td>0.773110</td>\n",
              "    </tr>\n",
              "    <tr>\n",
              "      <th>3</th>\n",
              "      <td>walking</td>\n",
              "      <td>0.617266</td>\n",
              "      <td>0.627752</td>\n",
              "      <td>0.622465</td>\n",
              "    </tr>\n",
              "    <tr>\n",
              "      <th>4</th>\n",
              "      <td>running</td>\n",
              "      <td>0.646490</td>\n",
              "      <td>0.588203</td>\n",
              "      <td>0.615971</td>\n",
              "    </tr>\n",
              "    <tr>\n",
              "      <th>5</th>\n",
              "      <td>cycling</td>\n",
              "      <td>0.860365</td>\n",
              "      <td>0.894779</td>\n",
              "      <td>0.877234</td>\n",
              "    </tr>\n",
              "    <tr>\n",
              "      <th>6</th>\n",
              "      <td>Nordic_walking</td>\n",
              "      <td>0.604523</td>\n",
              "      <td>0.579669</td>\n",
              "      <td>0.591835</td>\n",
              "    </tr>\n",
              "    <tr>\n",
              "      <th>7</th>\n",
              "      <td>ascending_stairs</td>\n",
              "      <td>0.340498</td>\n",
              "      <td>0.354704</td>\n",
              "      <td>0.347456</td>\n",
              "    </tr>\n",
              "    <tr>\n",
              "      <th>8</th>\n",
              "      <td>descending_stairs</td>\n",
              "      <td>0.398624</td>\n",
              "      <td>0.361569</td>\n",
              "      <td>0.379194</td>\n",
              "    </tr>\n",
              "    <tr>\n",
              "      <th>9</th>\n",
              "      <td>vacuum_cleaning</td>\n",
              "      <td>0.670286</td>\n",
              "      <td>0.694016</td>\n",
              "      <td>0.681945</td>\n",
              "    </tr>\n",
              "    <tr>\n",
              "      <th>10</th>\n",
              "      <td>ironing</td>\n",
              "      <td>0.832880</td>\n",
              "      <td>0.829030</td>\n",
              "      <td>0.830951</td>\n",
              "    </tr>\n",
              "    <tr>\n",
              "      <th>11</th>\n",
              "      <td>rope_jumping</td>\n",
              "      <td>0.762066</td>\n",
              "      <td>0.786903</td>\n",
              "      <td>0.774285</td>\n",
              "    </tr>\n",
              "  </tbody>\n",
              "</table>\n",
              "</div>\n",
              "    <div class=\"colab-df-buttons\">\n",
              "\n",
              "  <div class=\"colab-df-container\">\n",
              "    <button class=\"colab-df-convert\" onclick=\"convertToInteractive('df-228eeac7-c2f1-4f2e-b3f6-352cfc65e0d7')\"\n",
              "            title=\"Convert this dataframe to an interactive table.\"\n",
              "            style=\"display:none;\">\n",
              "\n",
              "  <svg xmlns=\"http://www.w3.org/2000/svg\" height=\"24px\" viewBox=\"0 -960 960 960\">\n",
              "    <path d=\"M120-120v-720h720v720H120Zm60-500h600v-160H180v160Zm220 220h160v-160H400v160Zm0 220h160v-160H400v160ZM180-400h160v-160H180v160Zm440 0h160v-160H620v160ZM180-180h160v-160H180v160Zm440 0h160v-160H620v160Z\"/>\n",
              "  </svg>\n",
              "    </button>\n",
              "\n",
              "  <style>\n",
              "    .colab-df-container {\n",
              "      display:flex;\n",
              "      gap: 12px;\n",
              "    }\n",
              "\n",
              "    .colab-df-convert {\n",
              "      background-color: #E8F0FE;\n",
              "      border: none;\n",
              "      border-radius: 50%;\n",
              "      cursor: pointer;\n",
              "      display: none;\n",
              "      fill: #1967D2;\n",
              "      height: 32px;\n",
              "      padding: 0 0 0 0;\n",
              "      width: 32px;\n",
              "    }\n",
              "\n",
              "    .colab-df-convert:hover {\n",
              "      background-color: #E2EBFA;\n",
              "      box-shadow: 0px 1px 2px rgba(60, 64, 67, 0.3), 0px 1px 3px 1px rgba(60, 64, 67, 0.15);\n",
              "      fill: #174EA6;\n",
              "    }\n",
              "\n",
              "    .colab-df-buttons div {\n",
              "      margin-bottom: 4px;\n",
              "    }\n",
              "\n",
              "    [theme=dark] .colab-df-convert {\n",
              "      background-color: #3B4455;\n",
              "      fill: #D2E3FC;\n",
              "    }\n",
              "\n",
              "    [theme=dark] .colab-df-convert:hover {\n",
              "      background-color: #434B5C;\n",
              "      box-shadow: 0px 1px 3px 1px rgba(0, 0, 0, 0.15);\n",
              "      filter: drop-shadow(0px 1px 2px rgba(0, 0, 0, 0.3));\n",
              "      fill: #FFFFFF;\n",
              "    }\n",
              "  </style>\n",
              "\n",
              "    <script>\n",
              "      const buttonEl =\n",
              "        document.querySelector('#df-228eeac7-c2f1-4f2e-b3f6-352cfc65e0d7 button.colab-df-convert');\n",
              "      buttonEl.style.display =\n",
              "        google.colab.kernel.accessAllowed ? 'block' : 'none';\n",
              "\n",
              "      async function convertToInteractive(key) {\n",
              "        const element = document.querySelector('#df-228eeac7-c2f1-4f2e-b3f6-352cfc65e0d7');\n",
              "        const dataTable =\n",
              "          await google.colab.kernel.invokeFunction('convertToInteractive',\n",
              "                                                    [key], {});\n",
              "        if (!dataTable) return;\n",
              "\n",
              "        const docLinkHtml = 'Like what you see? Visit the ' +\n",
              "          '<a target=\"_blank\" href=https://colab.research.google.com/notebooks/data_table.ipynb>data table notebook</a>'\n",
              "          + ' to learn more about interactive tables.';\n",
              "        element.innerHTML = '';\n",
              "        dataTable['output_type'] = 'display_data';\n",
              "        await google.colab.output.renderOutput(dataTable, element);\n",
              "        const docLink = document.createElement('div');\n",
              "        docLink.innerHTML = docLinkHtml;\n",
              "        element.appendChild(docLink);\n",
              "      }\n",
              "    </script>\n",
              "  </div>\n",
              "\n",
              "\n",
              "<div id=\"df-e5009a9a-46c2-40dc-91ed-1da4c0317825\">\n",
              "  <button class=\"colab-df-quickchart\" onclick=\"quickchart('df-e5009a9a-46c2-40dc-91ed-1da4c0317825')\"\n",
              "            title=\"Suggest charts\"\n",
              "            style=\"display:none;\">\n",
              "\n",
              "<svg xmlns=\"http://www.w3.org/2000/svg\" height=\"24px\"viewBox=\"0 0 24 24\"\n",
              "     width=\"24px\">\n",
              "    <g>\n",
              "        <path d=\"M19 3H5c-1.1 0-2 .9-2 2v14c0 1.1.9 2 2 2h14c1.1 0 2-.9 2-2V5c0-1.1-.9-2-2-2zM9 17H7v-7h2v7zm4 0h-2V7h2v10zm4 0h-2v-4h2v4z\"/>\n",
              "    </g>\n",
              "</svg>\n",
              "  </button>\n",
              "\n",
              "<style>\n",
              "  .colab-df-quickchart {\n",
              "      --bg-color: #E8F0FE;\n",
              "      --fill-color: #1967D2;\n",
              "      --hover-bg-color: #E2EBFA;\n",
              "      --hover-fill-color: #174EA6;\n",
              "      --disabled-fill-color: #AAA;\n",
              "      --disabled-bg-color: #DDD;\n",
              "  }\n",
              "\n",
              "  [theme=dark] .colab-df-quickchart {\n",
              "      --bg-color: #3B4455;\n",
              "      --fill-color: #D2E3FC;\n",
              "      --hover-bg-color: #434B5C;\n",
              "      --hover-fill-color: #FFFFFF;\n",
              "      --disabled-bg-color: #3B4455;\n",
              "      --disabled-fill-color: #666;\n",
              "  }\n",
              "\n",
              "  .colab-df-quickchart {\n",
              "    background-color: var(--bg-color);\n",
              "    border: none;\n",
              "    border-radius: 50%;\n",
              "    cursor: pointer;\n",
              "    display: none;\n",
              "    fill: var(--fill-color);\n",
              "    height: 32px;\n",
              "    padding: 0;\n",
              "    width: 32px;\n",
              "  }\n",
              "\n",
              "  .colab-df-quickchart:hover {\n",
              "    background-color: var(--hover-bg-color);\n",
              "    box-shadow: 0 1px 2px rgba(60, 64, 67, 0.3), 0 1px 3px 1px rgba(60, 64, 67, 0.15);\n",
              "    fill: var(--button-hover-fill-color);\n",
              "  }\n",
              "\n",
              "  .colab-df-quickchart-complete:disabled,\n",
              "  .colab-df-quickchart-complete:disabled:hover {\n",
              "    background-color: var(--disabled-bg-color);\n",
              "    fill: var(--disabled-fill-color);\n",
              "    box-shadow: none;\n",
              "  }\n",
              "\n",
              "  .colab-df-spinner {\n",
              "    border: 2px solid var(--fill-color);\n",
              "    border-color: transparent;\n",
              "    border-bottom-color: var(--fill-color);\n",
              "    animation:\n",
              "      spin 1s steps(1) infinite;\n",
              "  }\n",
              "\n",
              "  @keyframes spin {\n",
              "    0% {\n",
              "      border-color: transparent;\n",
              "      border-bottom-color: var(--fill-color);\n",
              "      border-left-color: var(--fill-color);\n",
              "    }\n",
              "    20% {\n",
              "      border-color: transparent;\n",
              "      border-left-color: var(--fill-color);\n",
              "      border-top-color: var(--fill-color);\n",
              "    }\n",
              "    30% {\n",
              "      border-color: transparent;\n",
              "      border-left-color: var(--fill-color);\n",
              "      border-top-color: var(--fill-color);\n",
              "      border-right-color: var(--fill-color);\n",
              "    }\n",
              "    40% {\n",
              "      border-color: transparent;\n",
              "      border-right-color: var(--fill-color);\n",
              "      border-top-color: var(--fill-color);\n",
              "    }\n",
              "    60% {\n",
              "      border-color: transparent;\n",
              "      border-right-color: var(--fill-color);\n",
              "    }\n",
              "    80% {\n",
              "      border-color: transparent;\n",
              "      border-right-color: var(--fill-color);\n",
              "      border-bottom-color: var(--fill-color);\n",
              "    }\n",
              "    90% {\n",
              "      border-color: transparent;\n",
              "      border-bottom-color: var(--fill-color);\n",
              "    }\n",
              "  }\n",
              "</style>\n",
              "\n",
              "  <script>\n",
              "    async function quickchart(key) {\n",
              "      const quickchartButtonEl =\n",
              "        document.querySelector('#' + key + ' button');\n",
              "      quickchartButtonEl.disabled = true;  // To prevent multiple clicks.\n",
              "      quickchartButtonEl.classList.add('colab-df-spinner');\n",
              "      try {\n",
              "        const charts = await google.colab.kernel.invokeFunction(\n",
              "            'suggestCharts', [key], {});\n",
              "      } catch (error) {\n",
              "        console.error('Error during call to suggestCharts:', error);\n",
              "      }\n",
              "      quickchartButtonEl.classList.remove('colab-df-spinner');\n",
              "      quickchartButtonEl.classList.add('colab-df-quickchart-complete');\n",
              "    }\n",
              "    (() => {\n",
              "      let quickchartButtonEl =\n",
              "        document.querySelector('#df-e5009a9a-46c2-40dc-91ed-1da4c0317825 button');\n",
              "      quickchartButtonEl.style.display =\n",
              "        google.colab.kernel.accessAllowed ? 'block' : 'none';\n",
              "    })();\n",
              "  </script>\n",
              "</div>\n",
              "    </div>\n",
              "  </div>\n"
            ]
          },
          "metadata": {},
          "execution_count": 67
        }
      ]
    },
    {
      "cell_type": "code",
      "source": [
        "'''\n",
        "#store model in file\n",
        "path = '/content/drive/My Drive/final_project/models/'\n",
        "model_name = 'up_and_down_sampled.joblib'\n",
        "model_path = path+model_name\n",
        "\n",
        "dump(clf, model_path)\n",
        "'''"
      ],
      "metadata": {
        "colab": {
          "base_uri": "https://localhost:8080/",
          "height": 53
        },
        "id": "IM0nMUUT1Ign",
        "outputId": "62488843-8c8f-4c20-b9e7-ef18576f16f9"
      },
      "execution_count": 40,
      "outputs": [
        {
          "output_type": "execute_result",
          "data": {
            "text/plain": [
              "\"\\n#store model in file\\npath = '/content/drive/My Drive/final_project/models/'\\nmodel_name = 'up_and_down_sampled.joblib'\\nmodel_path = path+model_name\\n\\ndump(clf, model_path)\\n\""
            ],
            "application/vnd.google.colaboratory.intrinsic+json": {
              "type": "string"
            }
          },
          "metadata": {},
          "execution_count": 40
        }
      ]
    },
    {
      "cell_type": "code",
      "source": [
        "'''\n",
        "\n",
        "#load model from file\n",
        "path = '/content/drive/My Drive/final_project/models/'\n",
        "model_name = 'without_gyro.joblib'\n",
        "model_path = path+model_name\n",
        "\n",
        "clf = load(model_path)\n",
        "y_pred = clf.predict(pc_val)\n",
        "\n",
        "'''"
      ],
      "metadata": {
        "colab": {
          "base_uri": "https://localhost:8080/",
          "height": 53
        },
        "id": "3XVVHGUl3l8D",
        "outputId": "3c9cd365-8b54-4b18-9a88-9b8745039f45"
      },
      "execution_count": 41,
      "outputs": [
        {
          "output_type": "execute_result",
          "data": {
            "text/plain": [
              "\"\\n\\n#load model from file\\npath = '/content/drive/My Drive/final_project/models/'\\nmodel_name = 'without_gyro.joblib'\\nmodel_path = path+model_name\\n\\nclf = load(model_path)\\ny_pred = clf.predict(pc_val)\\n\\n\""
            ],
            "application/vnd.google.colaboratory.intrinsic+json": {
              "type": "string"
            }
          },
          "metadata": {},
          "execution_count": 41
        }
      ]
    }
  ]
}