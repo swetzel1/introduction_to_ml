{
  "cells": [
    {
      "cell_type": "markdown",
      "metadata": {
        "id": "view-in-github",
        "colab_type": "text"
      },
      "source": [
        "<a href=\"https://colab.research.google.com/github/swetzel1/introduction_to_ml/blob/main/project/final_project_nn.ipynb\" target=\"_parent\"><img src=\"https://colab.research.google.com/assets/colab-badge.svg\" alt=\"Open In Colab\"/></a>"
      ]
    },
    {
      "cell_type": "markdown",
      "metadata": {
        "id": "kGpoGHqaEnm1"
      },
      "source": [
        "# Physical Activity Monitoring\n"
      ]
    },
    {
      "cell_type": "code",
      "execution_count": 118,
      "metadata": {
        "id": "UNYWTkWLjDvB"
      },
      "outputs": [],
      "source": [
        "#load libraries\n",
        "\n",
        "import numpy as np\n",
        "import pandas as pd\n",
        "import seaborn as sns\n",
        "\n",
        "from pandas.plotting import scatter_matrix\n",
        "\n",
        "from matplotlib import pyplot as plt\n",
        "\n",
        "from imblearn.under_sampling  import RandomUnderSampler\n",
        "\n",
        "from joblib import dump, load\n",
        "\n",
        "import datetime\n",
        "\n",
        "from sklearn.model_selection  import train_test_split\n",
        "from sklearn                  import metrics\n",
        "from sklearn.decomposition    import PCA\n",
        "from sklearn.metrics          import confusion_matrix\n",
        "\n",
        "import torch\n",
        "import torch.optim as optim\n",
        "import torch.nn as nn\n",
        "import torch.nn.functional as F\n",
        "\n",
        "from torch.utils.data import DataLoader"
      ]
    },
    {
      "cell_type": "code",
      "execution_count": 2,
      "metadata": {
        "colab": {
          "base_uri": "https://localhost:8080/"
        },
        "id": "CXFErGfvLZNt",
        "outputId": "f5df59bd-9abb-4cb6-e528-620c6c649f48"
      },
      "outputs": [
        {
          "output_type": "stream",
          "name": "stdout",
          "text": [
            "Mounted at /content/drive\n"
          ]
        }
      ],
      "source": [
        "from google.colab import drive\n",
        "drive.mount('/content/drive')"
      ]
    },
    {
      "cell_type": "markdown",
      "metadata": {
        "id": "KZ_rWib9EgST"
      },
      "source": [
        "## Load Data"
      ]
    },
    {
      "cell_type": "code",
      "execution_count": 3,
      "metadata": {
        "id": "wBB2Un4g2WLp"
      },
      "outputs": [],
      "source": []
    },
    {
      "cell_type": "code",
      "source": [
        "#load preprocessed data\n",
        "data_path = '/content/drive/My Drive/final_project/dataset/preprocessed.csv'\n",
        "\n",
        "raw_data = pd.DataFrame(pd.read_csv(data_path))"
      ],
      "metadata": {
        "id": "hjDYk5FvKPT0"
      },
      "execution_count": 65,
      "outputs": []
    },
    {
      "cell_type": "code",
      "source": [
        "data = raw_data"
      ],
      "metadata": {
        "id": "Q_1fYJrYi3pw"
      },
      "execution_count": null,
      "outputs": []
    },
    {
      "cell_type": "code",
      "source": [
        "#map activity id\n",
        "\n",
        "#dict for conf_matrix\n",
        "activity_id_dict = {0: 'transient',\n",
        "                    1: 'lying',\n",
        "                    2: 'sitting',\n",
        "                    3: 'standing',\n",
        "                    4: 'walking',\n",
        "                    5: 'running',\n",
        "                    6: 'cycling',\n",
        "                    7: 'Nordic_walking',\n",
        "                    9: 'watching_TV',\n",
        "                    10: 'computer_work',\n",
        "                    11: 'car driving',\n",
        "                    12: 'ascending_stairs',\n",
        "                    13: 'descending_stairs',\n",
        "                    16: 'vacuum_cleaning',\n",
        "                    17: 'ironing',\n",
        "                    18: 'folding_laundry',\n",
        "                    19: 'house_cleaning',\n",
        "                    20: 'playing_soccer',\n",
        "                    24: 'rope_jumping' }\n",
        "\n",
        "\n",
        "activity_id_mapping= {1 :0,\n",
        "                      2 :1,\n",
        "                      3 :2,\n",
        "                      4 :3,\n",
        "                      5 :4,\n",
        "                      6 :5,\n",
        "                      7 :6,\n",
        "                     12 :7,\n",
        "                     16 :8,\n",
        "                     13 :9,\n",
        "                     17 :10,\n",
        "                     24 :11 }\n",
        "\n",
        "inv_activity_id_mapping = {v: k for k, v in activity_id_mapping.items()} #prepare reverse mapping for conf matrix\n",
        "\n",
        "\n",
        "### important\n",
        "data['activity_id'] = data['activity_id'].map(activity_id_mapping) #map activity_id to index"
      ],
      "metadata": {
        "id": "WXkve_PLhpPD"
      },
      "execution_count": 68,
      "outputs": []
    },
    {
      "cell_type": "code",
      "source": [
        "#split x,y\n",
        "col = data.columns\n",
        "x_cols = col[:-1] #<---\n",
        "\n",
        "y_df = data['activity_id']\n",
        "x_df = data[x_cols]\n",
        "\n",
        "x_np =x_df.to_numpy()\n",
        "y_np =y_df.to_numpy()"
      ],
      "metadata": {
        "id": "HfcHw8FyO1Yd"
      },
      "execution_count": 70,
      "outputs": []
    },
    {
      "cell_type": "code",
      "execution_count": 81,
      "metadata": {
        "id": "nvXoy8-vGN9H"
      },
      "outputs": [],
      "source": [
        "#PCA\n",
        "k = 15 #optimal value to be found\n",
        "pca = PCA(n_components=k)\n",
        "\n",
        "x_pc = pca.fit_transform(x_np)"
      ]
    },
    {
      "cell_type": "code",
      "source": [
        "#to tensor\n",
        "\n",
        "x = torch.tensor(x_pc, dtype=torch.float32)  # using pca\n",
        "#x = torch.tensor(x_np, dtype=torch.float32) # without pca\n",
        "\n",
        "y = torch.tensor(y_np, dtype=torch.long)"
      ],
      "metadata": {
        "id": "N9cR7dLLdE5g"
      },
      "execution_count": 82,
      "outputs": []
    },
    {
      "cell_type": "code",
      "source": [
        "#split train & val\n",
        "x_train, x_val, y_train, y_val = train_test_split(x, y, train_size = 0.8, test_size = 0.2, random_state = 100)"
      ],
      "metadata": {
        "id": "avK5oqiZd_yp"
      },
      "execution_count": 83,
      "outputs": []
    },
    {
      "cell_type": "code",
      "source": [
        "x_train.shape[1]"
      ],
      "metadata": {
        "colab": {
          "base_uri": "https://localhost:8080/"
        },
        "id": "G03a7Szvqs9b",
        "outputId": "39f20673-128b-4946-a71b-174f7e959b50"
      },
      "execution_count": 107,
      "outputs": [
        {
          "output_type": "execute_result",
          "data": {
            "text/plain": [
              "15"
            ]
          },
          "metadata": {},
          "execution_count": 107
        }
      ]
    },
    {
      "cell_type": "markdown",
      "metadata": {
        "id": "KcLFUGrb2kiF"
      },
      "source": [
        "# Neural Network"
      ]
    },
    {
      "cell_type": "code",
      "source": [
        "#pseudo model\n",
        "'''\n",
        "input_dim  = 31  # number of principal components\n",
        "output_dim = 12\n",
        "\n",
        "n_layer1 = 64\n",
        "\n",
        "model = nn.Sequential(\n",
        "            nn.Linear(input_dim, n_layer1), #layer 1\n",
        "            nn.Tanh(),\n",
        "            nn.Linear(n_layer1, output_dim),\n",
        "            nn.LogSoftmax(dim=1))\n",
        "\n",
        "'''\n",
        "\n",
        "#proper model\n",
        "'''\n",
        "input_dim  = x_train.shape[1]  # number of pcas / input features\n",
        "output_dim = 12  # no. of activities\n",
        "\n",
        "n_layer1 = 64\n",
        "n_layer2 = 128\n",
        "n_layer3 = 64\n",
        "\n",
        "model = nn.Sequential(\n",
        "            nn.Linear(input_dim, n_layer1), #layer 1\n",
        "            nn.Tanh(),\n",
        "            nn.Linear(n_layer1, n_layer2), # layer 2\n",
        "            nn.Tanh(),\n",
        "            nn.Linear(n_layer2, n_layer3), # layer 3\n",
        "            nn.Tanh(),\n",
        "            nn.Linear(n_layer3, output_dim),\n",
        "            nn.LogSoftmax(dim=1))\n",
        "'''\n",
        "\n",
        "\n",
        "input_dim  = x_train.shape[1]  # number of pcas / input features\n",
        "output_dim = 12  # no. of activities\n",
        "\n",
        "n_layer1 = 64\n",
        "n_layer2 = 128\n",
        "n_layer3 = 64\n",
        "\n",
        "model = nn.Sequential(\n",
        "            nn.Linear(input_dim, n_layer1), #layer 1\n",
        "            nn.ReLU(),\n",
        "            nn.Linear(n_layer1, n_layer2), # layer 2\n",
        "            nn.ReLU(),\n",
        "            nn.Linear(n_layer2, n_layer3), # layer 3\n",
        "            nn.ReLU(),\n",
        "            nn.Linear(n_layer3, output_dim),\n",
        "            nn.LogSoftmax(dim=1))\n"
      ],
      "metadata": {
        "id": "E8d_g2nbfrpG"
      },
      "execution_count": 117,
      "outputs": []
    },
    {
      "cell_type": "code",
      "execution_count": 87,
      "metadata": {
        "id": "QnNf5Fi43lcx"
      },
      "outputs": [],
      "source": [
        "#Data Loader\n",
        "batch_size   = 500\n",
        "train_loader = DataLoader(list(zip(x_train, y_train)), shuffle=True, batch_size=batch_size)\n",
        "\n",
        "val_loader   = DataLoader(list(zip(x_val, y_val)), shuffle=True, batch_size=batch_size)"
      ]
    },
    {
      "cell_type": "code",
      "source": [
        "learning_rate = 0.01\n",
        "n_epochs = 100\n",
        "\n",
        "optimizer = optim.SGD(model.parameters(), lr=learning_rate)\n",
        "loss_fn = nn.NLLLoss()\n",
        "\n",
        "start = datetime.datetime.now()\n",
        "\n",
        "for epoch in range(n_epochs):\n",
        "    for x_batch, y_batch in train_loader:\n",
        "\n",
        "        y_pred = model(x_batch)\n",
        "        loss = loss_fn(y_pred, y_batch)\n",
        "\n",
        "\n",
        "        optimizer.zero_grad()\n",
        "        loss.backward()\n",
        "        optimizer.step()\n",
        "\n",
        "    print(\"Epoch: %d, Loss: %f\" % (epoch, float(loss)))\n",
        "\n",
        "end = datetime.datetime.now()"
      ],
      "metadata": {
        "colab": {
          "base_uri": "https://localhost:8080/"
        },
        "id": "B96DuXkmfplB",
        "outputId": "4d760743-b95b-48da-a951-51e29568d634"
      },
      "execution_count": 119,
      "outputs": [
        {
          "output_type": "stream",
          "name": "stdout",
          "text": [
            "Epoch: 0, Loss: 2.264804\n",
            "Epoch: 1, Loss: 1.428003\n",
            "Epoch: 2, Loss: 1.052552\n",
            "Epoch: 3, Loss: 1.019190\n",
            "Epoch: 4, Loss: 0.852726\n",
            "Epoch: 5, Loss: 0.675470\n",
            "Epoch: 6, Loss: 0.656973\n",
            "Epoch: 7, Loss: 0.567037\n",
            "Epoch: 8, Loss: 0.498363\n",
            "Epoch: 9, Loss: 0.579609\n",
            "Epoch: 10, Loss: 0.474886\n",
            "Epoch: 11, Loss: 0.430258\n",
            "Epoch: 12, Loss: 0.383585\n",
            "Epoch: 13, Loss: 0.385742\n",
            "Epoch: 14, Loss: 0.376622\n",
            "Epoch: 15, Loss: 0.310358\n",
            "Epoch: 16, Loss: 0.326294\n",
            "Epoch: 17, Loss: 0.466563\n",
            "Epoch: 18, Loss: 0.307053\n",
            "Epoch: 19, Loss: 0.314002\n",
            "Epoch: 20, Loss: 0.255737\n",
            "Epoch: 21, Loss: 0.262957\n",
            "Epoch: 22, Loss: 0.282381\n",
            "Epoch: 23, Loss: 0.172851\n",
            "Epoch: 24, Loss: 0.274980\n",
            "Epoch: 25, Loss: 0.185541\n",
            "Epoch: 26, Loss: 0.173115\n",
            "Epoch: 27, Loss: 0.200028\n",
            "Epoch: 28, Loss: 0.182493\n",
            "Epoch: 29, Loss: 0.101529\n",
            "Epoch: 30, Loss: 0.156553\n",
            "Epoch: 31, Loss: 0.097144\n",
            "Epoch: 32, Loss: 0.158518\n",
            "Epoch: 33, Loss: 0.096531\n",
            "Epoch: 34, Loss: 0.143895\n",
            "Epoch: 35, Loss: 0.116585\n",
            "Epoch: 36, Loss: 0.140671\n",
            "Epoch: 37, Loss: 0.103401\n",
            "Epoch: 38, Loss: 0.057126\n",
            "Epoch: 39, Loss: 0.082974\n",
            "Epoch: 40, Loss: 0.075740\n",
            "Epoch: 41, Loss: 0.107448\n",
            "Epoch: 42, Loss: 0.049135\n",
            "Epoch: 43, Loss: 0.083391\n",
            "Epoch: 44, Loss: 0.092524\n",
            "Epoch: 45, Loss: 0.036347\n",
            "Epoch: 46, Loss: 0.062678\n",
            "Epoch: 47, Loss: 0.043896\n",
            "Epoch: 48, Loss: 0.048128\n",
            "Epoch: 49, Loss: 0.043546\n",
            "Epoch: 50, Loss: 0.057715\n",
            "Epoch: 51, Loss: 0.044208\n",
            "Epoch: 52, Loss: 0.071852\n",
            "Epoch: 53, Loss: 0.073558\n",
            "Epoch: 54, Loss: 0.035572\n",
            "Epoch: 55, Loss: 0.046740\n",
            "Epoch: 56, Loss: 0.051669\n",
            "Epoch: 57, Loss: 0.076623\n",
            "Epoch: 58, Loss: 0.037837\n",
            "Epoch: 59, Loss: 0.062437\n",
            "Epoch: 60, Loss: 0.028736\n",
            "Epoch: 61, Loss: 0.032809\n",
            "Epoch: 62, Loss: 0.027472\n",
            "Epoch: 63, Loss: 0.028879\n",
            "Epoch: 64, Loss: 0.037187\n",
            "Epoch: 65, Loss: 0.049144\n",
            "Epoch: 66, Loss: 0.044520\n",
            "Epoch: 67, Loss: 0.072759\n",
            "Epoch: 68, Loss: 0.038784\n",
            "Epoch: 69, Loss: 0.044083\n",
            "Epoch: 70, Loss: 0.039601\n",
            "Epoch: 71, Loss: 0.046508\n",
            "Epoch: 72, Loss: 0.048595\n",
            "Epoch: 73, Loss: 0.028092\n",
            "Epoch: 74, Loss: 0.044345\n",
            "Epoch: 75, Loss: 0.056800\n",
            "Epoch: 76, Loss: 0.028692\n",
            "Epoch: 77, Loss: 0.024634\n",
            "Epoch: 78, Loss: 0.038318\n",
            "Epoch: 79, Loss: 0.029555\n",
            "Epoch: 80, Loss: 0.044073\n",
            "Epoch: 81, Loss: 0.035718\n",
            "Epoch: 82, Loss: 0.043396\n",
            "Epoch: 83, Loss: 0.022642\n",
            "Epoch: 84, Loss: 0.063629\n",
            "Epoch: 85, Loss: 0.027965\n",
            "Epoch: 86, Loss: 0.042024\n",
            "Epoch: 87, Loss: 0.039461\n",
            "Epoch: 88, Loss: 0.047900\n",
            "Epoch: 89, Loss: 0.024987\n",
            "Epoch: 90, Loss: 0.013066\n",
            "Epoch: 91, Loss: 0.050010\n",
            "Epoch: 92, Loss: 0.034383\n",
            "Epoch: 93, Loss: 0.018905\n",
            "Epoch: 94, Loss: 0.025789\n",
            "Epoch: 95, Loss: 0.065620\n",
            "Epoch: 96, Loss: 0.057223\n",
            "Epoch: 97, Loss: 0.027170\n",
            "Epoch: 98, Loss: 0.022531\n",
            "Epoch: 99, Loss: 0.065331\n"
          ]
        }
      ]
    },
    {
      "cell_type": "code",
      "source": [
        "training_time = end - start\n",
        "print('Training time: ', str(training_time))"
      ],
      "metadata": {
        "colab": {
          "base_uri": "https://localhost:8080/"
        },
        "id": "oJJo3YLZ3w33",
        "outputId": "9c10d560-3e94-4287-fd15-4d4ad76e94e4"
      },
      "execution_count": 120,
      "outputs": [
        {
          "output_type": "stream",
          "name": "stdout",
          "text": [
            "Training time:  0:24:45.646530\n"
          ]
        }
      ]
    },
    {
      "cell_type": "code",
      "source": [
        "#compute confsion matrix\n",
        "nb_classes = 12\n",
        "cnf_matrix = torch.zeros(nb_classes, nb_classes)\n",
        "\n",
        "with torch.no_grad():\n",
        "    for x_batch, y_batch in val_loader:\n",
        "\n",
        "\n",
        "        y_pred = model(x_batch)\n",
        "        _, preds = torch.max(y_pred, 1)\n",
        "\n",
        "        for t, p in zip(y_batch.view(-1), preds.view(-1)):\n",
        "                cnf_matrix[t.long(), p.long()] += 1\n"
      ],
      "metadata": {
        "id": "bcAedpYkw9EY"
      },
      "execution_count": 121,
      "outputs": []
    },
    {
      "cell_type": "code",
      "source": [
        "# create heatmap\n",
        "class_labels = list(range(0,12,1))\n",
        "class_labels = [inv_activity_id_mapping.get(x) for x in class_labels]\n",
        "class_labels = [activity_id_dict.get(x) for x in class_labels]\n",
        "\n",
        "fig, ax = plt.subplots(figsize=(9,7))\n",
        "sns.heatmap(pd.DataFrame(cnf_matrix), annot=True, cmap=\"YlGnBu\" ,fmt='g',linewidths=0.5, xticklabels=class_labels, yticklabels=class_labels, ax=ax)\n",
        "\n",
        "plt.title('Confusion matrix')\n",
        "plt.ylabel('Actual label')\n",
        "plt.xlabel('Predicted label')"
      ],
      "metadata": {
        "colab": {
          "base_uri": "https://localhost:8080/",
          "height": 770
        },
        "id": "R_5ICIl7xoDu",
        "outputId": "466a028d-f95d-4e39-af8a-fbedfb4c34fa"
      },
      "execution_count": 122,
      "outputs": [
        {
          "output_type": "execute_result",
          "data": {
            "text/plain": [
              "Text(0.5, 47.5815972222222, 'Predicted label')"
            ]
          },
          "metadata": {},
          "execution_count": 122
        },
        {
          "output_type": "display_data",
          "data": {
            "text/plain": [
              "<Figure size 900x700 with 2 Axes>"
            ],
            "image/png": "[encoded data removed]"
          },
          "metadata": {}
        }
      ]
    },
    {
      "cell_type": "code",
      "source": [
        "cnf_matrix = pd.DataFrame(cnf_matrix)"
      ],
      "metadata": {
        "id": "gOlSys2KnRDB"
      },
      "execution_count": 123,
      "outputs": []
    },
    {
      "cell_type": "code",
      "source": [
        "#Performance\n",
        "\n",
        "recall = np.diag(cnf_matrix) / np.sum(cnf_matrix, axis = 1)\n",
        "precision = np.diag(cnf_matrix) / np.sum(cnf_matrix, axis = 0)\n",
        "f1_score = (2*recall*precision) / (recall+precision)\n",
        "\n",
        "d = {'activity':class_labels, 'precision':precision, 'recall':recall, 'f1-score':f1_score}\n",
        "performance = pd.DataFrame(data = d)\n",
        "performance"
      ],
      "metadata": {
        "colab": {
          "base_uri": "https://localhost:8080/",
          "height": 426
        },
        "id": "ledBKI2ultZd",
        "outputId": "b8152fe9-b0b0-400b-990b-022f4aad0abd"
      },
      "execution_count": 124,
      "outputs": [
        {
          "output_type": "execute_result",
          "data": {
            "text/plain": [
              "             activity  precision    recall  f1-score\n",
              "0               lying   1.000000  0.999513  0.999756\n",
              "1             sitting   0.995486  0.996367  0.995926\n",
              "2            standing   0.988674  0.994801  0.991728\n",
              "3             walking   0.995827  0.999036  0.997429\n",
              "4             running   0.999203  0.996669  0.997934\n",
              "5             cycling   0.996840  0.999391  0.998114\n",
              "6      Nordic_walking   0.999176  0.996559  0.997865\n",
              "7    ascending_stairs   0.994445  0.851598  0.917495\n",
              "8     vacuum_cleaning   0.997258  0.997288  0.997273\n",
              "9   descending_stairs   0.872975  0.995708  0.930311\n",
              "10            ironing   0.996880  0.991181  0.994022\n",
              "11       rope_jumping   0.997597  0.999669  0.998632"
            ],
            "text/html": [
              "\n",
              "  <div id=\"df-6641a11b-e4c6-4245-a028-56a9cc7c84af\" class=\"colab-df-container\">\n",
              "    <div>\n",
              "<style scoped>\n",
              "    .dataframe tbody tr th:only-of-type {\n",
              "        vertical-align: middle;\n",
              "    }\n",
              "\n",
              "    .dataframe tbody tr th {\n",
              "        vertical-align: top;\n",
              "    }\n",
              "\n",
              "    .dataframe thead th {\n",
              "        text-align: right;\n",
              "    }\n",
              "</style>\n",
              "<table border=\"1\" class=\"dataframe\">\n",
              "  <thead>\n",
              "    <tr style=\"text-align: right;\">\n",
              "      <th></th>\n",
              "      <th>activity</th>\n",
              "      <th>precision</th>\n",
              "      <th>recall</th>\n",
              "      <th>f1-score</th>\n",
              "    </tr>\n",
              "  </thead>\n",
              "  <tbody>\n",
              "    <tr>\n",
              "      <th>0</th>\n",
              "      <td>lying</td>\n",
              "      <td>1.000000</td>\n",
              "      <td>0.999513</td>\n",
              "      <td>0.999756</td>\n",
              "    </tr>\n",
              "    <tr>\n",
              "      <th>1</th>\n",
              "      <td>sitting</td>\n",
              "      <td>0.995486</td>\n",
              "      <td>0.996367</td>\n",
              "      <td>0.995926</td>\n",
              "    </tr>\n",
              "    <tr>\n",
              "      <th>2</th>\n",
              "      <td>standing</td>\n",
              "      <td>0.988674</td>\n",
              "      <td>0.994801</td>\n",
              "      <td>0.991728</td>\n",
              "    </tr>\n",
              "    <tr>\n",
              "      <th>3</th>\n",
              "      <td>walking</td>\n",
              "      <td>0.995827</td>\n",
              "      <td>0.999036</td>\n",
              "      <td>0.997429</td>\n",
              "    </tr>\n",
              "    <tr>\n",
              "      <th>4</th>\n",
              "      <td>running</td>\n",
              "      <td>0.999203</td>\n",
              "      <td>0.996669</td>\n",
              "      <td>0.997934</td>\n",
              "    </tr>\n",
              "    <tr>\n",
              "      <th>5</th>\n",
              "      <td>cycling</td>\n",
              "      <td>0.996840</td>\n",
              "      <td>0.999391</td>\n",
              "      <td>0.998114</td>\n",
              "    </tr>\n",
              "    <tr>\n",
              "      <th>6</th>\n",
              "      <td>Nordic_walking</td>\n",
              "      <td>0.999176</td>\n",
              "      <td>0.996559</td>\n",
              "      <td>0.997865</td>\n",
              "    </tr>\n",
              "    <tr>\n",
              "      <th>7</th>\n",
              "      <td>ascending_stairs</td>\n",
              "      <td>0.994445</td>\n",
              "      <td>0.851598</td>\n",
              "      <td>0.917495</td>\n",
              "    </tr>\n",
              "    <tr>\n",
              "      <th>8</th>\n",
              "      <td>vacuum_cleaning</td>\n",
              "      <td>0.997258</td>\n",
              "      <td>0.997288</td>\n",
              "      <td>0.997273</td>\n",
              "    </tr>\n",
              "    <tr>\n",
              "      <th>9</th>\n",
              "      <td>descending_stairs</td>\n",
              "      <td>0.872975</td>\n",
              "      <td>0.995708</td>\n",
              "      <td>0.930311</td>\n",
              "    </tr>\n",
              "    <tr>\n",
              "      <th>10</th>\n",
              "      <td>ironing</td>\n",
              "      <td>0.996880</td>\n",
              "      <td>0.991181</td>\n",
              "      <td>0.994022</td>\n",
              "    </tr>\n",
              "    <tr>\n",
              "      <th>11</th>\n",
              "      <td>rope_jumping</td>\n",
              "      <td>0.997597</td>\n",
              "      <td>0.999669</td>\n",
              "      <td>0.998632</td>\n",
              "    </tr>\n",
              "  </tbody>\n",
              "</table>\n",
              "</div>\n",
              "    <div class=\"colab-df-buttons\">\n",
              "\n",
              "  <div class=\"colab-df-container\">\n",
              "    <button class=\"colab-df-convert\" onclick=\"convertToInteractive('df-6641a11b-e4c6-4245-a028-56a9cc7c84af')\"\n",
              "            title=\"Convert this dataframe to an interactive table.\"\n",
              "            style=\"display:none;\">\n",
              "\n",
              "  <svg xmlns=\"http://www.w3.org/2000/svg\" height=\"24px\" viewBox=\"0 -960 960 960\">\n",
              "    <path d=\"M120-120v-720h720v720H120Zm60-500h600v-160H180v160Zm220 220h160v-160H400v160Zm0 220h160v-160H400v160ZM180-400h160v-160H180v160Zm440 0h160v-160H620v160ZM180-180h160v-160H180v160Zm440 0h160v-160H620v160Z\"/>\n",
              "  </svg>\n",
              "    </button>\n",
              "\n",
              "  <style>\n",
              "    .colab-df-container {\n",
              "      display:flex;\n",
              "      gap: 12px;\n",
              "    }\n",
              "\n",
              "    .colab-df-convert {\n",
              "      background-color: #E8F0FE;\n",
              "      border: none;\n",
              "      border-radius: 50%;\n",
              "      cursor: pointer;\n",
              "      display: none;\n",
              "      fill: #1967D2;\n",
              "      height: 32px;\n",
              "      padding: 0 0 0 0;\n",
              "      width: 32px;\n",
              "    }\n",
              "\n",
              "    .colab-df-convert:hover {\n",
              "      background-color: #E2EBFA;\n",
              "      box-shadow: 0px 1px 2px rgba(60, 64, 67, 0.3), 0px 1px 3px 1px rgba(60, 64, 67, 0.15);\n",
              "      fill: #174EA6;\n",
              "    }\n",
              "\n",
              "    .colab-df-buttons div {\n",
              "      margin-bottom: 4px;\n",
              "    }\n",
              "\n",
              "    [theme=dark] .colab-df-convert {\n",
              "      background-color: #3B4455;\n",
              "      fill: #D2E3FC;\n",
              "    }\n",
              "\n",
              "    [theme=dark] .colab-df-convert:hover {\n",
              "      background-color: #434B5C;\n",
              "      box-shadow: 0px 1px 3px 1px rgba(0, 0, 0, 0.15);\n",
              "      filter: drop-shadow(0px 1px 2px rgba(0, 0, 0, 0.3));\n",
              "      fill: #FFFFFF;\n",
              "    }\n",
              "  </style>\n",
              "\n",
              "    <script>\n",
              "      const buttonEl =\n",
              "        document.querySelector('#df-6641a11b-e4c6-4245-a028-56a9cc7c84af button.colab-df-convert');\n",
              "      buttonEl.style.display =\n",
              "        google.colab.kernel.accessAllowed ? 'block' : 'none';\n",
              "\n",
              "      async function convertToInteractive(key) {\n",
              "        const element = document.querySelector('#df-6641a11b-e4c6-4245-a028-56a9cc7c84af');\n",
              "        const dataTable =\n",
              "          await google.colab.kernel.invokeFunction('convertToInteractive',\n",
              "                                                    [key], {});\n",
              "        if (!dataTable) return;\n",
              "\n",
              "        const docLinkHtml = 'Like what you see? Visit the ' +\n",
              "          '<a target=\"_blank\" href=https://colab.research.google.com/notebooks/data_table.ipynb>data table notebook</a>'\n",
              "          + ' to learn more about interactive tables.';\n",
              "        element.innerHTML = '';\n",
              "        dataTable['output_type'] = 'display_data';\n",
              "        await google.colab.output.renderOutput(dataTable, element);\n",
              "        const docLink = document.createElement('div');\n",
              "        docLink.innerHTML = docLinkHtml;\n",
              "        element.appendChild(docLink);\n",
              "      }\n",
              "    </script>\n",
              "  </div>\n",
              "\n",
              "\n",
              "<div id=\"df-60e88d51-535f-403e-affb-7afb14768d3f\">\n",
              "  <button class=\"colab-df-quickchart\" onclick=\"quickchart('df-60e88d51-535f-403e-affb-7afb14768d3f')\"\n",
              "            title=\"Suggest charts\"\n",
              "            style=\"display:none;\">\n",
              "\n",
              "<svg xmlns=\"http://www.w3.org/2000/svg\" height=\"24px\"viewBox=\"0 0 24 24\"\n",
              "     width=\"24px\">\n",
              "    <g>\n",
              "        <path d=\"M19 3H5c-1.1 0-2 .9-2 2v14c0 1.1.9 2 2 2h14c1.1 0 2-.9 2-2V5c0-1.1-.9-2-2-2zM9 17H7v-7h2v7zm4 0h-2V7h2v10zm4 0h-2v-4h2v4z\"/>\n",
              "    </g>\n",
              "</svg>\n",
              "  </button>\n",
              "\n",
              "<style>\n",
              "  .colab-df-quickchart {\n",
              "      --bg-color: #E8F0FE;\n",
              "      --fill-color: #1967D2;\n",
              "      --hover-bg-color: #E2EBFA;\n",
              "      --hover-fill-color: #174EA6;\n",
              "      --disabled-fill-color: #AAA;\n",
              "      --disabled-bg-color: #DDD;\n",
              "  }\n",
              "\n",
              "  [theme=dark] .colab-df-quickchart {\n",
              "      --bg-color: #3B4455;\n",
              "      --fill-color: #D2E3FC;\n",
              "      --hover-bg-color: #434B5C;\n",
              "      --hover-fill-color: #FFFFFF;\n",
              "      --disabled-bg-color: #3B4455;\n",
              "      --disabled-fill-color: #666;\n",
              "  }\n",
              "\n",
              "  .colab-df-quickchart {\n",
              "    background-color: var(--bg-color);\n",
              "    border: none;\n",
              "    border-radius: 50%;\n",
              "    cursor: pointer;\n",
              "    display: none;\n",
              "    fill: var(--fill-color);\n",
              "    height: 32px;\n",
              "    padding: 0;\n",
              "    width: 32px;\n",
              "  }\n",
              "\n",
              "  .colab-df-quickchart:hover {\n",
              "    background-color: var(--hover-bg-color);\n",
              "    box-shadow: 0 1px 2px rgba(60, 64, 67, 0.3), 0 1px 3px 1px rgba(60, 64, 67, 0.15);\n",
              "    fill: var(--button-hover-fill-color);\n",
              "  }\n",
              "\n",
              "  .colab-df-quickchart-complete:disabled,\n",
              "  .colab-df-quickchart-complete:disabled:hover {\n",
              "    background-color: var(--disabled-bg-color);\n",
              "    fill: var(--disabled-fill-color);\n",
              "    box-shadow: none;\n",
              "  }\n",
              "\n",
              "  .colab-df-spinner {\n",
              "    border: 2px solid var(--fill-color);\n",
              "    border-color: transparent;\n",
              "    border-bottom-color: var(--fill-color);\n",
              "    animation:\n",
              "      spin 1s steps(1) infinite;\n",
              "  }\n",
              "\n",
              "  @keyframes spin {\n",
              "    0% {\n",
              "      border-color: transparent;\n",
              "      border-bottom-color: var(--fill-color);\n",
              "      border-left-color: var(--fill-color);\n",
              "    }\n",
              "    20% {\n",
              "      border-color: transparent;\n",
              "      border-left-color: var(--fill-color);\n",
              "      border-top-color: var(--fill-color);\n",
              "    }\n",
              "    30% {\n",
              "      border-color: transparent;\n",
              "      border-left-color: var(--fill-color);\n",
              "      border-top-color: var(--fill-color);\n",
              "      border-right-color: var(--fill-color);\n",
              "    }\n",
              "    40% {\n",
              "      border-color: transparent;\n",
              "      border-right-color: var(--fill-color);\n",
              "      border-top-color: var(--fill-color);\n",
              "    }\n",
              "    60% {\n",
              "      border-color: transparent;\n",
              "      border-right-color: var(--fill-color);\n",
              "    }\n",
              "    80% {\n",
              "      border-color: transparent;\n",
              "      border-right-color: var(--fill-color);\n",
              "      border-bottom-color: var(--fill-color);\n",
              "    }\n",
              "    90% {\n",
              "      border-color: transparent;\n",
              "      border-bottom-color: var(--fill-color);\n",
              "    }\n",
              "  }\n",
              "</style>\n",
              "\n",
              "  <script>\n",
              "    async function quickchart(key) {\n",
              "      const quickchartButtonEl =\n",
              "        document.querySelector('#' + key + ' button');\n",
              "      quickchartButtonEl.disabled = true;  // To prevent multiple clicks.\n",
              "      quickchartButtonEl.classList.add('colab-df-spinner');\n",
              "      try {\n",
              "        const charts = await google.colab.kernel.invokeFunction(\n",
              "            'suggestCharts', [key], {});\n",
              "      } catch (error) {\n",
              "        console.error('Error during call to suggestCharts:', error);\n",
              "      }\n",
              "      quickchartButtonEl.classList.remove('colab-df-spinner');\n",
              "      quickchartButtonEl.classList.add('colab-df-quickchart-complete');\n",
              "    }\n",
              "    (() => {\n",
              "      let quickchartButtonEl =\n",
              "        document.querySelector('#df-60e88d51-535f-403e-affb-7afb14768d3f button');\n",
              "      quickchartButtonEl.style.display =\n",
              "        google.colab.kernel.accessAllowed ? 'block' : 'none';\n",
              "    })();\n",
              "  </script>\n",
              "</div>\n",
              "    </div>\n",
              "  </div>\n"
            ]
          },
          "metadata": {},
          "execution_count": 124
        }
      ]
    },
    {
      "cell_type": "code",
      "source": [
        "precision_mean = np.sum(performance['precision']) / performance.shape[0]\n",
        "recall_mean = np.sum(performance['recall']) / performance.shape[0]\n",
        "f1_mean = np.sum(performance['f1-score']) / performance.shape[0]\n",
        "\n",
        "#print(\"Accuracy:   %.4f\" % (correct_val / total_val))\n",
        "print(\"Precsision: %.4f\" % precision_mean)\n",
        "print(\"Recall:     %.4f\" % recall_mean)\n",
        "print(\"F1-score:   %.4f\" % f1_mean)\n"
      ],
      "metadata": {
        "colab": {
          "base_uri": "https://localhost:8080/"
        },
        "id": "COl5mX7llvJ8",
        "outputId": "d9f4f9a3-a2be-4705-f11e-fcffafba2ed8"
      },
      "execution_count": 125,
      "outputs": [
        {
          "output_type": "stream",
          "name": "stdout",
          "text": [
            "Precsision: 0.9862\n",
            "Recall:     0.9848\n",
            "F1-score:   0.9847\n"
          ]
        }
      ]
    },
    {
      "cell_type": "code",
      "source": [
        "#!!! careful, dont override other models !!!\n",
        "\n",
        "model_path = '/content/drive/My Drive/final_project/models/'\n",
        "\n",
        "\n",
        "#torch.save(model.state_dict(), model_path + 'nn_64_128_64_relu_lr0_01_100e.pt')\n",
        "\n",
        "\n",
        "\n",
        "#Load model\n",
        "\n",
        "#model.load_state_dict(torch.load(file_path+'p2b_0.001.pt'))"
      ],
      "metadata": {
        "id": "aiIQAVLekBgS"
      },
      "execution_count": 126,
      "outputs": []
    }
  ],
  "metadata": {
    "colab": {
      "provenance": [],
      "include_colab_link": true
    },
    "kernelspec": {
      "display_name": "Python 3",
      "name": "python3"
    },
    "language_info": {
      "name": "python"
    }
  },
  "nbformat": 4,
  "nbformat_minor": 0
}