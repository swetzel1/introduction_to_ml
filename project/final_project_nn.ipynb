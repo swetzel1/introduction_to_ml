{
  "cells": [
    {
      "cell_type": "markdown",
      "metadata": {
        "id": "view-in-github",
        "colab_type": "text"
      },
      "source": [
        "<a href=\"https://colab.research.google.com/github/swetzel1/introduction_to_ml/blob/main/project/final_project_nn.ipynb\" target=\"_parent\"><img src=\"https://colab.research.google.com/assets/colab-badge.svg\" alt=\"Open In Colab\"/></a>"
      ]
    },
    {
      "cell_type": "markdown",
      "metadata": {
        "id": "kGpoGHqaEnm1"
      },
      "source": [
        "# Physical Activity Monitoring\n"
      ]
    },
    {
      "cell_type": "code",
      "execution_count": 1,
      "metadata": {
        "id": "UNYWTkWLjDvB"
      },
      "outputs": [],
      "source": [
        "#load libraries\n",
        "\n",
        "import numpy as np\n",
        "import pandas as pd\n",
        "import seaborn as sns\n",
        "\n",
        "from pandas.plotting import scatter_matrix\n",
        "\n",
        "from matplotlib import pyplot as plt\n",
        "\n",
        "from joblib import dump, load\n",
        "\n",
        "from sklearn.model_selection  import train_test_split\n",
        "from sklearn                  import metrics\n",
        "from sklearn.decomposition    import PCA\n",
        "from sklearn.metrics          import confusion_matrix\n",
        "\n",
        "import torch\n",
        "import torch.optim as optim\n",
        "import torch.nn as nn\n",
        "import torch.nn.functional as F\n",
        "\n",
        "from torch.utils.data import DataLoader"
      ]
    },
    {
      "cell_type": "code",
      "execution_count": 2,
      "metadata": {
        "colab": {
          "base_uri": "https://localhost:8080/"
        },
        "id": "CXFErGfvLZNt",
        "outputId": "65a028b9-0827-4a93-9dc5-1b06daad88cd"
      },
      "outputs": [
        {
          "output_type": "stream",
          "name": "stdout",
          "text": [
            "Drive already mounted at /content/drive; to attempt to forcibly remount, call drive.mount(\"/content/drive\", force_remount=True).\n"
          ]
        }
      ],
      "source": [
        "from google.colab import drive\n",
        "drive.mount('/content/drive')"
      ]
    },
    {
      "cell_type": "markdown",
      "metadata": {
        "id": "KZ_rWib9EgST"
      },
      "source": [
        "## Load Data"
      ]
    },
    {
      "cell_type": "code",
      "execution_count": 3,
      "metadata": {
        "id": "wBB2Un4g2WLp"
      },
      "outputs": [],
      "source": [
        "activity_id_dict = {0: 'transient',\n",
        "                    1: 'lying',\n",
        "                    2: 'sitting',\n",
        "                    3: 'standing',\n",
        "                    4: 'walking',\n",
        "                    5: 'running',\n",
        "                    6: 'cycling',\n",
        "                    7: 'Nordic_walking',\n",
        "                    9: 'watching_TV',\n",
        "                    10: 'computer_work',\n",
        "                    11: 'car driving',\n",
        "                    12: 'ascending_stairs',\n",
        "                    13: 'descending_stairs',\n",
        "                    16: 'vacuum_cleaning',\n",
        "                    17: 'ironing',\n",
        "                    18: 'folding_laundry',\n",
        "                    19: 'house_cleaning',\n",
        "                    20: 'playing_soccer',\n",
        "                    24: 'rope_jumping' }\n",
        "\n"
      ]
    },
    {
      "cell_type": "code",
      "source": [
        "#load preprocessed data\n",
        "data_path = '/content/drive/My Drive/final_project/dataset/preprocessed.csv'\n",
        "\n",
        "data = pd.DataFrame(pd.read_csv(data_path))"
      ],
      "metadata": {
        "id": "hjDYk5FvKPT0"
      },
      "execution_count": 4,
      "outputs": []
    },
    {
      "cell_type": "code",
      "source": [
        "data.head()"
      ],
      "metadata": {
        "colab": {
          "base_uri": "https://localhost:8080/",
          "height": 256
        },
        "id": "LlnO8vhRMxMZ",
        "outputId": "cbe10b5a-e50e-459e-87f3-3e7f2dd80325"
      },
      "execution_count": 5,
      "outputs": [
        {
          "output_type": "execute_result",
          "data": {
            "text/plain": [
              "   heartrate  hand_temperature  hand_Acc16_1  hand_Acc16_2  hand_Acc16_3  \\\n",
              "0   0.103448          0.921875      0.545767      0.558313      0.552159   \n",
              "1   0.117241          0.664062      0.586456      0.500008      0.565538   \n",
              "2   0.206897          0.453125      0.598482      0.508803      0.556485   \n",
              "3   0.234483          0.437500      0.522582      0.539130      0.565512   \n",
              "4   0.165517          0.546875      0.600440      0.509517      0.553068   \n",
              "\n",
              "   hand_Gyro1  hand_Gyro2  hand_Gyro3  hand_Magne1  hand_Magne2  ...  \\\n",
              "0    0.513015    0.441780    0.498665     0.388548     0.668452  ...   \n",
              "1    0.512737    0.441200    0.497938     0.499793     0.669392  ...   \n",
              "2    0.512685    0.441971    0.497963     0.461029     0.657385  ...   \n",
              "3    0.511076    0.444953    0.501005     0.375742     0.571248  ...   \n",
              "4    0.512867    0.443044    0.498676     0.418593     0.722963  ...   \n",
              "\n",
              "   ankle_Acc16_1  ankle_Acc16_2  ankle_Acc16_3  ankle_Gyro1  ankle_Gyro2  \\\n",
              "0       0.495432       0.471040       0.486238     0.579315     0.570432   \n",
              "1       0.504800       0.470115       0.503702     0.579566     0.570602   \n",
              "2       0.498404       0.469080       0.502309     0.579900     0.571544   \n",
              "3       0.528230       0.503089       0.495722     0.570374     0.569652   \n",
              "4       0.496763       0.478225       0.477100     0.579329     0.571042   \n",
              "\n",
              "   ankle_Gyro3  ankle_Magne1  ankle_Magne2  ankle_Magne3  activity_id  \n",
              "0     0.459166      0.598851      0.711183      0.386694            1  \n",
              "1     0.459349      0.572424      0.662129      0.358806            1  \n",
              "2     0.460210      0.593281      0.675533      0.376911            1  \n",
              "3     0.462040      0.491398      0.600808      0.641354            1  \n",
              "4     0.458785      0.583292      0.786114      0.415781            1  \n",
              "\n",
              "[5 rows x 32 columns]"
            ],
            "text/html": [
              "\n",
              "  <div id=\"df-4731375b-d2d7-471f-b861-05af832f958b\" class=\"colab-df-container\">\n",
              "    <div>\n",
              "<style scoped>\n",
              "    .dataframe tbody tr th:only-of-type {\n",
              "        vertical-align: middle;\n",
              "    }\n",
              "\n",
              "    .dataframe tbody tr th {\n",
              "        vertical-align: top;\n",
              "    }\n",
              "\n",
              "    .dataframe thead th {\n",
              "        text-align: right;\n",
              "    }\n",
              "</style>\n",
              "<table border=\"1\" class=\"dataframe\">\n",
              "  <thead>\n",
              "    <tr style=\"text-align: right;\">\n",
              "      <th></th>\n",
              "      <th>heartrate</th>\n",
              "      <th>hand_temperature</th>\n",
              "      <th>hand_Acc16_1</th>\n",
              "      <th>hand_Acc16_2</th>\n",
              "      <th>hand_Acc16_3</th>\n",
              "      <th>hand_Gyro1</th>\n",
              "      <th>hand_Gyro2</th>\n",
              "      <th>hand_Gyro3</th>\n",
              "      <th>hand_Magne1</th>\n",
              "      <th>hand_Magne2</th>\n",
              "      <th>...</th>\n",
              "      <th>ankle_Acc16_1</th>\n",
              "      <th>ankle_Acc16_2</th>\n",
              "      <th>ankle_Acc16_3</th>\n",
              "      <th>ankle_Gyro1</th>\n",
              "      <th>ankle_Gyro2</th>\n",
              "      <th>ankle_Gyro3</th>\n",
              "      <th>ankle_Magne1</th>\n",
              "      <th>ankle_Magne2</th>\n",
              "      <th>ankle_Magne3</th>\n",
              "      <th>activity_id</th>\n",
              "    </tr>\n",
              "  </thead>\n",
              "  <tbody>\n",
              "    <tr>\n",
              "      <th>0</th>\n",
              "      <td>0.103448</td>\n",
              "      <td>0.921875</td>\n",
              "      <td>0.545767</td>\n",
              "      <td>0.558313</td>\n",
              "      <td>0.552159</td>\n",
              "      <td>0.513015</td>\n",
              "      <td>0.441780</td>\n",
              "      <td>0.498665</td>\n",
              "      <td>0.388548</td>\n",
              "      <td>0.668452</td>\n",
              "      <td>...</td>\n",
              "      <td>0.495432</td>\n",
              "      <td>0.471040</td>\n",
              "      <td>0.486238</td>\n",
              "      <td>0.579315</td>\n",
              "      <td>0.570432</td>\n",
              "      <td>0.459166</td>\n",
              "      <td>0.598851</td>\n",
              "      <td>0.711183</td>\n",
              "      <td>0.386694</td>\n",
              "      <td>1</td>\n",
              "    </tr>\n",
              "    <tr>\n",
              "      <th>1</th>\n",
              "      <td>0.117241</td>\n",
              "      <td>0.664062</td>\n",
              "      <td>0.586456</td>\n",
              "      <td>0.500008</td>\n",
              "      <td>0.565538</td>\n",
              "      <td>0.512737</td>\n",
              "      <td>0.441200</td>\n",
              "      <td>0.497938</td>\n",
              "      <td>0.499793</td>\n",
              "      <td>0.669392</td>\n",
              "      <td>...</td>\n",
              "      <td>0.504800</td>\n",
              "      <td>0.470115</td>\n",
              "      <td>0.503702</td>\n",
              "      <td>0.579566</td>\n",
              "      <td>0.570602</td>\n",
              "      <td>0.459349</td>\n",
              "      <td>0.572424</td>\n",
              "      <td>0.662129</td>\n",
              "      <td>0.358806</td>\n",
              "      <td>1</td>\n",
              "    </tr>\n",
              "    <tr>\n",
              "      <th>2</th>\n",
              "      <td>0.206897</td>\n",
              "      <td>0.453125</td>\n",
              "      <td>0.598482</td>\n",
              "      <td>0.508803</td>\n",
              "      <td>0.556485</td>\n",
              "      <td>0.512685</td>\n",
              "      <td>0.441971</td>\n",
              "      <td>0.497963</td>\n",
              "      <td>0.461029</td>\n",
              "      <td>0.657385</td>\n",
              "      <td>...</td>\n",
              "      <td>0.498404</td>\n",
              "      <td>0.469080</td>\n",
              "      <td>0.502309</td>\n",
              "      <td>0.579900</td>\n",
              "      <td>0.571544</td>\n",
              "      <td>0.460210</td>\n",
              "      <td>0.593281</td>\n",
              "      <td>0.675533</td>\n",
              "      <td>0.376911</td>\n",
              "      <td>1</td>\n",
              "    </tr>\n",
              "    <tr>\n",
              "      <th>3</th>\n",
              "      <td>0.234483</td>\n",
              "      <td>0.437500</td>\n",
              "      <td>0.522582</td>\n",
              "      <td>0.539130</td>\n",
              "      <td>0.565512</td>\n",
              "      <td>0.511076</td>\n",
              "      <td>0.444953</td>\n",
              "      <td>0.501005</td>\n",
              "      <td>0.375742</td>\n",
              "      <td>0.571248</td>\n",
              "      <td>...</td>\n",
              "      <td>0.528230</td>\n",
              "      <td>0.503089</td>\n",
              "      <td>0.495722</td>\n",
              "      <td>0.570374</td>\n",
              "      <td>0.569652</td>\n",
              "      <td>0.462040</td>\n",
              "      <td>0.491398</td>\n",
              "      <td>0.600808</td>\n",
              "      <td>0.641354</td>\n",
              "      <td>1</td>\n",
              "    </tr>\n",
              "    <tr>\n",
              "      <th>4</th>\n",
              "      <td>0.165517</td>\n",
              "      <td>0.546875</td>\n",
              "      <td>0.600440</td>\n",
              "      <td>0.509517</td>\n",
              "      <td>0.553068</td>\n",
              "      <td>0.512867</td>\n",
              "      <td>0.443044</td>\n",
              "      <td>0.498676</td>\n",
              "      <td>0.418593</td>\n",
              "      <td>0.722963</td>\n",
              "      <td>...</td>\n",
              "      <td>0.496763</td>\n",
              "      <td>0.478225</td>\n",
              "      <td>0.477100</td>\n",
              "      <td>0.579329</td>\n",
              "      <td>0.571042</td>\n",
              "      <td>0.458785</td>\n",
              "      <td>0.583292</td>\n",
              "      <td>0.786114</td>\n",
              "      <td>0.415781</td>\n",
              "      <td>1</td>\n",
              "    </tr>\n",
              "  </tbody>\n",
              "</table>\n",
              "<p>5 rows × 32 columns</p>\n",
              "</div>\n",
              "    <div class=\"colab-df-buttons\">\n",
              "\n",
              "  <div class=\"colab-df-container\">\n",
              "    <button class=\"colab-df-convert\" onclick=\"convertToInteractive('df-4731375b-d2d7-471f-b861-05af832f958b')\"\n",
              "            title=\"Convert this dataframe to an interactive table.\"\n",
              "            style=\"display:none;\">\n",
              "\n",
              "  <svg xmlns=\"http://www.w3.org/2000/svg\" height=\"24px\" viewBox=\"0 -960 960 960\">\n",
              "    <path d=\"M120-120v-720h720v720H120Zm60-500h600v-160H180v160Zm220 220h160v-160H400v160Zm0 220h160v-160H400v160ZM180-400h160v-160H180v160Zm440 0h160v-160H620v160ZM180-180h160v-160H180v160Zm440 0h160v-160H620v160Z\"/>\n",
              "  </svg>\n",
              "    </button>\n",
              "\n",
              "  <style>\n",
              "    .colab-df-container {\n",
              "      display:flex;\n",
              "      gap: 12px;\n",
              "    }\n",
              "\n",
              "    .colab-df-convert {\n",
              "      background-color: #E8F0FE;\n",
              "      border: none;\n",
              "      border-radius: 50%;\n",
              "      cursor: pointer;\n",
              "      display: none;\n",
              "      fill: #1967D2;\n",
              "      height: 32px;\n",
              "      padding: 0 0 0 0;\n",
              "      width: 32px;\n",
              "    }\n",
              "\n",
              "    .colab-df-convert:hover {\n",
              "      background-color: #E2EBFA;\n",
              "      box-shadow: 0px 1px 2px rgba(60, 64, 67, 0.3), 0px 1px 3px 1px rgba(60, 64, 67, 0.15);\n",
              "      fill: #174EA6;\n",
              "    }\n",
              "\n",
              "    .colab-df-buttons div {\n",
              "      margin-bottom: 4px;\n",
              "    }\n",
              "\n",
              "    [theme=dark] .colab-df-convert {\n",
              "      background-color: #3B4455;\n",
              "      fill: #D2E3FC;\n",
              "    }\n",
              "\n",
              "    [theme=dark] .colab-df-convert:hover {\n",
              "      background-color: #434B5C;\n",
              "      box-shadow: 0px 1px 3px 1px rgba(0, 0, 0, 0.15);\n",
              "      filter: drop-shadow(0px 1px 2px rgba(0, 0, 0, 0.3));\n",
              "      fill: #FFFFFF;\n",
              "    }\n",
              "  </style>\n",
              "\n",
              "    <script>\n",
              "      const buttonEl =\n",
              "        document.querySelector('#df-4731375b-d2d7-471f-b861-05af832f958b button.colab-df-convert');\n",
              "      buttonEl.style.display =\n",
              "        google.colab.kernel.accessAllowed ? 'block' : 'none';\n",
              "\n",
              "      async function convertToInteractive(key) {\n",
              "        const element = document.querySelector('#df-4731375b-d2d7-471f-b861-05af832f958b');\n",
              "        const dataTable =\n",
              "          await google.colab.kernel.invokeFunction('convertToInteractive',\n",
              "                                                    [key], {});\n",
              "        if (!dataTable) return;\n",
              "\n",
              "        const docLinkHtml = 'Like what you see? Visit the ' +\n",
              "          '<a target=\"_blank\" href=https://colab.research.google.com/notebooks/data_table.ipynb>data table notebook</a>'\n",
              "          + ' to learn more about interactive tables.';\n",
              "        element.innerHTML = '';\n",
              "        dataTable['output_type'] = 'display_data';\n",
              "        await google.colab.output.renderOutput(dataTable, element);\n",
              "        const docLink = document.createElement('div');\n",
              "        docLink.innerHTML = docLinkHtml;\n",
              "        element.appendChild(docLink);\n",
              "      }\n",
              "    </script>\n",
              "  </div>\n",
              "\n",
              "\n",
              "<div id=\"df-8da95679-3586-45d2-bb12-3c8132223ea4\">\n",
              "  <button class=\"colab-df-quickchart\" onclick=\"quickchart('df-8da95679-3586-45d2-bb12-3c8132223ea4')\"\n",
              "            title=\"Suggest charts\"\n",
              "            style=\"display:none;\">\n",
              "\n",
              "<svg xmlns=\"http://www.w3.org/2000/svg\" height=\"24px\"viewBox=\"0 0 24 24\"\n",
              "     width=\"24px\">\n",
              "    <g>\n",
              "        <path d=\"M19 3H5c-1.1 0-2 .9-2 2v14c0 1.1.9 2 2 2h14c1.1 0 2-.9 2-2V5c0-1.1-.9-2-2-2zM9 17H7v-7h2v7zm4 0h-2V7h2v10zm4 0h-2v-4h2v4z\"/>\n",
              "    </g>\n",
              "</svg>\n",
              "  </button>\n",
              "\n",
              "<style>\n",
              "  .colab-df-quickchart {\n",
              "      --bg-color: #E8F0FE;\n",
              "      --fill-color: #1967D2;\n",
              "      --hover-bg-color: #E2EBFA;\n",
              "      --hover-fill-color: #174EA6;\n",
              "      --disabled-fill-color: #AAA;\n",
              "      --disabled-bg-color: #DDD;\n",
              "  }\n",
              "\n",
              "  [theme=dark] .colab-df-quickchart {\n",
              "      --bg-color: #3B4455;\n",
              "      --fill-color: #D2E3FC;\n",
              "      --hover-bg-color: #434B5C;\n",
              "      --hover-fill-color: #FFFFFF;\n",
              "      --disabled-bg-color: #3B4455;\n",
              "      --disabled-fill-color: #666;\n",
              "  }\n",
              "\n",
              "  .colab-df-quickchart {\n",
              "    background-color: var(--bg-color);\n",
              "    border: none;\n",
              "    border-radius: 50%;\n",
              "    cursor: pointer;\n",
              "    display: none;\n",
              "    fill: var(--fill-color);\n",
              "    height: 32px;\n",
              "    padding: 0;\n",
              "    width: 32px;\n",
              "  }\n",
              "\n",
              "  .colab-df-quickchart:hover {\n",
              "    background-color: var(--hover-bg-color);\n",
              "    box-shadow: 0 1px 2px rgba(60, 64, 67, 0.3), 0 1px 3px 1px rgba(60, 64, 67, 0.15);\n",
              "    fill: var(--button-hover-fill-color);\n",
              "  }\n",
              "\n",
              "  .colab-df-quickchart-complete:disabled,\n",
              "  .colab-df-quickchart-complete:disabled:hover {\n",
              "    background-color: var(--disabled-bg-color);\n",
              "    fill: var(--disabled-fill-color);\n",
              "    box-shadow: none;\n",
              "  }\n",
              "\n",
              "  .colab-df-spinner {\n",
              "    border: 2px solid var(--fill-color);\n",
              "    border-color: transparent;\n",
              "    border-bottom-color: var(--fill-color);\n",
              "    animation:\n",
              "      spin 1s steps(1) infinite;\n",
              "  }\n",
              "\n",
              "  @keyframes spin {\n",
              "    0% {\n",
              "      border-color: transparent;\n",
              "      border-bottom-color: var(--fill-color);\n",
              "      border-left-color: var(--fill-color);\n",
              "    }\n",
              "    20% {\n",
              "      border-color: transparent;\n",
              "      border-left-color: var(--fill-color);\n",
              "      border-top-color: var(--fill-color);\n",
              "    }\n",
              "    30% {\n",
              "      border-color: transparent;\n",
              "      border-left-color: var(--fill-color);\n",
              "      border-top-color: var(--fill-color);\n",
              "      border-right-color: var(--fill-color);\n",
              "    }\n",
              "    40% {\n",
              "      border-color: transparent;\n",
              "      border-right-color: var(--fill-color);\n",
              "      border-top-color: var(--fill-color);\n",
              "    }\n",
              "    60% {\n",
              "      border-color: transparent;\n",
              "      border-right-color: var(--fill-color);\n",
              "    }\n",
              "    80% {\n",
              "      border-color: transparent;\n",
              "      border-right-color: var(--fill-color);\n",
              "      border-bottom-color: var(--fill-color);\n",
              "    }\n",
              "    90% {\n",
              "      border-color: transparent;\n",
              "      border-bottom-color: var(--fill-color);\n",
              "    }\n",
              "  }\n",
              "</style>\n",
              "\n",
              "  <script>\n",
              "    async function quickchart(key) {\n",
              "      const quickchartButtonEl =\n",
              "        document.querySelector('#' + key + ' button');\n",
              "      quickchartButtonEl.disabled = true;  // To prevent multiple clicks.\n",
              "      quickchartButtonEl.classList.add('colab-df-spinner');\n",
              "      try {\n",
              "        const charts = await google.colab.kernel.invokeFunction(\n",
              "            'suggestCharts', [key], {});\n",
              "      } catch (error) {\n",
              "        console.error('Error during call to suggestCharts:', error);\n",
              "      }\n",
              "      quickchartButtonEl.classList.remove('colab-df-spinner');\n",
              "      quickchartButtonEl.classList.add('colab-df-quickchart-complete');\n",
              "    }\n",
              "    (() => {\n",
              "      let quickchartButtonEl =\n",
              "        document.querySelector('#df-8da95679-3586-45d2-bb12-3c8132223ea4 button');\n",
              "      quickchartButtonEl.style.display =\n",
              "        google.colab.kernel.accessAllowed ? 'block' : 'none';\n",
              "    })();\n",
              "  </script>\n",
              "</div>\n",
              "    </div>\n",
              "  </div>\n"
            ]
          },
          "metadata": {},
          "execution_count": 5
        }
      ]
    },
    {
      "cell_type": "code",
      "source": [
        "#map activity id\n",
        "\n",
        "activity_id_mapping= {1 :0,\n",
        "                      2 :1,\n",
        "                      3 :2,\n",
        "                      4 :3,\n",
        "                      5 :4,\n",
        "                      6 :5,\n",
        "                      7 :6,\n",
        "                     12 :7,\n",
        "                     16 :8,\n",
        "                     13 :9,\n",
        "                     17 :10,\n",
        "                     24 :11 }\n",
        "\n",
        "data['activity_id'] = data['activity_id'].map(activity_id_mapping)\n",
        "\n",
        "inv_activity_id_mapping = {v: k for k, v in activity_id_mapping.items()}"
      ],
      "metadata": {
        "id": "RVJvzLbssH1D"
      },
      "execution_count": 6,
      "outputs": []
    },
    {
      "cell_type": "code",
      "source": [
        "#split x,y\n",
        "col = data.columns\n",
        "x_cols = col[1:]\n",
        "\n",
        "y_df = data['activity_id']\n",
        "x_df = data[x_cols]\n",
        "\n",
        "x_np =x_df.to_numpy()\n",
        "y_np =y_df.to_numpy()\n"
      ],
      "metadata": {
        "id": "HfcHw8FyO1Yd"
      },
      "execution_count": 7,
      "outputs": []
    },
    {
      "cell_type": "code",
      "execution_count": 8,
      "metadata": {
        "id": "nvXoy8-vGN9H"
      },
      "outputs": [],
      "source": [
        "#PCA\n",
        "k = 15 #optimal value to be found\n",
        "pca = PCA(n_components=k)\n",
        "\n",
        "x_pc = pca.fit_transform(x_np)"
      ]
    },
    {
      "cell_type": "code",
      "source": [
        "#to tensor\n",
        "\n",
        "x = torch.tensor(x_pc, dtype=torch.float32)\n",
        "y = torch.tensor(y_np, dtype=torch.long)"
      ],
      "metadata": {
        "id": "N9cR7dLLdE5g"
      },
      "execution_count": 9,
      "outputs": []
    },
    {
      "cell_type": "code",
      "source": [
        "#split train & val\n",
        "x_train, x_val, y_train, y_val = train_test_split(x, y, train_size = 0.8, test_size = 0.2, random_state = 100)"
      ],
      "metadata": {
        "id": "avK5oqiZd_yp"
      },
      "execution_count": 10,
      "outputs": []
    },
    {
      "cell_type": "code",
      "source": [
        "y_train[:10]"
      ],
      "metadata": {
        "colab": {
          "base_uri": "https://localhost:8080/"
        },
        "id": "ciImsmj8ezFe",
        "outputId": "f69d91d4-7d74-4db5-bc5e-c61058ad9e6d"
      },
      "execution_count": 11,
      "outputs": [
        {
          "output_type": "execute_result",
          "data": {
            "text/plain": [
              "tensor([9, 2, 7, 5, 0, 2, 6, 1, 4, 0])"
            ]
          },
          "metadata": {},
          "execution_count": 11
        }
      ]
    },
    {
      "cell_type": "markdown",
      "metadata": {
        "id": "KcLFUGrb2kiF"
      },
      "source": [
        "# Neural Network"
      ]
    },
    {
      "cell_type": "code",
      "source": [
        "#pseudo model\n",
        "'''\n",
        "input_dim  = 15  # number of principal components\n",
        "output_dim = 12\n",
        "\n",
        "n_layer1 = 128\n",
        "\n",
        "model = nn.Sequential(\n",
        "            nn.Linear(input_dim, n_layer1), #layer 1\n",
        "            nn.Tanh(),\n",
        "            nn.Linear(n_layer1, output_dim),\n",
        "            nn.LogSoftmax(dim=1))\n",
        "'''\n",
        "\n",
        "#proper model\n",
        "\n",
        "input_dim  = 15  # input features\n",
        "output_dim = 12  # no. of activities\n",
        "\n",
        "n_layer1 = 64\n",
        "n_layer2 = 128\n",
        "n_layer3 = 64\n",
        "\n",
        "model = nn.Sequential(\n",
        "            nn.Linear(input_dim, n_layer1), #layer 1\n",
        "            nn.Tanh(),\n",
        "            nn.Linear(n_layer1, n_layer2), # layer 2\n",
        "            nn.Tanh(),\n",
        "            nn.Linear(n_layer2, n_layer3), # layer 3\n",
        "            nn.Tanh(),\n",
        "            nn.Linear(n_layer3, output_dim),\n",
        "            nn.LogSoftmax(dim=1))"
      ],
      "metadata": {
        "id": "E8d_g2nbfrpG"
      },
      "execution_count": 28,
      "outputs": []
    },
    {
      "cell_type": "code",
      "execution_count": 29,
      "metadata": {
        "id": "QnNf5Fi43lcx"
      },
      "outputs": [],
      "source": [
        "#Data Loader\n",
        "batch_size   = 500\n",
        "train_loader = DataLoader(list(zip(x_train, y_train)), shuffle=True, batch_size=batch_size)"
      ]
    },
    {
      "cell_type": "code",
      "source": [
        "learning_rate = 0.01\n",
        "n_epochs = 20\n",
        "\n",
        "optimizer = optim.SGD(model.parameters(), lr=learning_rate)\n",
        "loss_fn = nn.NLLLoss()\n",
        "\n",
        "\n",
        "for epoch in range(n_epochs):\n",
        "    for x_batch, y_batch in train_loader:\n",
        "\n",
        "        y_pred = model(x_batch)\n",
        "        loss = loss_fn(y_pred, y_batch)\n",
        "\n",
        "\n",
        "        optimizer.zero_grad()\n",
        "        loss.backward()\n",
        "        optimizer.step()\n",
        "\n",
        "    print(\"Epoch: %d, Loss: %f\" % (epoch, float(loss)))"
      ],
      "metadata": {
        "colab": {
          "base_uri": "https://localhost:8080/"
        },
        "id": "B96DuXkmfplB",
        "outputId": "dda60152-1641-413e-cbd1-c43b930e2fb1"
      },
      "execution_count": 30,
      "outputs": [
        {
          "output_type": "stream",
          "name": "stdout",
          "text": [
            "Epoch: 0, Loss: 0.548734\n",
            "Epoch: 1, Loss: 0.148801\n",
            "Epoch: 2, Loss: 0.058222\n",
            "Epoch: 3, Loss: 0.031299\n",
            "Epoch: 4, Loss: 0.020635\n",
            "Epoch: 5, Loss: 0.013891\n",
            "Epoch: 6, Loss: 0.010962\n",
            "Epoch: 7, Loss: 0.008713\n",
            "Epoch: 8, Loss: 0.007863\n",
            "Epoch: 9, Loss: 0.006516\n",
            "Epoch: 10, Loss: 0.005594\n",
            "Epoch: 11, Loss: 0.004906\n",
            "Epoch: 12, Loss: 0.004338\n",
            "Epoch: 13, Loss: 0.004086\n",
            "Epoch: 14, Loss: 0.003705\n",
            "Epoch: 15, Loss: 0.003376\n",
            "Epoch: 16, Loss: 0.003220\n",
            "Epoch: 17, Loss: 0.003000\n",
            "Epoch: 18, Loss: 0.002765\n",
            "Epoch: 19, Loss: 0.002506\n"
          ]
        }
      ]
    },
    {
      "cell_type": "code",
      "source": [
        "batch_size   = 500\n",
        "val_loader = DataLoader(list(zip(x_val, y_val)), shuffle=True, batch_size=batch_size)\n",
        "\n",
        "\n",
        "nb_classes = 12\n",
        "cnf_matrix = torch.zeros(nb_classes, nb_classes)\n",
        "\n",
        "with torch.no_grad():\n",
        "    for x_batch, y_batch in val_loader:\n",
        "\n",
        "\n",
        "        y_pred = model(x_batch)\n",
        "        _, preds = torch.max(y_pred, 1)\n",
        "\n",
        "        for t, p in zip(y_batch.view(-1), preds.view(-1)):\n",
        "                cnf_matrix[t.long(), p.long()] += 1\n"
      ],
      "metadata": {
        "id": "bcAedpYkw9EY"
      },
      "execution_count": 31,
      "outputs": []
    },
    {
      "cell_type": "code",
      "source": [
        "'''\n",
        "batch_size   = 1\n",
        "val_loader = DataLoader(list(zip(x_val, y_val)), shuffle=True, batch_size=batch_size)\n",
        "\n",
        "\n",
        "with torch.no_grad():\n",
        "    for x_batch, y_batch in val_loader:\n",
        "\n",
        "        #print(x_batch)\n",
        "        print('ground thruth:', y_batch)\n",
        "\n",
        "\n",
        "        y_pred = model(x_batch)\n",
        "\n",
        "        print(y_pred)\n",
        "\n",
        "\n",
        "        _, preds = torch.max(y_pred, 1)\n",
        "\n",
        "        print('predicted:', preds)\n",
        "\n",
        "        break\n",
        "'''"
      ],
      "metadata": {
        "colab": {
          "base_uri": "https://localhost:8080/"
        },
        "id": "V7BTbzfFArz0",
        "outputId": "9ca0ff6d-616f-4a32-c974-327b0587c602"
      },
      "execution_count": 27,
      "outputs": [
        {
          "output_type": "stream",
          "name": "stdout",
          "text": [
            "ground thruth: tensor([9])\n",
            "tensor([[-51.0191, -42.6056, -32.1880, -24.7715, -22.0733, -15.6742, -13.8127,\n",
            "          -8.9371,  -3.2695,  -0.0764,  -3.3525,  -7.9203]])\n",
            "predicted: tensor([9])\n"
          ]
        }
      ]
    },
    {
      "cell_type": "code",
      "source": [
        "# create heatmap\n",
        "class_names = list(range(0,12,1))\n",
        "class_names = [inv_activity_id_mapping.get(x) for x in class_names]\n",
        "class_names = [activity_id_dict.get(x) for x in class_names]\n",
        "\n",
        "fig, ax = plt.subplots(figsize=(9,7))\n",
        "sns.heatmap(pd.DataFrame(cnf_matrix), annot=True, cmap=\"YlGnBu\" ,fmt='g',linewidths=0.5, xticklabels=class_names, yticklabels=class_names, ax=ax)\n",
        "\n",
        "plt.title('Confusion matrix')\n",
        "plt.ylabel('Actual label')\n",
        "plt.xlabel('Predicted label')"
      ],
      "metadata": {
        "colab": {
          "base_uri": "https://localhost:8080/",
          "height": 770
        },
        "id": "R_5ICIl7xoDu",
        "outputId": "ea6bf849-e445-4087-cfd3-d54084862756"
      },
      "execution_count": 32,
      "outputs": [
        {
          "output_type": "execute_result",
          "data": {
            "text/plain": [
              "Text(0.5, 47.5815972222222, 'Predicted label')"
            ]
          },
          "metadata": {},
          "execution_count": 32
        },
        {
          "output_type": "display_data",
          "data": {
            "text/plain": [
              "<Figure size 900x700 with 2 Axes>"
            ],
            "image/png": "[encoded data removed]"
          },
          "metadata": {}
        }
      ]
    }
  ],
  "metadata": {
    "colab": {
      "provenance": [],
      "include_colab_link": true
    },
    "kernelspec": {
      "display_name": "Python 3",
      "name": "python3"
    },
    "language_info": {
      "name": "python"
    }
  },
  "nbformat": 4,
  "nbformat_minor": 0
}